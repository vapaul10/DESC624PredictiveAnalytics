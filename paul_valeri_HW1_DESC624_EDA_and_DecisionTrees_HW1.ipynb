{
  "nbformat": 4,
  "nbformat_minor": 0,
  "metadata": {
    "colab": {
      "name": "paul_valeri_HW1_DESC624_EDA_and_DecisionTrees_HW1.ipynb",
      "provenance": [],
      "collapsed_sections": [
        "BY7fk4zTLAKp",
        "M-YavnWULjv7",
        "c7OL8ssaMG-N",
        "iCwVI9mDL0O6",
        "8FWhABonMiUI",
        "RLPJ3liUMupz",
        "PAUUEvaeNFR9"
      ],
      "include_colab_link": true
    },
    "kernelspec": {
      "name": "python3",
      "display_name": "Python 3"
    },
    "language_info": {
      "name": "python"
    }
  },
  "cells": [
    {
      "cell_type": "markdown",
      "metadata": {
        "id": "view-in-github",
        "colab_type": "text"
      },
      "source": [
        "<a href=\"https://colab.research.google.com/github/vapaul10/DESC624PredictiveAnalytics/blob/Homework/paul_valeri_HW1_DESC624_EDA_and_DecisionTrees_HW1.ipynb\" target=\"_parent\"><img src=\"https://colab.research.google.com/assets/colab-badge.svg\" alt=\"Open In Colab\"/></a>"
      ]
    },
    {
      "cell_type": "markdown",
      "metadata": {
        "id": "RgcSPnoafO2o"
      },
      "source": [
        "**DESC 624 - EDA and Decision Tree Notebook**\n",
        "\n",
        "HW #1"
      ]
    },
    {
      "cell_type": "markdown",
      "metadata": {
        "id": "p9Yv-bdDKxxt"
      },
      "source": [
        "This notebook will contain both R and nearly equivalent Python code.  Pick the code you prefer to work with and make adjustments to that code as you move through the notebook. \n",
        "\n",
        "1. Remember to execute code as you go along by hitting the play button. \n",
        "2. Do not run things out of order.  You need to run things in sequence\n",
        "3. If you pick Python, do **NOT** execute R blocks, if you pick R, do **NOT**  execute the Python blocks\n",
        "4. Exception to 3., run everything in Section 1 for both R and Python (this way you have the environments properly set up for both)\n",
        "5. Please make a copy of this notebook to **YOUR** Google Drive. \n",
        "  File -> Save a Copy in Drive\n",
        "6. You will submit the actual notebook, so I can run it and you will submit a PDF version (File -> Print) of the complete notebook in which you have executed each coding block.\n",
        "7. Please name your notebook and PDF version in the following way:\n",
        "\n",
        "  HW1_lastname_firstname.ipynb for the notebook\n",
        "\n",
        "  HW1_lastname_firstname.pdf for the PDF \n",
        "\n",
        "\n",
        "\n"
      ]
    },
    {
      "cell_type": "markdown",
      "metadata": {
        "id": "UdP0dRFggBfF"
      },
      "source": [
        "You must use %%R at the top of each notebook block in order for the code to be interpreted as R code. \n",
        "\n",
        "\"#\" before or after code is a comment\n",
        "\n",
        "If you do not specify %%R at the top of the notebook block, the notebook will interpret the code as Python code.  \n",
        "\n",
        "You are welcome to use whatever your prefer or both Python and R to do the work.  If you pick one or the other, before you finalize and submit your workbook, please delete the blocks of code you did not use (i.e., If you pick Python, delete all of the R code blocks)\n",
        "\n",
        "You MUST use \n",
        "\"#!pip install rpy2\"\n",
        "\"%load_ext rpy2.ipython\"\n",
        "\n",
        "Before any R code is executed. Notice how this block of code does NOT contain a %%R at the top. "
      ]
    },
    {
      "cell_type": "code",
      "metadata": {
        "id": "BNOQq6DSEX3N",
        "colab": {
          "base_uri": "https://localhost:8080/",
          "height": 0
        },
        "outputId": "921a8a42-e512-47c2-f950-65b1d579cfbc"
      },
      "source": [
        "#!pip3 install rpy2\n",
        "%load_ext rpy2.ipython"
      ],
      "execution_count": 425,
      "outputs": [
        {
          "output_type": "stream",
          "text": [
            "The rpy2.ipython extension is already loaded. To reload it, use:\n",
            "  %reload_ext rpy2.ipython\n"
          ],
          "name": "stdout"
        }
      ]
    },
    {
      "cell_type": "code",
      "metadata": {
        "id": "7cNC4iuudIj_",
        "colab": {
          "base_uri": "https://localhost:8080/",
          "height": 0
        },
        "outputId": "80425311-27d5-43e3-fb47-13a325cb09aa"
      },
      "source": [
        "!apt-get install default-jre\n",
        "!java -version"
      ],
      "execution_count": 426,
      "outputs": [
        {
          "output_type": "stream",
          "text": [
            "Reading package lists... Done\n",
            "Building dependency tree       \n",
            "Reading state information... Done\n",
            "default-jre is already the newest version (2:1.11-68ubuntu1~18.04.1).\n",
            "The following package was automatically installed and is no longer required:\n",
            "  libnvidia-common-460\n",
            "Use 'apt autoremove' to remove it.\n",
            "0 upgraded, 0 newly installed, 0 to remove and 34 not upgraded.\n",
            "openjdk version \"11.0.11\" 2021-04-20\n",
            "OpenJDK Runtime Environment (build 11.0.11+9-Ubuntu-0ubuntu2.18.04)\n",
            "OpenJDK 64-Bit Server VM (build 11.0.11+9-Ubuntu-0ubuntu2.18.04, mixed mode, sharing)\n"
          ],
          "name": "stdout"
        }
      ]
    },
    {
      "cell_type": "markdown",
      "metadata": {
        "id": "BY7fk4zTLAKp"
      },
      "source": [
        "#**I. R Setup Sections** "
      ]
    },
    {
      "cell_type": "code",
      "metadata": {
        "id": "6GEkJXmWkncm"
      },
      "source": [
        "%%R\n",
        "#I. Setup ---------------------------------------------------\n",
        "\n",
        "#Load Packages\n",
        "\n",
        "a <- installed.packages()\n",
        "pkgs <- rownames(a)\n",
        "\n",
        "\n",
        "#Packages used in today's examples:\n",
        "if(\"tidyverse\" %in% pkgs == FALSE){\n",
        "  install.packages(\"tidyverse\")\n",
        "}\n",
        "if(\"stringr\" %in% pkgs == FALSE){\n",
        "  install.packages(\"stringr\")\n",
        "}\n",
        "if(\"ggplot2\" %in% pkgs == FALSE){\n",
        "  install.packages(\"ggplot2\")\n",
        "}\n",
        "if(\"ggExtra\" %in% pkgs == FALSE){\n",
        "  install.packages(\"ggExtra\")\n",
        "}\n",
        "if(\"directlabels\" %in% pkgs == FALSE){\n",
        "  install.packages(\"directlabels\")\n",
        "}\n",
        "if(\"data.table\" %in% pkgs == FALSE){\n",
        "  install.packages(\"data.table\")\n",
        "}\n",
        "if(\"ROCR\" %in% pkgs == FALSE){\n",
        "  install.packages(\"ROCR\")\n",
        "}\n",
        "if(\"GGally\" %in% pkgs == FALSE) {\n",
        "  install.packages(\"GGally\")\n",
        "}\n",
        "if(\"gridExtra\" %in% pkgs == FALSE) {\n",
        "  install.packages(\"gridExtra\")\n",
        "}\n",
        "if(\"grid\" %in% pkgs == FALSE) {\n",
        "  install.packages(\"grid\")\n",
        "}\n",
        "if(\"rpart.plot\" %in% pkgs == FALSE) {\n",
        "  install.packages(\"rpart.plot\")\n",
        "}\n",
        "if(\"rpart\" %in% pkgs==FALSE) {\n",
        "  install.packages(\"rpart\")  \n",
        "}\n",
        "\n",
        "require(dplyr)\n",
        "require(tidyverse)\n",
        "require(stringr)\n",
        "require(ggplot2)\n",
        "require(ggExtra)\n",
        "require(directlabels)\n",
        "require(data.table)\n",
        "require(ROCR)\n",
        "require(gridExtra)\n",
        "require(grid)\n",
        "require(rpart)\n",
        "require(rpart.plot)\n",
        "require(GGally)\n",
        "\n"
      ],
      "execution_count": 427,
      "outputs": []
    },
    {
      "cell_type": "code",
      "metadata": {
        "id": "35v9Etg11cvD",
        "colab": {
          "base_uri": "https://localhost:8080/",
          "height": 0
        },
        "outputId": "a749bdef-6f04-4dc3-a5e8-d783daf0da3b"
      },
      "source": [
        "%%R\n",
        "\n",
        "#H2o is the Machine Learning package we will be using. It has both an R implementation and a Python implemenation. \n",
        "#The h2o.init() is commented out below because we are not going to use it for this HW. \n",
        "\n",
        "install.packages(\"h2o\")\n",
        "require(h2o)\n",
        "\n",
        "#h2o.init()\n",
        "#h2o.shutdown()"
      ],
      "execution_count": 428,
      "outputs": [
        {
          "output_type": "stream",
          "text": [
            "R[write to console]: Installing package into ‘/usr/local/lib/R/site-library’\n",
            "(as ‘lib’ is unspecified)\n",
            "\n",
            "R[write to console]: trying URL 'https://cran.rstudio.com/src/contrib/h2o_3.32.1.3.tar.gz'\n",
            "\n",
            "R[write to console]: Content type 'application/x-gzip'\n",
            "R[write to console]:  length 562882 bytes (549 KB)\n",
            "\n",
            "R[write to console]: =\n",
            "R[write to console]: =\n",
            "R[write to console]: =\n",
            "R[write to console]: =\n",
            "R[write to console]: =\n",
            "R[write to console]: =\n",
            "R[write to console]: =\n",
            "R[write to console]: =\n",
            "R[write to console]: =\n",
            "R[write to console]: =\n",
            "R[write to console]: =\n",
            "R[write to console]: =\n",
            "R[write to console]: =\n",
            "R[write to console]: =\n",
            "R[write to console]: =\n",
            "R[write to console]: =\n",
            "R[write to console]: =\n",
            "R[write to console]: =\n",
            "R[write to console]: =\n",
            "R[write to console]: =\n",
            "R[write to console]: =\n",
            "R[write to console]: =\n",
            "R[write to console]: =\n",
            "R[write to console]: =\n",
            "R[write to console]: =\n",
            "R[write to console]: =\n",
            "R[write to console]: =\n",
            "R[write to console]: =\n",
            "R[write to console]: =\n",
            "R[write to console]: =\n",
            "R[write to console]: =\n",
            "R[write to console]: =\n",
            "R[write to console]: =\n",
            "R[write to console]: =\n",
            "R[write to console]: =\n",
            "R[write to console]: =\n",
            "R[write to console]: =\n",
            "R[write to console]: =\n",
            "R[write to console]: =\n",
            "R[write to console]: =\n",
            "R[write to console]: =\n",
            "R[write to console]: =\n",
            "R[write to console]: =\n",
            "R[write to console]: =\n",
            "R[write to console]: =\n",
            "R[write to console]: =\n",
            "R[write to console]: =\n",
            "R[write to console]: =\n",
            "R[write to console]: =\n",
            "R[write to console]: =\n",
            "R[write to console]: \n",
            "\n",
            "R[write to console]: downloaded 549 KB\n",
            "\n",
            "\n",
            "R[write to console]: \n",
            "\n",
            "R[write to console]: \n",
            "R[write to console]: The downloaded source packages are in\n",
            "\t‘/tmp/RtmphIPbUT/downloaded_packages’\n",
            "R[write to console]: \n",
            "R[write to console]: \n",
            "\n"
          ],
          "name": "stderr"
        }
      ]
    },
    {
      "cell_type": "markdown",
      "metadata": {
        "id": "iJvKgu44LLn2"
      },
      "source": [
        "#**I. Python Setup Section**"
      ]
    },
    {
      "cell_type": "code",
      "metadata": {
        "id": "kygGrrqgyfrZ"
      },
      "source": [
        "##Python Packages\n",
        "import pandas as pd\n",
        "from sklearn import tree\n",
        "import pydotplus\n",
        "from sklearn.tree import DecisionTreeClassifier\n",
        "import matplotlib.pyplot as plt\n",
        "import matplotlib.image as pltimg\n",
        "import seaborn as sn\n",
        "import numpy as np\n",
        "from scipy import stats"
      ],
      "execution_count": 429,
      "outputs": []
    },
    {
      "cell_type": "code",
      "metadata": {
        "id": "LYcHvAlX0Cru",
        "colab": {
          "base_uri": "https://localhost:8080/",
          "height": 0
        },
        "outputId": "ff00c5f6-3b0c-431d-f674-34b560fcab14"
      },
      "source": [
        "#Install python datatable which is the same as data.table() in R\n",
        "!pip install datatable\n",
        "import datatable as dt\n",
        "\n",
        "from datatable import (dt, f, by, ifelse, update, sort,\n",
        "                       count, min, max, mean, sum, rowsum)"
      ],
      "execution_count": 430,
      "outputs": [
        {
          "output_type": "stream",
          "text": [
            "Requirement already satisfied: datatable in /usr/local/lib/python3.7/dist-packages (0.11.1)\n"
          ],
          "name": "stdout"
        }
      ]
    },
    {
      "cell_type": "code",
      "metadata": {
        "id": "crFvhSnv1EdB",
        "colab": {
          "base_uri": "https://localhost:8080/",
          "height": 0
        },
        "outputId": "d568debc-f7f8-4e7c-fd72-a1fd48fb77a2"
      },
      "source": [
        "#Python h2o\n",
        "\n",
        "#h2o is the Machine Learning package we will be using. It has both an R implementation and a Python implemenation. \n",
        "#The h2o.init() is commented out below because we are not going to use it for this HW.  You can only have on instance (either Python or R)\n",
        "#of h2o running in any one session. \n",
        "\n",
        "! pip install h2o\n",
        "\n",
        "import h2o\n",
        "\n",
        "#h2o.init()\n",
        "#h2o.shutdown()"
      ],
      "execution_count": 431,
      "outputs": [
        {
          "output_type": "stream",
          "text": [
            "Requirement already satisfied: h2o in /usr/local/lib/python3.7/dist-packages (3.32.1.3)\n",
            "Requirement already satisfied: future in /usr/local/lib/python3.7/dist-packages (from h2o) (0.16.0)\n",
            "Requirement already satisfied: colorama>=0.3.8 in /usr/local/lib/python3.7/dist-packages (from h2o) (0.4.4)\n",
            "Requirement already satisfied: tabulate in /usr/local/lib/python3.7/dist-packages (from h2o) (0.8.9)\n",
            "Requirement already satisfied: requests in /usr/local/lib/python3.7/dist-packages (from h2o) (2.23.0)\n",
            "Requirement already satisfied: idna<3,>=2.5 in /usr/local/lib/python3.7/dist-packages (from requests->h2o) (2.10)\n",
            "Requirement already satisfied: chardet<4,>=3.0.2 in /usr/local/lib/python3.7/dist-packages (from requests->h2o) (3.0.4)\n",
            "Requirement already satisfied: urllib3!=1.25.0,!=1.25.1,<1.26,>=1.21.1 in /usr/local/lib/python3.7/dist-packages (from requests->h2o) (1.24.3)\n",
            "Requirement already satisfied: certifi>=2017.4.17 in /usr/local/lib/python3.7/dist-packages (from requests->h2o) (2020.12.5)\n"
          ],
          "name": "stdout"
        }
      ]
    },
    {
      "cell_type": "markdown",
      "metadata": {
        "id": "M-YavnWULjv7"
      },
      "source": [
        "#**II. R Data Loading**"
      ]
    },
    {
      "cell_type": "markdown",
      "metadata": {
        "id": "yrYzFDAueXsN"
      },
      "source": [
        "You can use the lines of code to read in the raw data directly from a zip file from the UCI Machine Learning Repository.\n",
        "\n",
        "I am going to help you with this for other data files we will look at together. \n",
        "\n",
        "\n",
        "fread() is a general purpose processing tool that converts ASCII character text files into an R data object. "
      ]
    },
    {
      "cell_type": "markdown",
      "metadata": {
        "id": "Yqsl-xdhgjCO"
      },
      "source": [
        "I have put certain files in my github as raw .csv files.  \n",
        "\n",
        "fread() can be used to process these directly. "
      ]
    },
    {
      "cell_type": "code",
      "metadata": {
        "id": "UeiHz9OKIuwN",
        "colab": {
          "base_uri": "https://localhost:8080/"
        },
        "outputId": "bbae0b43-56c2-4a4e-960e-d3ebc8d0b3d6"
      },
      "source": [
        "%%R\n",
        "\n",
        "#You will notice that the data is different than what we have been working on in class. \n",
        "#This data is from the same source, but has different features\n",
        "\n",
        "bank <- fread(\"https://raw.githubusercontent.com/jjghockey/DESC624/main/bank-full.csv\", stringsAsFactors=TRUE)\n",
        "head(bank)"
      ],
      "execution_count": null,
      "outputs": [
        {
          "output_type": "stream",
          "text": [
            " [0%] Downloaded 1378 bytes...\n",
            " [0%] Downloaded 2756 bytes...\n",
            " [0%] Downloaded 4134 bytes...\n",
            " [1%] Downloaded 5512 bytes...\n",
            " [1%] Downloaded 6890 bytes...\n",
            " [1%] Downloaded 8268 bytes...\n",
            " [1%] Downloaded 9646 bytes...\n",
            " [2%] Downloaded 11024 bytes...\n",
            " [2%] Downloaded 12402 bytes...\n",
            " [2%] Downloaded 13780 bytes...\n",
            " [2%] Downloaded 15158 bytes...\n",
            " [3%] Downloaded 16536 bytes...\n",
            " [3%] Downloaded 17914 bytes...\n",
            " [3%] Downloaded 19292 bytes...\n",
            " [4%] Downloaded 20670 bytes...\n",
            " [4%] Downloaded 22048 bytes...\n",
            " [4%] Downloaded 23426 bytes...\n",
            " [4%] Downloaded 24804 bytes...\n",
            " [5%] Downloaded 26182 bytes...\n",
            " [5%] Downloaded 27560 bytes...\n",
            " [5%] Downloaded 28938 bytes...\n",
            " [5%] Downloaded 30316 bytes...\n",
            " [6%] Downloaded 31694 bytes...\n",
            " [6%] Downloaded 33072 bytes...\n",
            " [6%] Downloaded 34450 bytes...\n",
            " [6%] Downloaded 35828 bytes...\n",
            " [7%] Downloaded 37206 bytes...\n",
            " [7%] Downloaded 38584 bytes...\n",
            " [7%] Downloaded 39962 bytes...\n",
            " [8%] Downloaded 41340 bytes...\n",
            " [8%] Downloaded 42718 bytes...\n",
            " [8%] Downloaded 44096 bytes...\n",
            " [8%] Downloaded 45474 bytes...\n",
            " [9%] Downloaded 46852 bytes...\n",
            " [9%] Downloaded 48230 bytes...\n",
            " [9%] Downloaded 49608 bytes...\n",
            " [9%] Downloaded 50986 bytes...\n",
            " [10%] Downloaded 52364 bytes...\n",
            " [10%] Downloaded 53742 bytes...\n",
            " [10%] Downloaded 55120 bytes...\n",
            " [10%] Downloaded 56498 bytes...\n",
            " [11%] Downloaded 57876 bytes...\n",
            " [11%] Downloaded 59254 bytes...\n",
            " [11%] Downloaded 60632 bytes...\n",
            " [12%] Downloaded 62010 bytes...\n",
            " [12%] Downloaded 63388 bytes...\n",
            " [12%] Downloaded 64766 bytes...\n",
            " [12%] Downloaded 66144 bytes...\n",
            " [13%] Downloaded 67522 bytes...\n",
            " [13%] Downloaded 68900 bytes...\n",
            " [13%] Downloaded 70278 bytes...\n",
            " [13%] Downloaded 71656 bytes...\n",
            " [14%] Downloaded 73034 bytes...\n",
            " [14%] Downloaded 74412 bytes...\n",
            " [14%] Downloaded 75790 bytes...\n",
            " [15%] Downloaded 77168 bytes...\n",
            " [15%] Downloaded 78546 bytes...\n",
            " [15%] Downloaded 79924 bytes...\n",
            " [15%] Downloaded 81302 bytes...\n",
            " [16%] Downloaded 82680 bytes...\n",
            " [16%] Downloaded 84058 bytes...\n",
            " [16%] Downloaded 85436 bytes...\n",
            " [16%] Downloaded 86814 bytes...\n",
            " [17%] Downloaded 88192 bytes...\n",
            " [17%] Downloaded 89570 bytes...\n",
            " [17%] Downloaded 90948 bytes...\n",
            " [17%] Downloaded 92326 bytes...\n",
            " [18%] Downloaded 93704 bytes...\n",
            " [18%] Downloaded 95082 bytes...\n",
            " [18%] Downloaded 96460 bytes...\n",
            " [19%] Downloaded 97838 bytes...\n",
            " [19%] Downloaded 99216 bytes...\n",
            " [19%] Downloaded 100594 bytes...\n",
            " [19%] Downloaded 101972 bytes...\n",
            " [20%] Downloaded 103350 bytes...\n",
            " [20%] Downloaded 104728 bytes...\n",
            " [20%] Downloaded 106106 bytes...\n",
            " [20%] Downloaded 107484 bytes...\n",
            " [21%] Downloaded 108862 bytes...\n",
            " [21%] Downloaded 110240 bytes...\n",
            " [21%] Downloaded 111618 bytes...\n",
            " [21%] Downloaded 112996 bytes...\n",
            " [22%] Downloaded 114374 bytes...\n",
            " [22%] Downloaded 115752 bytes...\n",
            " [22%] Downloaded 117130 bytes...\n",
            " [23%] Downloaded 118508 bytes...\n",
            " [23%] Downloaded 119886 bytes...\n",
            " [23%] Downloaded 121264 bytes...\n",
            " [23%] Downloaded 122642 bytes...\n",
            " [24%] Downloaded 124020 bytes...\n",
            " [24%] Downloaded 125398 bytes...\n",
            " [24%] Downloaded 126776 bytes...\n",
            " [24%] Downloaded 128154 bytes...\n",
            " [25%] Downloaded 129532 bytes...\n",
            " [25%] Downloaded 130910 bytes...\n",
            " [25%] Downloaded 132288 bytes...\n",
            " [25%] Downloaded 133666 bytes...\n",
            " [26%] Downloaded 135044 bytes...\n",
            " [26%] Downloaded 136422 bytes...\n",
            " [26%] Downloaded 137800 bytes...\n",
            " [27%] Downloaded 139178 bytes...\n",
            " [27%] Downloaded 140556 bytes...\n",
            " [27%] Downloaded 141934 bytes...\n",
            " [27%] Downloaded 143312 bytes...\n",
            " [28%] Downloaded 144690 bytes...\n",
            " [28%] Downloaded 146068 bytes...\n",
            " [28%] Downloaded 147446 bytes...\n",
            " [28%] Downloaded 148824 bytes...\n",
            " [29%] Downloaded 150202 bytes...\n",
            " [29%] Downloaded 151580 bytes...\n",
            " [29%] Downloaded 152958 bytes...\n",
            " [30%] Downloaded 154336 bytes...\n",
            " [30%] Downloaded 155714 bytes...\n",
            " [30%] Downloaded 157092 bytes...\n",
            " [30%] Downloaded 158470 bytes...\n",
            " [31%] Downloaded 159848 bytes...\n",
            " [31%] Downloaded 161226 bytes...\n",
            " [31%] Downloaded 162604 bytes...\n",
            " [31%] Downloaded 163982 bytes...\n",
            " [32%] Downloaded 165360 bytes...\n",
            " [32%] Downloaded 166738 bytes...\n",
            " [32%] Downloaded 168116 bytes...\n",
            " [32%] Downloaded 169494 bytes...\n",
            " [33%] Downloaded 170872 bytes...\n",
            " [33%] Downloaded 172250 bytes...\n",
            " [33%] Downloaded 173628 bytes...\n",
            " [34%] Downloaded 175006 bytes...\n",
            " [34%] Downloaded 176384 bytes...\n",
            " [34%] Downloaded 177762 bytes...\n",
            " [34%] Downloaded 179140 bytes...\n",
            " [35%] Downloaded 180518 bytes...\n",
            " [35%] Downloaded 181896 bytes...\n",
            " [35%] Downloaded 183274 bytes...\n",
            " [35%] Downloaded 184652 bytes...\n",
            " [36%] Downloaded 186030 bytes...\n",
            " [36%] Downloaded 187408 bytes...\n",
            " [36%] Downloaded 188786 bytes...\n",
            " [36%] Downloaded 190164 bytes...\n",
            " [37%] Downloaded 191542 bytes...\n",
            " [37%] Downloaded 192920 bytes...\n",
            " [37%] Downloaded 194298 bytes...\n",
            " [38%] Downloaded 195676 bytes...\n",
            " [38%] Downloaded 197054 bytes...\n",
            " [38%] Downloaded 198432 bytes...\n",
            " [38%] Downloaded 199810 bytes...\n",
            " [39%] Downloaded 201188 bytes...\n",
            " [39%] Downloaded 202566 bytes...\n",
            " [39%] Downloaded 203944 bytes...\n",
            " [39%] Downloaded 205322 bytes...\n",
            " [40%] Downloaded 206700 bytes...\n",
            " [40%] Downloaded 208078 bytes...\n",
            " [40%] Downloaded 209456 bytes...\n",
            " [40%] Downloaded 210834 bytes...\n",
            " [41%] Downloaded 212212 bytes...\n",
            " [41%] Downloaded 213590 bytes...\n",
            " [41%] Downloaded 214968 bytes...\n",
            " [42%] Downloaded 216346 bytes...\n",
            " [42%] Downloaded 217724 bytes...\n",
            " [42%] Downloaded 218391 bytes...\n",
            " [45%] Downloaded 234775 bytes...\n",
            " [48%] Downloaded 251159 bytes...\n",
            " [52%] Downloaded 267543 bytes...\n",
            " [55%] Downloaded 283927 bytes...\n",
            " [58%] Downloaded 300311 bytes...\n",
            " [61%] Downloaded 316695 bytes...\n",
            " [64%] Downloaded 333079 bytes...\n",
            " [67%] Downloaded 349463 bytes...\n",
            " [71%] Downloaded 365847 bytes...\n",
            " [74%] Downloaded 382231 bytes...\n",
            " [77%] Downloaded 398615 bytes...\n",
            " [80%] Downloaded 414999 bytes...\n",
            " [83%] Downloaded 431383 bytes...\n",
            " [85%] Downloaded 437655 bytes...\n",
            " [88%] Downloaded 454039 bytes...\n",
            " [91%] Downloaded 470423 bytes...\n",
            " [94%] Downloaded 486807 bytes...\n",
            " [97%] Downloaded 503191 bytes...\n",
            " [100%] Downloaded 514252 bytes...\n",
            "R[write to console]: \n",
            "\n"
          ],
          "name": "stderr"
        },
        {
          "output_type": "stream",
          "text": [
            "   age          job marital education default balance housing loan contact day\n",
            "1:  58   management married  tertiary      no    2143     yes   no unknown   5\n",
            "2:  44   technician  single secondary      no      29     yes   no unknown   5\n",
            "3:  33 entrepreneur married secondary      no       2     yes  yes unknown   5\n",
            "4:  47  blue-collar married   unknown      no    1506     yes   no unknown   5\n",
            "5:  33      unknown  single   unknown      no       1      no   no unknown   5\n",
            "6:  35   management married  tertiary      no     231     yes   no unknown   5\n",
            "   month duration campaign pdays previous poutcome  y\n",
            "1:   may      261        1    -1        0  unknown no\n",
            "2:   may      151        1    -1        0  unknown no\n",
            "3:   may       76        1    -1        0  unknown no\n",
            "4:   may       92        1    -1        0  unknown no\n",
            "5:   may      198        1    -1        0  unknown no\n",
            "6:   may      139        1    -1        0  unknown no\n"
          ],
          "name": "stdout"
        }
      ]
    },
    {
      "cell_type": "markdown",
      "metadata": {
        "id": "c7OL8ssaMG-N"
      },
      "source": [
        "#**II. Python Data Loading**"
      ]
    },
    {
      "cell_type": "code",
      "metadata": {
        "id": "UiS2yuvi0Awz",
        "colab": {
          "base_uri": "https://localhost:8080/",
          "height": 0
        },
        "outputId": "bea60139-b47f-4ca2-830c-0f29e79385e2"
      },
      "source": [
        "#Data Load in Python\n",
        "bank_p = dt.fread(\"https://raw.githubusercontent.com/jjghockey/DESC624/main/bank-full.csv\")\n",
        "bank_p.head()"
      ],
      "execution_count": 432,
      "outputs": [
        {
          "output_type": "stream",
          "text": [
            "   | age  job           marital   education  default  balance  housing  loan  contact  …  pdays  previous  poutcome  y \n",
            "-- + ---  ------------  --------  ---------  -------  -------  -------  ----  -------     -----  --------  --------  --\n",
            " 0 |  58  management    married   tertiary   no          2143  yes      no    unknown  …     -1         0  unknown   no\n",
            " 1 |  44  technician    single    secondary  no            29  yes      no    unknown  …     -1         0  unknown   no\n",
            " 2 |  33  entrepreneur  married   secondary  no             2  yes      yes   unknown  …     -1         0  unknown   no\n",
            " 3 |  47  blue-collar   married   unknown    no          1506  yes      no    unknown  …     -1         0  unknown   no\n",
            " 4 |  33  unknown       single    unknown    no             1  no       no    unknown  …     -1         0  unknown   no\n",
            " 5 |  35  management    married   tertiary   no           231  yes      no    unknown  …     -1         0  unknown   no\n",
            " 6 |  28  management    single    tertiary   no           447  yes      yes   unknown  …     -1         0  unknown   no\n",
            " 7 |  42  entrepreneur  divorced  tertiary   yes            2  yes      no    unknown  …     -1         0  unknown   no\n",
            " 8 |  58  retired       married   primary    no           121  yes      no    unknown  …     -1         0  unknown   no\n",
            " 9 |  43  technician    single    secondary  no           593  yes      no    unknown  …     -1         0  unknown   no\n",
            "\n",
            "[10 rows x 17 columns]\n"
          ],
          "name": "stdout"
        },
        {
          "output_type": "execute_result",
          "data": {
            "text/html": [
              "<div class='datatable'>\n",
              "  <table class='frame'>\n",
              "  <thead>\n",
              "    <tr class='colnames'><td class='row_index'></td><th>age</th><th>job</th><th>marital</th><th>education</th><th>default</th><th>balance</th><th>housing</th><th>loan</th><th>contact</th><th>day</th><th class='vellipsis'>&hellip;</th><th>campaign</th><th>pdays</th><th>previous</th><th>poutcome</th><th>y</th></tr>\n",
              "    <tr class='coltypes'><td class='row_index'></td><td class='int' title='int32'>&#x25AA;&#x25AA;&#x25AA;&#x25AA;</td><td class='str' title='str32'>&#x25AA;&#x25AA;&#x25AA;&#x25AA;</td><td class='str' title='str32'>&#x25AA;&#x25AA;&#x25AA;&#x25AA;</td><td class='str' title='str32'>&#x25AA;&#x25AA;&#x25AA;&#x25AA;</td><td class='str' title='str32'>&#x25AA;&#x25AA;&#x25AA;&#x25AA;</td><td class='int' title='int32'>&#x25AA;&#x25AA;&#x25AA;&#x25AA;</td><td class='str' title='str32'>&#x25AA;&#x25AA;&#x25AA;&#x25AA;</td><td class='str' title='str32'>&#x25AA;&#x25AA;&#x25AA;&#x25AA;</td><td class='str' title='str32'>&#x25AA;&#x25AA;&#x25AA;&#x25AA;</td><td class='int' title='int32'>&#x25AA;&#x25AA;&#x25AA;&#x25AA;</td><td></td><td class='int' title='int32'>&#x25AA;&#x25AA;&#x25AA;&#x25AA;</td><td class='int' title='int32'>&#x25AA;&#x25AA;&#x25AA;&#x25AA;</td><td class='int' title='int32'>&#x25AA;&#x25AA;&#x25AA;&#x25AA;</td><td class='str' title='str32'>&#x25AA;&#x25AA;&#x25AA;&#x25AA;</td><td class='str' title='str32'>&#x25AA;&#x25AA;&#x25AA;&#x25AA;</td></tr>\n",
              "  </thead>\n",
              "  <tbody>\n",
              "    <tr><td class='row_index'>0</td><td>58</td><td>management</td><td>married</td><td>tertiary</td><td>no</td><td>2143</td><td>yes</td><td>no</td><td>unknown</td><td>5</td><td class=vellipsis>&hellip;</td><td>1</td><td>&minus;1</td><td>0</td><td>unknown</td><td>no</td></tr>\n",
              "    <tr><td class='row_index'>1</td><td>44</td><td>technician</td><td>single</td><td>secondary</td><td>no</td><td>29</td><td>yes</td><td>no</td><td>unknown</td><td>5</td><td class=vellipsis>&hellip;</td><td>1</td><td>&minus;1</td><td>0</td><td>unknown</td><td>no</td></tr>\n",
              "    <tr><td class='row_index'>2</td><td>33</td><td>entrepreneur</td><td>married</td><td>secondary</td><td>no</td><td>2</td><td>yes</td><td>yes</td><td>unknown</td><td>5</td><td class=vellipsis>&hellip;</td><td>1</td><td>&minus;1</td><td>0</td><td>unknown</td><td>no</td></tr>\n",
              "    <tr><td class='row_index'>3</td><td>47</td><td>blue-collar</td><td>married</td><td>unknown</td><td>no</td><td>1506</td><td>yes</td><td>no</td><td>unknown</td><td>5</td><td class=vellipsis>&hellip;</td><td>1</td><td>&minus;1</td><td>0</td><td>unknown</td><td>no</td></tr>\n",
              "    <tr><td class='row_index'>4</td><td>33</td><td>unknown</td><td>single</td><td>unknown</td><td>no</td><td>1</td><td>no</td><td>no</td><td>unknown</td><td>5</td><td class=vellipsis>&hellip;</td><td>1</td><td>&minus;1</td><td>0</td><td>unknown</td><td>no</td></tr>\n",
              "    <tr><td class='row_index'>5</td><td>35</td><td>management</td><td>married</td><td>tertiary</td><td>no</td><td>231</td><td>yes</td><td>no</td><td>unknown</td><td>5</td><td class=vellipsis>&hellip;</td><td>1</td><td>&minus;1</td><td>0</td><td>unknown</td><td>no</td></tr>\n",
              "    <tr><td class='row_index'>6</td><td>28</td><td>management</td><td>single</td><td>tertiary</td><td>no</td><td>447</td><td>yes</td><td>yes</td><td>unknown</td><td>5</td><td class=vellipsis>&hellip;</td><td>1</td><td>&minus;1</td><td>0</td><td>unknown</td><td>no</td></tr>\n",
              "    <tr><td class='row_index'>7</td><td>42</td><td>entrepreneur</td><td>divorced</td><td>tertiary</td><td>yes</td><td>2</td><td>yes</td><td>no</td><td>unknown</td><td>5</td><td class=vellipsis>&hellip;</td><td>1</td><td>&minus;1</td><td>0</td><td>unknown</td><td>no</td></tr>\n",
              "    <tr><td class='row_index'>8</td><td>58</td><td>retired</td><td>married</td><td>primary</td><td>no</td><td>121</td><td>yes</td><td>no</td><td>unknown</td><td>5</td><td class=vellipsis>&hellip;</td><td>1</td><td>&minus;1</td><td>0</td><td>unknown</td><td>no</td></tr>\n",
              "    <tr><td class='row_index'>9</td><td>43</td><td>technician</td><td>single</td><td>secondary</td><td>no</td><td>593</td><td>yes</td><td>no</td><td>unknown</td><td>5</td><td class=vellipsis>&hellip;</td><td>1</td><td>&minus;1</td><td>0</td><td>unknown</td><td>no</td></tr>\n",
              "  </tbody>\n",
              "  </table>\n",
              "  <div class='footer'>\n",
              "    <div class='frame_dimensions'>10 rows &times; 17 columns</div>\n",
              "  </div>\n",
              "</div>\n"
            ],
            "text/plain": [
              ""
            ]
          },
          "metadata": {
            "tags": []
          },
          "execution_count": 432
        }
      ]
    },
    {
      "cell_type": "markdown",
      "metadata": {
        "id": "iCwVI9mDL0O6"
      },
      "source": [
        "#**III. R Data Exploration** "
      ]
    },
    {
      "cell_type": "code",
      "metadata": {
        "id": "XTOG6MYLm-vA"
      },
      "source": [
        "%%R\n",
        "#III. Data Exploration -----------------------------------------\n",
        "#A. File Structure\n",
        "str(bank)\n",
        "#B. Basic Summary \n",
        "summary(bank)\n"
      ],
      "execution_count": null,
      "outputs": []
    },
    {
      "cell_type": "markdown",
      "metadata": {
        "id": "8FWhABonMiUI"
      },
      "source": [
        "#**III. Python Data Exploration**"
      ]
    },
    {
      "cell_type": "markdown",
      "metadata": {
        "id": "ATWf9oEV8PYh"
      },
      "source": [
        "Pythons function for summary() only uses numeric values, so you will have to build categorical tables on your own."
      ]
    },
    {
      "cell_type": "code",
      "metadata": {
        "id": "1sFvlpsM_Gef",
        "colab": {
          "base_uri": "https://localhost:8080/",
          "height": 0
        },
        "outputId": "6d170bb5-64c3-4380-d273-629f388a7881"
      },
      "source": [
        "bank_p.names"
      ],
      "execution_count": 433,
      "outputs": [
        {
          "output_type": "execute_result",
          "data": {
            "text/plain": [
              "('age',\n",
              " 'job',\n",
              " 'marital',\n",
              " 'education',\n",
              " 'default',\n",
              " 'balance',\n",
              " 'housing',\n",
              " 'loan',\n",
              " 'contact',\n",
              " 'day',\n",
              " 'month',\n",
              " 'duration',\n",
              " 'campaign',\n",
              " 'pdays',\n",
              " 'previous',\n",
              " 'poutcome',\n",
              " 'y')"
            ]
          },
          "metadata": {
            "tags": []
          },
          "execution_count": 433
        }
      ]
    },
    {
      "cell_type": "markdown",
      "metadata": {
        "id": "W5v-36OO_35Y"
      },
      "source": [
        "Categorical tables using python"
      ]
    },
    {
      "cell_type": "code",
      "metadata": {
        "id": "3dftnVrP8cTH",
        "colab": {
          "base_uri": "https://localhost:8080/",
          "height": 0
        },
        "outputId": "4477a429-eb4f-4932-9388-f6400740c6f7"
      },
      "source": [
        "bank_p['count'] = 1  #Build a new variable in order to count rows in the data\n",
        "bank_p[f.y==\"yes\",'y1']=1\n",
        "bank_p[f.y==\"no\",'y1']=0\n",
        "\n",
        "bank_p[:, sum(f.count), by('y', 'y1')]  #Recode y into a 0/1 dummy variable. this is for classification later."
      ],
      "execution_count": 434,
      "outputs": [
        {
          "output_type": "stream",
          "text": [
            "   | y    y1  count\n",
            "-- + ---  --  -----\n",
            " 0 | no    0  39922\n",
            " 1 | yes   1   5289\n",
            "\n",
            "[2 rows x 3 columns]\n"
          ],
          "name": "stdout"
        },
        {
          "output_type": "execute_result",
          "data": {
            "text/html": [
              "<div class='datatable'>\n",
              "  <table class='frame'>\n",
              "  <thead>\n",
              "    <tr class='colnames'><td class='row_index'></td><th>y</th><th>y1</th><th>count</th></tr>\n",
              "    <tr class='coltypes'><td class='row_index'></td><td class='str' title='str32'>&#x25AA;&#x25AA;&#x25AA;&#x25AA;</td><td class='int' title='int32'>&#x25AA;&#x25AA;&#x25AA;&#x25AA;</td><td class='int' title='int64'>&#x25AA;&#x25AA;&#x25AA;&#x25AA;&#x25AA;&#x25AA;&#x25AA;&#x25AA;</td></tr>\n",
              "  </thead>\n",
              "  <tbody>\n",
              "    <tr><td class='row_index'>0</td><td>no</td><td>0</td><td>39922</td></tr>\n",
              "    <tr><td class='row_index'>1</td><td>yes</td><td>1</td><td>5289</td></tr>\n",
              "  </tbody>\n",
              "  </table>\n",
              "  <div class='footer'>\n",
              "    <div class='frame_dimensions'>2 rows &times; 3 columns</div>\n",
              "  </div>\n",
              "</div>\n"
            ],
            "text/plain": [
              ""
            ]
          },
          "metadata": {
            "tags": []
          },
          "execution_count": 434
        }
      ]
    },
    {
      "cell_type": "code",
      "metadata": {
        "id": "K1xxQe4I42uv",
        "colab": {
          "base_uri": "https://localhost:8080/",
          "height": 0
        },
        "outputId": "8918ab86-a059-4a0b-8e13-6df2846cb94f"
      },
      "source": [
        "bank_pd=bank_p.to_pandas()     #Use this to convert a datatable object into a pandas object. \n",
        "summary = bank_pd.describe()\n",
        "summary = summary.transpose()\n",
        "summary"
      ],
      "execution_count": 435,
      "outputs": [
        {
          "output_type": "execute_result",
          "data": {
            "text/html": [
              "<div>\n",
              "<style scoped>\n",
              "    .dataframe tbody tr th:only-of-type {\n",
              "        vertical-align: middle;\n",
              "    }\n",
              "\n",
              "    .dataframe tbody tr th {\n",
              "        vertical-align: top;\n",
              "    }\n",
              "\n",
              "    .dataframe thead th {\n",
              "        text-align: right;\n",
              "    }\n",
              "</style>\n",
              "<table border=\"1\" class=\"dataframe\">\n",
              "  <thead>\n",
              "    <tr style=\"text-align: right;\">\n",
              "      <th></th>\n",
              "      <th>count</th>\n",
              "      <th>mean</th>\n",
              "      <th>std</th>\n",
              "      <th>min</th>\n",
              "      <th>25%</th>\n",
              "      <th>50%</th>\n",
              "      <th>75%</th>\n",
              "      <th>max</th>\n",
              "    </tr>\n",
              "  </thead>\n",
              "  <tbody>\n",
              "    <tr>\n",
              "      <th>age</th>\n",
              "      <td>45211.0</td>\n",
              "      <td>40.936210</td>\n",
              "      <td>10.618762</td>\n",
              "      <td>18.0</td>\n",
              "      <td>33.0</td>\n",
              "      <td>39.0</td>\n",
              "      <td>48.0</td>\n",
              "      <td>95.0</td>\n",
              "    </tr>\n",
              "    <tr>\n",
              "      <th>balance</th>\n",
              "      <td>45211.0</td>\n",
              "      <td>1362.272058</td>\n",
              "      <td>3044.765829</td>\n",
              "      <td>-8019.0</td>\n",
              "      <td>72.0</td>\n",
              "      <td>448.0</td>\n",
              "      <td>1428.0</td>\n",
              "      <td>102127.0</td>\n",
              "    </tr>\n",
              "    <tr>\n",
              "      <th>day</th>\n",
              "      <td>45211.0</td>\n",
              "      <td>15.806419</td>\n",
              "      <td>8.322476</td>\n",
              "      <td>1.0</td>\n",
              "      <td>8.0</td>\n",
              "      <td>16.0</td>\n",
              "      <td>21.0</td>\n",
              "      <td>31.0</td>\n",
              "    </tr>\n",
              "    <tr>\n",
              "      <th>duration</th>\n",
              "      <td>45211.0</td>\n",
              "      <td>258.163080</td>\n",
              "      <td>257.527812</td>\n",
              "      <td>0.0</td>\n",
              "      <td>103.0</td>\n",
              "      <td>180.0</td>\n",
              "      <td>319.0</td>\n",
              "      <td>4918.0</td>\n",
              "    </tr>\n",
              "    <tr>\n",
              "      <th>campaign</th>\n",
              "      <td>45211.0</td>\n",
              "      <td>2.763841</td>\n",
              "      <td>3.098021</td>\n",
              "      <td>1.0</td>\n",
              "      <td>1.0</td>\n",
              "      <td>2.0</td>\n",
              "      <td>3.0</td>\n",
              "      <td>63.0</td>\n",
              "    </tr>\n",
              "    <tr>\n",
              "      <th>pdays</th>\n",
              "      <td>45211.0</td>\n",
              "      <td>40.197828</td>\n",
              "      <td>100.128746</td>\n",
              "      <td>-1.0</td>\n",
              "      <td>-1.0</td>\n",
              "      <td>-1.0</td>\n",
              "      <td>-1.0</td>\n",
              "      <td>871.0</td>\n",
              "    </tr>\n",
              "    <tr>\n",
              "      <th>previous</th>\n",
              "      <td>45211.0</td>\n",
              "      <td>0.580323</td>\n",
              "      <td>2.303441</td>\n",
              "      <td>0.0</td>\n",
              "      <td>0.0</td>\n",
              "      <td>0.0</td>\n",
              "      <td>0.0</td>\n",
              "      <td>275.0</td>\n",
              "    </tr>\n",
              "    <tr>\n",
              "      <th>count</th>\n",
              "      <td>45211.0</td>\n",
              "      <td>1.000000</td>\n",
              "      <td>0.000000</td>\n",
              "      <td>1.0</td>\n",
              "      <td>1.0</td>\n",
              "      <td>1.0</td>\n",
              "      <td>1.0</td>\n",
              "      <td>1.0</td>\n",
              "    </tr>\n",
              "    <tr>\n",
              "      <th>y1</th>\n",
              "      <td>45211.0</td>\n",
              "      <td>0.116985</td>\n",
              "      <td>0.321406</td>\n",
              "      <td>0.0</td>\n",
              "      <td>0.0</td>\n",
              "      <td>0.0</td>\n",
              "      <td>0.0</td>\n",
              "      <td>1.0</td>\n",
              "    </tr>\n",
              "  </tbody>\n",
              "</table>\n",
              "</div>"
            ],
            "text/plain": [
              "            count         mean          std  ...    50%     75%       max\n",
              "age       45211.0    40.936210    10.618762  ...   39.0    48.0      95.0\n",
              "balance   45211.0  1362.272058  3044.765829  ...  448.0  1428.0  102127.0\n",
              "day       45211.0    15.806419     8.322476  ...   16.0    21.0      31.0\n",
              "duration  45211.0   258.163080   257.527812  ...  180.0   319.0    4918.0\n",
              "campaign  45211.0     2.763841     3.098021  ...    2.0     3.0      63.0\n",
              "pdays     45211.0    40.197828   100.128746  ...   -1.0    -1.0     871.0\n",
              "previous  45211.0     0.580323     2.303441  ...    0.0     0.0     275.0\n",
              "count     45211.0     1.000000     0.000000  ...    1.0     1.0       1.0\n",
              "y1        45211.0     0.116985     0.321406  ...    0.0     0.0       1.0\n",
              "\n",
              "[9 rows x 8 columns]"
            ]
          },
          "metadata": {
            "tags": []
          },
          "execution_count": 435
        }
      ]
    },
    {
      "cell_type": "code",
      "metadata": {
        "id": "WH0DqPLNCQA_",
        "colab": {
          "base_uri": "https://localhost:8080/",
          "height": 0
        },
        "outputId": "4f433db7-5340-4c73-be92-d3de948c8e44"
      },
      "source": [
        "bank_pd.head()"
      ],
      "execution_count": 436,
      "outputs": [
        {
          "output_type": "execute_result",
          "data": {
            "text/html": [
              "<div>\n",
              "<style scoped>\n",
              "    .dataframe tbody tr th:only-of-type {\n",
              "        vertical-align: middle;\n",
              "    }\n",
              "\n",
              "    .dataframe tbody tr th {\n",
              "        vertical-align: top;\n",
              "    }\n",
              "\n",
              "    .dataframe thead th {\n",
              "        text-align: right;\n",
              "    }\n",
              "</style>\n",
              "<table border=\"1\" class=\"dataframe\">\n",
              "  <thead>\n",
              "    <tr style=\"text-align: right;\">\n",
              "      <th></th>\n",
              "      <th>age</th>\n",
              "      <th>job</th>\n",
              "      <th>marital</th>\n",
              "      <th>education</th>\n",
              "      <th>default</th>\n",
              "      <th>balance</th>\n",
              "      <th>housing</th>\n",
              "      <th>loan</th>\n",
              "      <th>contact</th>\n",
              "      <th>day</th>\n",
              "      <th>month</th>\n",
              "      <th>duration</th>\n",
              "      <th>campaign</th>\n",
              "      <th>pdays</th>\n",
              "      <th>previous</th>\n",
              "      <th>poutcome</th>\n",
              "      <th>y</th>\n",
              "      <th>count</th>\n",
              "      <th>y1</th>\n",
              "    </tr>\n",
              "  </thead>\n",
              "  <tbody>\n",
              "    <tr>\n",
              "      <th>0</th>\n",
              "      <td>58</td>\n",
              "      <td>management</td>\n",
              "      <td>married</td>\n",
              "      <td>tertiary</td>\n",
              "      <td>no</td>\n",
              "      <td>2143</td>\n",
              "      <td>yes</td>\n",
              "      <td>no</td>\n",
              "      <td>unknown</td>\n",
              "      <td>5</td>\n",
              "      <td>may</td>\n",
              "      <td>261</td>\n",
              "      <td>1</td>\n",
              "      <td>-1</td>\n",
              "      <td>0</td>\n",
              "      <td>unknown</td>\n",
              "      <td>no</td>\n",
              "      <td>1</td>\n",
              "      <td>0</td>\n",
              "    </tr>\n",
              "    <tr>\n",
              "      <th>1</th>\n",
              "      <td>44</td>\n",
              "      <td>technician</td>\n",
              "      <td>single</td>\n",
              "      <td>secondary</td>\n",
              "      <td>no</td>\n",
              "      <td>29</td>\n",
              "      <td>yes</td>\n",
              "      <td>no</td>\n",
              "      <td>unknown</td>\n",
              "      <td>5</td>\n",
              "      <td>may</td>\n",
              "      <td>151</td>\n",
              "      <td>1</td>\n",
              "      <td>-1</td>\n",
              "      <td>0</td>\n",
              "      <td>unknown</td>\n",
              "      <td>no</td>\n",
              "      <td>1</td>\n",
              "      <td>0</td>\n",
              "    </tr>\n",
              "    <tr>\n",
              "      <th>2</th>\n",
              "      <td>33</td>\n",
              "      <td>entrepreneur</td>\n",
              "      <td>married</td>\n",
              "      <td>secondary</td>\n",
              "      <td>no</td>\n",
              "      <td>2</td>\n",
              "      <td>yes</td>\n",
              "      <td>yes</td>\n",
              "      <td>unknown</td>\n",
              "      <td>5</td>\n",
              "      <td>may</td>\n",
              "      <td>76</td>\n",
              "      <td>1</td>\n",
              "      <td>-1</td>\n",
              "      <td>0</td>\n",
              "      <td>unknown</td>\n",
              "      <td>no</td>\n",
              "      <td>1</td>\n",
              "      <td>0</td>\n",
              "    </tr>\n",
              "    <tr>\n",
              "      <th>3</th>\n",
              "      <td>47</td>\n",
              "      <td>blue-collar</td>\n",
              "      <td>married</td>\n",
              "      <td>unknown</td>\n",
              "      <td>no</td>\n",
              "      <td>1506</td>\n",
              "      <td>yes</td>\n",
              "      <td>no</td>\n",
              "      <td>unknown</td>\n",
              "      <td>5</td>\n",
              "      <td>may</td>\n",
              "      <td>92</td>\n",
              "      <td>1</td>\n",
              "      <td>-1</td>\n",
              "      <td>0</td>\n",
              "      <td>unknown</td>\n",
              "      <td>no</td>\n",
              "      <td>1</td>\n",
              "      <td>0</td>\n",
              "    </tr>\n",
              "    <tr>\n",
              "      <th>4</th>\n",
              "      <td>33</td>\n",
              "      <td>unknown</td>\n",
              "      <td>single</td>\n",
              "      <td>unknown</td>\n",
              "      <td>no</td>\n",
              "      <td>1</td>\n",
              "      <td>no</td>\n",
              "      <td>no</td>\n",
              "      <td>unknown</td>\n",
              "      <td>5</td>\n",
              "      <td>may</td>\n",
              "      <td>198</td>\n",
              "      <td>1</td>\n",
              "      <td>-1</td>\n",
              "      <td>0</td>\n",
              "      <td>unknown</td>\n",
              "      <td>no</td>\n",
              "      <td>1</td>\n",
              "      <td>0</td>\n",
              "    </tr>\n",
              "  </tbody>\n",
              "</table>\n",
              "</div>"
            ],
            "text/plain": [
              "   age           job  marital  education  ... poutcome   y count y1\n",
              "0   58    management  married   tertiary  ...  unknown  no     1  0\n",
              "1   44    technician   single  secondary  ...  unknown  no     1  0\n",
              "2   33  entrepreneur  married  secondary  ...  unknown  no     1  0\n",
              "3   47   blue-collar  married    unknown  ...  unknown  no     1  0\n",
              "4   33       unknown   single    unknown  ...  unknown  no     1  0\n",
              "\n",
              "[5 rows x 19 columns]"
            ]
          },
          "metadata": {
            "tags": []
          },
          "execution_count": 436
        }
      ]
    },
    {
      "cell_type": "code",
      "metadata": {
        "id": "K7D_FgD8_kgb",
        "colab": {
          "base_uri": "https://localhost:8080/",
          "height": 0
        },
        "outputId": "f19f7fb9-b81c-4084-ead0-1c6d89210bf7"
      },
      "source": [
        "bank_p[:, sum(f.count), by('marital') ]  #Summary table of Marital Status"
      ],
      "execution_count": 437,
      "outputs": [
        {
          "output_type": "stream",
          "text": [
            "   | marital   count\n",
            "-- + --------  -----\n",
            " 0 | divorced   5207\n",
            " 1 | married   27214\n",
            " 2 | single    12790\n",
            "\n",
            "[3 rows x 2 columns]\n"
          ],
          "name": "stdout"
        },
        {
          "output_type": "execute_result",
          "data": {
            "text/html": [
              "<div class='datatable'>\n",
              "  <table class='frame'>\n",
              "  <thead>\n",
              "    <tr class='colnames'><td class='row_index'></td><th>marital</th><th>count</th></tr>\n",
              "    <tr class='coltypes'><td class='row_index'></td><td class='str' title='str32'>&#x25AA;&#x25AA;&#x25AA;&#x25AA;</td><td class='int' title='int64'>&#x25AA;&#x25AA;&#x25AA;&#x25AA;&#x25AA;&#x25AA;&#x25AA;&#x25AA;</td></tr>\n",
              "  </thead>\n",
              "  <tbody>\n",
              "    <tr><td class='row_index'>0</td><td>divorced</td><td>5207</td></tr>\n",
              "    <tr><td class='row_index'>1</td><td>married</td><td>27214</td></tr>\n",
              "    <tr><td class='row_index'>2</td><td>single</td><td>12790</td></tr>\n",
              "  </tbody>\n",
              "  </table>\n",
              "  <div class='footer'>\n",
              "    <div class='frame_dimensions'>3 rows &times; 2 columns</div>\n",
              "  </div>\n",
              "</div>\n"
            ],
            "text/plain": [
              ""
            ]
          },
          "metadata": {
            "tags": []
          },
          "execution_count": 437
        }
      ]
    },
    {
      "cell_type": "code",
      "metadata": {
        "id": "U5b7IrN-_l_a",
        "colab": {
          "base_uri": "https://localhost:8080/",
          "height": 0
        },
        "outputId": "e62a1e86-d1c2-4a9c-b5c7-74e610f3c7d4"
      },
      "source": [
        "bank_p[:, sum(f.count), by('job') ] #Summary table of education "
      ],
      "execution_count": 438,
      "outputs": [
        {
          "output_type": "stream",
          "text": [
            "   | job            count\n",
            "-- + -------------  -----\n",
            " 0 | admin.          5171\n",
            " 1 | blue-collar     9732\n",
            " 2 | entrepreneur    1487\n",
            " 3 | housemaid       1240\n",
            " 4 | management      9458\n",
            " 5 | retired         2264\n",
            " 6 | self-employed   1579\n",
            " 7 | services        4154\n",
            " 8 | student          938\n",
            " 9 | technician      7597\n",
            "10 | unemployed      1303\n",
            "11 | unknown          288\n",
            "\n",
            "[12 rows x 2 columns]\n"
          ],
          "name": "stdout"
        },
        {
          "output_type": "execute_result",
          "data": {
            "text/html": [
              "<div class='datatable'>\n",
              "  <table class='frame'>\n",
              "  <thead>\n",
              "    <tr class='colnames'><td class='row_index'></td><th>job</th><th>count</th></tr>\n",
              "    <tr class='coltypes'><td class='row_index'></td><td class='str' title='str32'>&#x25AA;&#x25AA;&#x25AA;&#x25AA;</td><td class='int' title='int64'>&#x25AA;&#x25AA;&#x25AA;&#x25AA;&#x25AA;&#x25AA;&#x25AA;&#x25AA;</td></tr>\n",
              "  </thead>\n",
              "  <tbody>\n",
              "    <tr><td class='row_index'>0</td><td>admin.</td><td>5171</td></tr>\n",
              "    <tr><td class='row_index'>1</td><td>blue-collar</td><td>9732</td></tr>\n",
              "    <tr><td class='row_index'>2</td><td>entrepreneur</td><td>1487</td></tr>\n",
              "    <tr><td class='row_index'>3</td><td>housemaid</td><td>1240</td></tr>\n",
              "    <tr><td class='row_index'>4</td><td>management</td><td>9458</td></tr>\n",
              "    <tr><td class='row_index'>5</td><td>retired</td><td>2264</td></tr>\n",
              "    <tr><td class='row_index'>6</td><td>self-employed</td><td>1579</td></tr>\n",
              "    <tr><td class='row_index'>7</td><td>services</td><td>4154</td></tr>\n",
              "    <tr><td class='row_index'>8</td><td>student</td><td>938</td></tr>\n",
              "    <tr><td class='row_index'>9</td><td>technician</td><td>7597</td></tr>\n",
              "    <tr><td class='row_index'>10</td><td>unemployed</td><td>1303</td></tr>\n",
              "    <tr><td class='row_index'>11</td><td>unknown</td><td>288</td></tr>\n",
              "  </tbody>\n",
              "  </table>\n",
              "  <div class='footer'>\n",
              "    <div class='frame_dimensions'>12 rows &times; 2 columns</div>\n",
              "  </div>\n",
              "</div>\n"
            ],
            "text/plain": [
              ""
            ]
          },
          "metadata": {
            "tags": []
          },
          "execution_count": 438
        }
      ]
    },
    {
      "cell_type": "code",
      "metadata": {
        "id": "cqKRaFom_ni9",
        "colab": {
          "base_uri": "https://localhost:8080/",
          "height": 0
        },
        "outputId": "11a722a1-0e51-4ff6-b505-abe7bc654254"
      },
      "source": [
        "bank_p[:, sum(f.count), by('education') ] #Summary table of education "
      ],
      "execution_count": 439,
      "outputs": [
        {
          "output_type": "stream",
          "text": [
            "   | education  count\n",
            "-- + ---------  -----\n",
            " 0 | primary     6851\n",
            " 1 | secondary  23202\n",
            " 2 | tertiary   13301\n",
            " 3 | unknown     1857\n",
            "\n",
            "[4 rows x 2 columns]\n"
          ],
          "name": "stdout"
        },
        {
          "output_type": "execute_result",
          "data": {
            "text/html": [
              "<div class='datatable'>\n",
              "  <table class='frame'>\n",
              "  <thead>\n",
              "    <tr class='colnames'><td class='row_index'></td><th>education</th><th>count</th></tr>\n",
              "    <tr class='coltypes'><td class='row_index'></td><td class='str' title='str32'>&#x25AA;&#x25AA;&#x25AA;&#x25AA;</td><td class='int' title='int64'>&#x25AA;&#x25AA;&#x25AA;&#x25AA;&#x25AA;&#x25AA;&#x25AA;&#x25AA;</td></tr>\n",
              "  </thead>\n",
              "  <tbody>\n",
              "    <tr><td class='row_index'>0</td><td>primary</td><td>6851</td></tr>\n",
              "    <tr><td class='row_index'>1</td><td>secondary</td><td>23202</td></tr>\n",
              "    <tr><td class='row_index'>2</td><td>tertiary</td><td>13301</td></tr>\n",
              "    <tr><td class='row_index'>3</td><td>unknown</td><td>1857</td></tr>\n",
              "  </tbody>\n",
              "  </table>\n",
              "  <div class='footer'>\n",
              "    <div class='frame_dimensions'>4 rows &times; 2 columns</div>\n",
              "  </div>\n",
              "</div>\n"
            ],
            "text/plain": [
              ""
            ]
          },
          "metadata": {
            "tags": []
          },
          "execution_count": 439
        }
      ]
    },
    {
      "cell_type": "code",
      "metadata": {
        "id": "Gn1KXHSw_o2H",
        "colab": {
          "base_uri": "https://localhost:8080/",
          "height": 0
        },
        "outputId": "898bf47a-e10a-4651-a32c-2c90607d8bf7"
      },
      "source": [
        "bank_p[:, sum(f.count), by('default') ] #Summary table of default"
      ],
      "execution_count": 440,
      "outputs": [
        {
          "output_type": "stream",
          "text": [
            "   | default  count\n",
            "-- + -------  -----\n",
            " 0 | no       44396\n",
            " 1 | yes        815\n",
            "\n",
            "[2 rows x 2 columns]\n"
          ],
          "name": "stdout"
        },
        {
          "output_type": "execute_result",
          "data": {
            "text/html": [
              "<div class='datatable'>\n",
              "  <table class='frame'>\n",
              "  <thead>\n",
              "    <tr class='colnames'><td class='row_index'></td><th>default</th><th>count</th></tr>\n",
              "    <tr class='coltypes'><td class='row_index'></td><td class='str' title='str32'>&#x25AA;&#x25AA;&#x25AA;&#x25AA;</td><td class='int' title='int64'>&#x25AA;&#x25AA;&#x25AA;&#x25AA;&#x25AA;&#x25AA;&#x25AA;&#x25AA;</td></tr>\n",
              "  </thead>\n",
              "  <tbody>\n",
              "    <tr><td class='row_index'>0</td><td>no</td><td>44396</td></tr>\n",
              "    <tr><td class='row_index'>1</td><td>yes</td><td>815</td></tr>\n",
              "  </tbody>\n",
              "  </table>\n",
              "  <div class='footer'>\n",
              "    <div class='frame_dimensions'>2 rows &times; 2 columns</div>\n",
              "  </div>\n",
              "</div>\n"
            ],
            "text/plain": [
              ""
            ]
          },
          "metadata": {
            "tags": []
          },
          "execution_count": 440
        }
      ]
    },
    {
      "cell_type": "code",
      "metadata": {
        "id": "JPrVLneQ_qAO",
        "colab": {
          "base_uri": "https://localhost:8080/",
          "height": 0
        },
        "outputId": "feb3ef10-9019-4bf9-a69a-56a881388c10"
      },
      "source": [
        "bank_p[:, sum(f.count), by('housing') ] #Summary table of housing"
      ],
      "execution_count": 441,
      "outputs": [
        {
          "output_type": "stream",
          "text": [
            "   | housing  count\n",
            "-- + -------  -----\n",
            " 0 | no       20081\n",
            " 1 | yes      25130\n",
            "\n",
            "[2 rows x 2 columns]\n"
          ],
          "name": "stdout"
        },
        {
          "output_type": "execute_result",
          "data": {
            "text/html": [
              "<div class='datatable'>\n",
              "  <table class='frame'>\n",
              "  <thead>\n",
              "    <tr class='colnames'><td class='row_index'></td><th>housing</th><th>count</th></tr>\n",
              "    <tr class='coltypes'><td class='row_index'></td><td class='str' title='str32'>&#x25AA;&#x25AA;&#x25AA;&#x25AA;</td><td class='int' title='int64'>&#x25AA;&#x25AA;&#x25AA;&#x25AA;&#x25AA;&#x25AA;&#x25AA;&#x25AA;</td></tr>\n",
              "  </thead>\n",
              "  <tbody>\n",
              "    <tr><td class='row_index'>0</td><td>no</td><td>20081</td></tr>\n",
              "    <tr><td class='row_index'>1</td><td>yes</td><td>25130</td></tr>\n",
              "  </tbody>\n",
              "  </table>\n",
              "  <div class='footer'>\n",
              "    <div class='frame_dimensions'>2 rows &times; 2 columns</div>\n",
              "  </div>\n",
              "</div>\n"
            ],
            "text/plain": [
              ""
            ]
          },
          "metadata": {
            "tags": []
          },
          "execution_count": 441
        }
      ]
    },
    {
      "cell_type": "code",
      "metadata": {
        "id": "Q6K8-yQg_rR5",
        "colab": {
          "base_uri": "https://localhost:8080/",
          "height": 0
        },
        "outputId": "5736ca9e-43ca-49f3-a24d-7f881aba4281"
      },
      "source": [
        "bank_p[:, sum(f.count), by('loan') ] #Summary table of loan"
      ],
      "execution_count": 442,
      "outputs": [
        {
          "output_type": "stream",
          "text": [
            "   | loan  count\n",
            "-- + ----  -----\n",
            " 0 | no    37967\n",
            " 1 | yes    7244\n",
            "\n",
            "[2 rows x 2 columns]\n"
          ],
          "name": "stdout"
        },
        {
          "output_type": "execute_result",
          "data": {
            "text/html": [
              "<div class='datatable'>\n",
              "  <table class='frame'>\n",
              "  <thead>\n",
              "    <tr class='colnames'><td class='row_index'></td><th>loan</th><th>count</th></tr>\n",
              "    <tr class='coltypes'><td class='row_index'></td><td class='str' title='str32'>&#x25AA;&#x25AA;&#x25AA;&#x25AA;</td><td class='int' title='int64'>&#x25AA;&#x25AA;&#x25AA;&#x25AA;&#x25AA;&#x25AA;&#x25AA;&#x25AA;</td></tr>\n",
              "  </thead>\n",
              "  <tbody>\n",
              "    <tr><td class='row_index'>0</td><td>no</td><td>37967</td></tr>\n",
              "    <tr><td class='row_index'>1</td><td>yes</td><td>7244</td></tr>\n",
              "  </tbody>\n",
              "  </table>\n",
              "  <div class='footer'>\n",
              "    <div class='frame_dimensions'>2 rows &times; 2 columns</div>\n",
              "  </div>\n",
              "</div>\n"
            ],
            "text/plain": [
              ""
            ]
          },
          "metadata": {
            "tags": []
          },
          "execution_count": 442
        }
      ]
    },
    {
      "cell_type": "code",
      "metadata": {
        "id": "RLuGoGUt_sTF",
        "colab": {
          "base_uri": "https://localhost:8080/",
          "height": 0
        },
        "outputId": "83c23694-1321-4bb6-834e-130c82040bba"
      },
      "source": [
        "bank_p[:, sum(f.count), by('contact') ] #Summary table of contact "
      ],
      "execution_count": 443,
      "outputs": [
        {
          "output_type": "stream",
          "text": [
            "   | contact    count\n",
            "-- + ---------  -----\n",
            " 0 | cellular   29285\n",
            " 1 | telephone   2906\n",
            " 2 | unknown    13020\n",
            "\n",
            "[3 rows x 2 columns]\n"
          ],
          "name": "stdout"
        },
        {
          "output_type": "execute_result",
          "data": {
            "text/html": [
              "<div class='datatable'>\n",
              "  <table class='frame'>\n",
              "  <thead>\n",
              "    <tr class='colnames'><td class='row_index'></td><th>contact</th><th>count</th></tr>\n",
              "    <tr class='coltypes'><td class='row_index'></td><td class='str' title='str32'>&#x25AA;&#x25AA;&#x25AA;&#x25AA;</td><td class='int' title='int64'>&#x25AA;&#x25AA;&#x25AA;&#x25AA;&#x25AA;&#x25AA;&#x25AA;&#x25AA;</td></tr>\n",
              "  </thead>\n",
              "  <tbody>\n",
              "    <tr><td class='row_index'>0</td><td>cellular</td><td>29285</td></tr>\n",
              "    <tr><td class='row_index'>1</td><td>telephone</td><td>2906</td></tr>\n",
              "    <tr><td class='row_index'>2</td><td>unknown</td><td>13020</td></tr>\n",
              "  </tbody>\n",
              "  </table>\n",
              "  <div class='footer'>\n",
              "    <div class='frame_dimensions'>3 rows &times; 2 columns</div>\n",
              "  </div>\n",
              "</div>\n"
            ],
            "text/plain": [
              ""
            ]
          },
          "metadata": {
            "tags": []
          },
          "execution_count": 443
        }
      ]
    },
    {
      "cell_type": "code",
      "metadata": {
        "id": "JOA5sWXX_taB",
        "colab": {
          "base_uri": "https://localhost:8080/",
          "height": 0
        },
        "outputId": "27c8f484-618f-4145-cfb2-dedebecc400e"
      },
      "source": [
        "bank_p[:, sum(f.count), by('day') ] #Summary table of month"
      ],
      "execution_count": 444,
      "outputs": [
        {
          "output_type": "stream",
          "text": [
            "   | day  count\n",
            "-- + ---  -----\n",
            " 0 |   1    322\n",
            " 1 |   2   1293\n",
            " 2 |   3   1079\n",
            " 3 |   4   1445\n",
            " 4 |   5   1910\n",
            " 5 |   6   1932\n",
            " 6 |   7   1817\n",
            " 7 |   8   1842\n",
            " 8 |   9   1561\n",
            " 9 |  10    524\n",
            "10 |  11   1479\n",
            "11 |  12   1603\n",
            "12 |  13   1585\n",
            "13 |  14   1848\n",
            "14 |  15   1703\n",
            " … |   …      …\n",
            "26 |  27   1121\n",
            "27 |  28   1830\n",
            "28 |  29   1745\n",
            "29 |  30   1566\n",
            "30 |  31    643\n",
            "\n",
            "[31 rows x 2 columns]\n"
          ],
          "name": "stdout"
        },
        {
          "output_type": "execute_result",
          "data": {
            "text/html": [
              "<div class='datatable'>\n",
              "  <table class='frame'>\n",
              "  <thead>\n",
              "    <tr class='colnames'><td class='row_index'></td><th>day</th><th>count</th></tr>\n",
              "    <tr class='coltypes'><td class='row_index'></td><td class='int' title='int32'>&#x25AA;&#x25AA;&#x25AA;&#x25AA;</td><td class='int' title='int64'>&#x25AA;&#x25AA;&#x25AA;&#x25AA;&#x25AA;&#x25AA;&#x25AA;&#x25AA;</td></tr>\n",
              "  </thead>\n",
              "  <tbody>\n",
              "    <tr><td class='row_index'>0</td><td>1</td><td>322</td></tr>\n",
              "    <tr><td class='row_index'>1</td><td>2</td><td>1293</td></tr>\n",
              "    <tr><td class='row_index'>2</td><td>3</td><td>1079</td></tr>\n",
              "    <tr><td class='row_index'>3</td><td>4</td><td>1445</td></tr>\n",
              "    <tr><td class='row_index'>4</td><td>5</td><td>1910</td></tr>\n",
              "    <tr><td class='row_index'>5</td><td>6</td><td>1932</td></tr>\n",
              "    <tr><td class='row_index'>6</td><td>7</td><td>1817</td></tr>\n",
              "    <tr><td class='row_index'>7</td><td>8</td><td>1842</td></tr>\n",
              "    <tr><td class='row_index'>8</td><td>9</td><td>1561</td></tr>\n",
              "    <tr><td class='row_index'>9</td><td>10</td><td>524</td></tr>\n",
              "    <tr><td class='row_index'>10</td><td>11</td><td>1479</td></tr>\n",
              "    <tr><td class='row_index'>11</td><td>12</td><td>1603</td></tr>\n",
              "    <tr><td class='row_index'>12</td><td>13</td><td>1585</td></tr>\n",
              "    <tr><td class='row_index'>13</td><td>14</td><td>1848</td></tr>\n",
              "    <tr><td class='row_index'>14</td><td>15</td><td>1703</td></tr>\n",
              "    <tr><td class='row_index'>&#x22EE;</td><td class='hellipsis'>&#x22EE;</td><td class='hellipsis'>&#x22EE;</td></tr>\n",
              "    <tr><td class='row_index'>26</td><td>27</td><td>1121</td></tr>\n",
              "    <tr><td class='row_index'>27</td><td>28</td><td>1830</td></tr>\n",
              "    <tr><td class='row_index'>28</td><td>29</td><td>1745</td></tr>\n",
              "    <tr><td class='row_index'>29</td><td>30</td><td>1566</td></tr>\n",
              "    <tr><td class='row_index'>30</td><td>31</td><td>643</td></tr>\n",
              "  </tbody>\n",
              "  </table>\n",
              "  <div class='footer'>\n",
              "    <div class='frame_dimensions'>31 rows &times; 2 columns</div>\n",
              "  </div>\n",
              "</div>\n"
            ],
            "text/plain": [
              ""
            ]
          },
          "metadata": {
            "tags": []
          },
          "execution_count": 444
        }
      ]
    },
    {
      "cell_type": "code",
      "metadata": {
        "id": "VmnKfhjveaAn",
        "colab": {
          "base_uri": "https://localhost:8080/",
          "height": 0
        },
        "outputId": "05bb617d-c2af-4f63-fcdd-2fdea832f497"
      },
      "source": [
        "bank_p[:, sum(f.count), by('month') ] #Summary table of month"
      ],
      "execution_count": 445,
      "outputs": [
        {
          "output_type": "stream",
          "text": [
            "   | month  count\n",
            "-- + -----  -----\n",
            " 0 | apr     2932\n",
            " 1 | aug     6247\n",
            " 2 | dec      214\n",
            " 3 | feb     2649\n",
            " 4 | jan     1403\n",
            " 5 | jul     6895\n",
            " 6 | jun     5341\n",
            " 7 | mar      477\n",
            " 8 | may    13766\n",
            " 9 | nov     3970\n",
            "10 | oct      738\n",
            "11 | sep      579\n",
            "\n",
            "[12 rows x 2 columns]\n"
          ],
          "name": "stdout"
        },
        {
          "output_type": "execute_result",
          "data": {
            "text/html": [
              "<div class='datatable'>\n",
              "  <table class='frame'>\n",
              "  <thead>\n",
              "    <tr class='colnames'><td class='row_index'></td><th>month</th><th>count</th></tr>\n",
              "    <tr class='coltypes'><td class='row_index'></td><td class='str' title='str32'>&#x25AA;&#x25AA;&#x25AA;&#x25AA;</td><td class='int' title='int64'>&#x25AA;&#x25AA;&#x25AA;&#x25AA;&#x25AA;&#x25AA;&#x25AA;&#x25AA;</td></tr>\n",
              "  </thead>\n",
              "  <tbody>\n",
              "    <tr><td class='row_index'>0</td><td>apr</td><td>2932</td></tr>\n",
              "    <tr><td class='row_index'>1</td><td>aug</td><td>6247</td></tr>\n",
              "    <tr><td class='row_index'>2</td><td>dec</td><td>214</td></tr>\n",
              "    <tr><td class='row_index'>3</td><td>feb</td><td>2649</td></tr>\n",
              "    <tr><td class='row_index'>4</td><td>jan</td><td>1403</td></tr>\n",
              "    <tr><td class='row_index'>5</td><td>jul</td><td>6895</td></tr>\n",
              "    <tr><td class='row_index'>6</td><td>jun</td><td>5341</td></tr>\n",
              "    <tr><td class='row_index'>7</td><td>mar</td><td>477</td></tr>\n",
              "    <tr><td class='row_index'>8</td><td>may</td><td>13766</td></tr>\n",
              "    <tr><td class='row_index'>9</td><td>nov</td><td>3970</td></tr>\n",
              "    <tr><td class='row_index'>10</td><td>oct</td><td>738</td></tr>\n",
              "    <tr><td class='row_index'>11</td><td>sep</td><td>579</td></tr>\n",
              "  </tbody>\n",
              "  </table>\n",
              "  <div class='footer'>\n",
              "    <div class='frame_dimensions'>12 rows &times; 2 columns</div>\n",
              "  </div>\n",
              "</div>\n"
            ],
            "text/plain": [
              ""
            ]
          },
          "metadata": {
            "tags": []
          },
          "execution_count": 445
        }
      ]
    },
    {
      "cell_type": "code",
      "metadata": {
        "id": "B4vXOMVB_ugx",
        "colab": {
          "base_uri": "https://localhost:8080/",
          "height": 0
        },
        "outputId": "e47512d6-fc65-4cc9-b46d-5ad11063bc73"
      },
      "source": [
        "bank_p[:, sum(f.count), by('poutcome') ] #Summary table of month"
      ],
      "execution_count": 446,
      "outputs": [
        {
          "output_type": "stream",
          "text": [
            "   | poutcome  count\n",
            "-- + --------  -----\n",
            " 0 | failure    4901\n",
            " 1 | other      1840\n",
            " 2 | success    1511\n",
            " 3 | unknown   36959\n",
            "\n",
            "[4 rows x 2 columns]\n"
          ],
          "name": "stdout"
        },
        {
          "output_type": "execute_result",
          "data": {
            "text/html": [
              "<div class='datatable'>\n",
              "  <table class='frame'>\n",
              "  <thead>\n",
              "    <tr class='colnames'><td class='row_index'></td><th>poutcome</th><th>count</th></tr>\n",
              "    <tr class='coltypes'><td class='row_index'></td><td class='str' title='str32'>&#x25AA;&#x25AA;&#x25AA;&#x25AA;</td><td class='int' title='int64'>&#x25AA;&#x25AA;&#x25AA;&#x25AA;&#x25AA;&#x25AA;&#x25AA;&#x25AA;</td></tr>\n",
              "  </thead>\n",
              "  <tbody>\n",
              "    <tr><td class='row_index'>0</td><td>failure</td><td>4901</td></tr>\n",
              "    <tr><td class='row_index'>1</td><td>other</td><td>1840</td></tr>\n",
              "    <tr><td class='row_index'>2</td><td>success</td><td>1511</td></tr>\n",
              "    <tr><td class='row_index'>3</td><td>unknown</td><td>36959</td></tr>\n",
              "  </tbody>\n",
              "  </table>\n",
              "  <div class='footer'>\n",
              "    <div class='frame_dimensions'>4 rows &times; 2 columns</div>\n",
              "  </div>\n",
              "</div>\n"
            ],
            "text/plain": [
              ""
            ]
          },
          "metadata": {
            "tags": []
          },
          "execution_count": 446
        }
      ]
    },
    {
      "cell_type": "markdown",
      "metadata": {
        "id": "hxzEq2cye3pi"
      },
      "source": [
        "I want you to describe two additional features you think are useful for the model and why you think they are useful. Bring in outside research if necessary.  You need to create the features in either R or Python.  These features should be included in your Decision Tree model and your plots of the data should include these features against the response.\n",
        "\n",
        "**Feature 1**\n",
        "####  ##  > The education category is important.  An analyst would likely have background knowledge to know that as an individual gains more and more education his or her income increases accordingly.  With more income an individual is more likely to need the services of a bank, like a saving account, loans and more. Like a new graduate of college, who has a steady income may be looking to save money and interested inexploring a bank and it services.  Google search reveals teritary, a term in the dataset, means university or college level of education. Secondary means prepared for vocational or tertiary education. Primary is elementary level education.  Unknown is a small amount of the dataset. \n",
        "\n",
        "\n",
        "**Feature 2**  \n",
        "#### ## >  The age category can be important, because at different times in people lives they tend to have needs for various types of bank services.\n",
        " \n",
        "\n"
      ]
    },
    {
      "cell_type": "markdown",
      "metadata": {
        "id": "RLPJ3liUMupz"
      },
      "source": [
        "#**IV. R Data Processing**"
      ]
    },
    {
      "cell_type": "code",
      "metadata": {
        "id": "y2DfGNMdncZ5",
        "colab": {
          "base_uri": "https://localhost:8080/",
          "height": 0
        },
        "outputId": "436c5313-920b-40c6-db7c-1c73de998f8a"
      },
      "source": [
        "%%R\n",
        "#IV. Data Processing --------------------------------------------\n",
        "#A. Adjust values based on the review of the data\n",
        "\n",
        "#B. Filter the data\n",
        "\n",
        "\n",
        "#C. Build additional features\n",
        "\n"
      ],
      "execution_count": 260,
      "outputs": [
        {
          "output_type": "stream",
          "text": [
            "NULL\n"
          ],
          "name": "stdout"
        }
      ]
    },
    {
      "cell_type": "markdown",
      "metadata": {
        "id": "vdPGN6GoM_yE"
      },
      "source": [
        "#**IV. Python Data Processing**"
      ]
    },
    {
      "cell_type": "code",
      "metadata": {
        "id": "dlsJzXRLC-hF"
      },
      "source": [
        "#IV. Data Processing --------------------------------------------\n",
        "#A. Adjust values based on the review of the data\n",
        "import numpy as np\n",
        "bank_pd = bank_p.to_pandas()\n",
        "bank_pd['pdays'] = bank_pd['pdays'].replace({999: np.NaN})"
      ],
      "execution_count": 447,
      "outputs": []
    },
    {
      "cell_type": "code",
      "metadata": {
        "colab": {
          "base_uri": "https://localhost:8080/",
          "height": 190
        },
        "id": "0a-3VZaBRY5n",
        "outputId": "c00a003c-0728-4d8e-8eb5-b1ac6652a9a6"
      },
      "source": [
        "bank_pd.head()"
      ],
      "execution_count": 448,
      "outputs": [
        {
          "output_type": "execute_result",
          "data": {
            "text/html": [
              "<div>\n",
              "<style scoped>\n",
              "    .dataframe tbody tr th:only-of-type {\n",
              "        vertical-align: middle;\n",
              "    }\n",
              "\n",
              "    .dataframe tbody tr th {\n",
              "        vertical-align: top;\n",
              "    }\n",
              "\n",
              "    .dataframe thead th {\n",
              "        text-align: right;\n",
              "    }\n",
              "</style>\n",
              "<table border=\"1\" class=\"dataframe\">\n",
              "  <thead>\n",
              "    <tr style=\"text-align: right;\">\n",
              "      <th></th>\n",
              "      <th>age</th>\n",
              "      <th>job</th>\n",
              "      <th>marital</th>\n",
              "      <th>education</th>\n",
              "      <th>default</th>\n",
              "      <th>balance</th>\n",
              "      <th>housing</th>\n",
              "      <th>loan</th>\n",
              "      <th>contact</th>\n",
              "      <th>day</th>\n",
              "      <th>month</th>\n",
              "      <th>duration</th>\n",
              "      <th>campaign</th>\n",
              "      <th>pdays</th>\n",
              "      <th>previous</th>\n",
              "      <th>poutcome</th>\n",
              "      <th>y</th>\n",
              "      <th>count</th>\n",
              "      <th>y1</th>\n",
              "    </tr>\n",
              "  </thead>\n",
              "  <tbody>\n",
              "    <tr>\n",
              "      <th>0</th>\n",
              "      <td>58</td>\n",
              "      <td>management</td>\n",
              "      <td>married</td>\n",
              "      <td>tertiary</td>\n",
              "      <td>no</td>\n",
              "      <td>2143</td>\n",
              "      <td>yes</td>\n",
              "      <td>no</td>\n",
              "      <td>unknown</td>\n",
              "      <td>5</td>\n",
              "      <td>may</td>\n",
              "      <td>261</td>\n",
              "      <td>1</td>\n",
              "      <td>-1</td>\n",
              "      <td>0</td>\n",
              "      <td>unknown</td>\n",
              "      <td>no</td>\n",
              "      <td>1</td>\n",
              "      <td>0</td>\n",
              "    </tr>\n",
              "    <tr>\n",
              "      <th>1</th>\n",
              "      <td>44</td>\n",
              "      <td>technician</td>\n",
              "      <td>single</td>\n",
              "      <td>secondary</td>\n",
              "      <td>no</td>\n",
              "      <td>29</td>\n",
              "      <td>yes</td>\n",
              "      <td>no</td>\n",
              "      <td>unknown</td>\n",
              "      <td>5</td>\n",
              "      <td>may</td>\n",
              "      <td>151</td>\n",
              "      <td>1</td>\n",
              "      <td>-1</td>\n",
              "      <td>0</td>\n",
              "      <td>unknown</td>\n",
              "      <td>no</td>\n",
              "      <td>1</td>\n",
              "      <td>0</td>\n",
              "    </tr>\n",
              "    <tr>\n",
              "      <th>2</th>\n",
              "      <td>33</td>\n",
              "      <td>entrepreneur</td>\n",
              "      <td>married</td>\n",
              "      <td>secondary</td>\n",
              "      <td>no</td>\n",
              "      <td>2</td>\n",
              "      <td>yes</td>\n",
              "      <td>yes</td>\n",
              "      <td>unknown</td>\n",
              "      <td>5</td>\n",
              "      <td>may</td>\n",
              "      <td>76</td>\n",
              "      <td>1</td>\n",
              "      <td>-1</td>\n",
              "      <td>0</td>\n",
              "      <td>unknown</td>\n",
              "      <td>no</td>\n",
              "      <td>1</td>\n",
              "      <td>0</td>\n",
              "    </tr>\n",
              "    <tr>\n",
              "      <th>3</th>\n",
              "      <td>47</td>\n",
              "      <td>blue-collar</td>\n",
              "      <td>married</td>\n",
              "      <td>unknown</td>\n",
              "      <td>no</td>\n",
              "      <td>1506</td>\n",
              "      <td>yes</td>\n",
              "      <td>no</td>\n",
              "      <td>unknown</td>\n",
              "      <td>5</td>\n",
              "      <td>may</td>\n",
              "      <td>92</td>\n",
              "      <td>1</td>\n",
              "      <td>-1</td>\n",
              "      <td>0</td>\n",
              "      <td>unknown</td>\n",
              "      <td>no</td>\n",
              "      <td>1</td>\n",
              "      <td>0</td>\n",
              "    </tr>\n",
              "    <tr>\n",
              "      <th>4</th>\n",
              "      <td>33</td>\n",
              "      <td>unknown</td>\n",
              "      <td>single</td>\n",
              "      <td>unknown</td>\n",
              "      <td>no</td>\n",
              "      <td>1</td>\n",
              "      <td>no</td>\n",
              "      <td>no</td>\n",
              "      <td>unknown</td>\n",
              "      <td>5</td>\n",
              "      <td>may</td>\n",
              "      <td>198</td>\n",
              "      <td>1</td>\n",
              "      <td>-1</td>\n",
              "      <td>0</td>\n",
              "      <td>unknown</td>\n",
              "      <td>no</td>\n",
              "      <td>1</td>\n",
              "      <td>0</td>\n",
              "    </tr>\n",
              "  </tbody>\n",
              "</table>\n",
              "</div>"
            ],
            "text/plain": [
              "   age           job  marital  education  ... poutcome   y count y1\n",
              "0   58    management  married   tertiary  ...  unknown  no     1  0\n",
              "1   44    technician   single  secondary  ...  unknown  no     1  0\n",
              "2   33  entrepreneur  married  secondary  ...  unknown  no     1  0\n",
              "3   47   blue-collar  married    unknown  ...  unknown  no     1  0\n",
              "4   33       unknown   single    unknown  ...  unknown  no     1  0\n",
              "\n",
              "[5 rows x 19 columns]"
            ]
          },
          "metadata": {
            "tags": []
          },
          "execution_count": 448
        }
      ]
    },
    {
      "cell_type": "code",
      "metadata": {
        "id": "zZ37FSe8RoKQ"
      },
      "source": [
        "bank_p=dt.Frame(bank_pd) "
      ],
      "execution_count": 449,
      "outputs": []
    },
    {
      "cell_type": "code",
      "metadata": {
        "id": "QJpwCpYMTFlR"
      },
      "source": [
        "bank_p.head()"
      ],
      "execution_count": null,
      "outputs": []
    },
    {
      "cell_type": "code",
      "metadata": {
        "id": "ZRZwmVexJEIg"
      },
      "source": [
        "#B. Filter the data\n",
        "bank_p=bank_p[f.duration>0,:]   ### post hoc "
      ],
      "execution_count": 451,
      "outputs": []
    },
    {
      "cell_type": "code",
      "metadata": {
        "id": "7wqMFb_kRFuJ"
      },
      "source": [
        "del bank_p[:,'duration']  #Variable no good.  We do not know the duration of the call BEFORE the call occurs"
      ],
      "execution_count": 452,
      "outputs": []
    },
    {
      "cell_type": "code",
      "metadata": {
        "id": "Mlnt0ZFdWAx6"
      },
      "source": [
        "bank_p.head()"
      ],
      "execution_count": null,
      "outputs": []
    },
    {
      "cell_type": "code",
      "metadata": {
        "id": "rjBeOMhAJrrn"
      },
      "source": [
        "#C. Build additional features\n",
        "from scipy import stats\n",
        "bank_p['previous_norm'] = stats.zscore(bank_p['previous'])"
      ],
      "execution_count": 454,
      "outputs": []
    },
    {
      "cell_type": "code",
      "metadata": {
        "id": "Au8nNa4cX0Wi"
      },
      "source": [
        "from scipy import stats\n",
        "bank_p[:,'campaign_norm'] = stats.zscore(bank_p['campaign'])"
      ],
      "execution_count": 455,
      "outputs": []
    },
    {
      "cell_type": "code",
      "metadata": {
        "id": "KS4C3miUYk8Z"
      },
      "source": [
        "#C. (cont) Build additional features\n",
        "#Feature 2 - Age\n",
        "bank_p[f.age<=17, 'Age_CAT'] = '<=17'\n",
        "bank_p[(f.age>=18) & (f.age<=24), 'Age_CAT'] = ' 1)  18 to 24'\n",
        "bank_p[(f.age>24) & (f.age<=30), 'Age_CAT'] = ' 2)  25 to 30'\n",
        "bank_p[(f.age>30) & (f.age<=50), 'Age_CAT'] = ' 3)  31 to 50'\n",
        "bank_p[(f.age>50) & (f.age<=64), 'Age_CAT'] = ' 4)  51 to 65'\n",
        "bank_p[f.age>=65, 'Age_CAT']  = ' 5)  >= 65'\n",
        "bank_p[:, sum(f.count), by('Age_CAT') ]"
      ],
      "execution_count": null,
      "outputs": []
    },
    {
      "cell_type": "code",
      "metadata": {
        "id": "9n83Z5ZTaxcU"
      },
      "source": [
        "#C. (cont) Build additional features\n",
        "#Feature 2 - Education\n",
        "bank_p[f.education,'Education'] = 'primary'\n",
        "# bank_p[(f.education=='unknown'), 'Education_CAT'] = 'Unknown or Student'\n",
        "# bank_p[:, sum(f.count), by('Education') ]"
      ],
      "execution_count": null,
      "outputs": []
    },
    {
      "cell_type": "code",
      "metadata": {
        "colab": {
          "base_uri": "https://localhost:8080/",
          "height": 412
        },
        "id": "obUJLattvZDh",
        "outputId": "cc343074-464c-4436-fee7-e456782e430e"
      },
      "source": [
        "#Feature 1 - Age in the Crosstabs\n",
        "bank_pd=bank_p.to_pandas()\n",
        "crosstab_01 = pd.crosstab(bank_pd['Age_CAT'], bank_pd['y'])\n",
        "crosstab_norm = crosstab_01.div(crosstab_01.sum(1), axis = 0)\n",
        "print(crosstab_norm)\n",
        "crosstab_norm.plot(kind='hist', stacked = False)\n",
        "\n",
        "plt.legend(['# Not in Age Range', '# In this Age Range'])\n",
        "plt.title('Age with Response Overlay')\n",
        "plt.xlabel('Age'); plt.ylabel('# On Responders'); plt.show()"
      ],
      "execution_count": 462,
      "outputs": [
        {
          "output_type": "stream",
          "text": [
            "y                    no       yes\n",
            "Age_CAT                          \n",
            " 1)  18 to 24  0.744129  0.255871\n",
            " 2)  25 to 30  0.849220  0.150780\n",
            " 3)  31 to 50  0.902123  0.097877\n",
            " 4)  51 to 65  0.884889  0.115111\n",
            " 5)  >= 65     0.579012  0.420988\n"
          ],
          "name": "stdout"
        },
        {
          "output_type": "display_data",
          "data": {
            "image/png": "[encoded data removed]",
            "text/plain": [
              "<Figure size 432x288 with 1 Axes>"
            ]
          },
          "metadata": {
            "tags": [],
            "needs_background": "light"
          }
        }
      ]
    },
    {
      "cell_type": "markdown",
      "metadata": {
        "id": "qoZXukkGf1GA"
      },
      "source": [
        "This is where you are going to do some EDA work. You need to plot your data with graphics.  I want to see 4 plots of the data against the response variable.  After each plot you need to summarize why the plot demonstrates or does not demonstrate that the feature could be useful in the model. \n",
        "\n",
        "You also need to create 2 contingency tables against the response. Again, you need to summarize why the contingency tables could be useful in the model.\n"
      ]
    },
    {
      "cell_type": "code",
      "metadata": {
        "colab": {
          "base_uri": "https://localhost:8080/",
          "height": 454
        },
        "id": "MxSUDqcfxm2w",
        "outputId": "3e79190c-a459-4e8c-aa52-dac320649574"
      },
      "source": [
        "#C. Build additional features\n",
        "#Feature 2 - Education in the Crosstabs\n",
        "bank_pd=bank_p.to_pandas()\n",
        "crosstab_02 = pd.crosstab(bank_pd['education'], bank_pd['y'])\n",
        "print(crosstab_norm)\n",
        "crosstab_norm = crosstab_02.div(crosstab_02.sum(1), axis = 0)\n",
        "crosstab_norm.plot(kind='bar', stacked = False)\n",
        "\n",
        "plt.legend(['Response = No', 'Response = Yes'])\n",
        "plt.title('Education Level with Response Overlay')\n",
        "plt.xlabel('Education Level'); plt.ylabel('Respondents'); plt.show()"
      ],
      "execution_count": 463,
      "outputs": [
        {
          "output_type": "stream",
          "text": [
            "y                    no       yes\n",
            "Age_CAT                          \n",
            " 1)  18 to 24  0.744129  0.255871\n",
            " 2)  25 to 30  0.849220  0.150780\n",
            " 3)  31 to 50  0.902123  0.097877\n",
            " 4)  51 to 65  0.884889  0.115111\n",
            " 5)  >= 65     0.579012  0.420988\n"
          ],
          "name": "stdout"
        },
        {
          "output_type": "display_data",
          "data": {
            "image/png": "[encoded data removed]",
            "text/plain": [
              "<Figure size 432x288 with 1 Axes>"
            ]
          },
          "metadata": {
            "tags": [],
            "needs_background": "light"
          }
        }
      ]
    },
    {
      "cell_type": "markdown",
      "metadata": {
        "id": "PAUUEvaeNFR9"
      },
      "source": [
        "#**V. R Data Analysis**"
      ]
    },
    {
      "cell_type": "code",
      "metadata": {
        "id": "OZ02l12shATs",
        "colab": {
          "base_uri": "https://localhost:8080/",
          "height": 0
        },
        "outputId": "dea4b58c-4b2a-48db-a790-8d9ff78c2a40"
      },
      "source": [
        "%%R\n",
        "#Plot 1"
      ],
      "execution_count": 464,
      "outputs": [
        {
          "output_type": "stream",
          "text": [
            "NULL\n"
          ],
          "name": "stdout"
        }
      ]
    },
    {
      "cell_type": "code",
      "metadata": {
        "id": "KWCJx7OzvTxK",
        "colab": {
          "base_uri": "https://localhost:8080/",
          "height": 0
        },
        "outputId": "e009a994-f8d3-41da-c249-a24b71550f04"
      },
      "source": [
        "%%R\n",
        "#Plot 2"
      ],
      "execution_count": 465,
      "outputs": [
        {
          "output_type": "stream",
          "text": [
            "NULL\n"
          ],
          "name": "stdout"
        }
      ]
    },
    {
      "cell_type": "code",
      "metadata": {
        "id": "C7_RUCJyva4Y",
        "colab": {
          "base_uri": "https://localhost:8080/",
          "height": 0
        },
        "outputId": "d6cd8d29-f332-47ca-e17a-e77a75d88ba0"
      },
      "source": [
        "%%R\n",
        "#Plot 3"
      ],
      "execution_count": 466,
      "outputs": [
        {
          "output_type": "stream",
          "text": [
            "NULL\n"
          ],
          "name": "stdout"
        }
      ]
    },
    {
      "cell_type": "code",
      "metadata": {
        "id": "3Im5_KYiva9q",
        "colab": {
          "base_uri": "https://localhost:8080/",
          "height": 0
        },
        "outputId": "9a12916c-7097-4547-ee21-34f74aba3503"
      },
      "source": [
        "%%R\n",
        "#Plot 4"
      ],
      "execution_count": 467,
      "outputs": [
        {
          "output_type": "stream",
          "text": [
            "NULL\n"
          ],
          "name": "stdout"
        }
      ]
    },
    {
      "cell_type": "code",
      "metadata": {
        "id": "efkx0Ui75gAA",
        "colab": {
          "base_uri": "https://localhost:8080/",
          "height": 0
        },
        "outputId": "36800105-0861-4e12-d2aa-b27de5c07662"
      },
      "source": [
        "%%R\n",
        "#Contingency Table 1"
      ],
      "execution_count": 468,
      "outputs": [
        {
          "output_type": "stream",
          "text": [
            "NULL\n"
          ],
          "name": "stdout"
        }
      ]
    },
    {
      "cell_type": "code",
      "metadata": {
        "id": "YzRYzDvy5j2u",
        "colab": {
          "base_uri": "https://localhost:8080/",
          "height": 0
        },
        "outputId": "e7177aa8-6afc-4e23-efe6-ad2fa07d85ae"
      },
      "source": [
        "%%R\n",
        "#Contingency Table 2"
      ],
      "execution_count": 469,
      "outputs": [
        {
          "output_type": "stream",
          "text": [
            "NULL\n"
          ],
          "name": "stdout"
        }
      ]
    },
    {
      "cell_type": "markdown",
      "metadata": {
        "id": "kDqth8-ehCq4"
      },
      "source": [
        "Now that the EDA is done for this round, I want you to prepare a decision tree model. "
      ]
    },
    {
      "cell_type": "markdown",
      "metadata": {
        "id": "s4jdndzNmg8t"
      },
      "source": [
        "1. Explain why you need to split your data into training and test sets?\n",
        "\n",
        "##### In classification modeling it is important to train the model with data that will be used in the model. By running a training set of data through the model the analyst can check the accuracy of the model, how valid this model is predicting\n",
        "\n",
        "##### By splitting the data, the analyst sets aside random data for training the model and the final test or model outcome.\n",
        "\n",
        "##### Testing the data in the with the algorithm avoids bias, overfitting and help make sure the model is using random and balanced data.  The goal of training is to see how the algorithm works with a data. So, splitting the data must allow test data to be accurate and like the data in the training set.  Then when training occurs, it will be able to predict the same in the test set.\n",
        "\n",
        "#### >>>\n",
        "2. What percentage split are you going to use?  \n",
        "##### According the Larose textbook, the data splits differ depending the size and complexity of the dataset. \n",
        "##### Range is approximately 75% to 90%  for the test data, while the training is 25% to 10%.  Yet, others sources for small or less complex recommend that the training sets have approximately 50% to 60%\n",
        "\n",
        "#### >>>\n",
        "3. How does that percentage affect your model?  \n",
        "\n",
        "#####  The percentage that is used in model should provide proper source of data to predict correct outcomes for the analyst to present to the stakeholders and decision-makers.  \n",
        "#####  Data dredging and other tactics that seek to level significances to meet parameters not in the data must be avoided. \n",
        "\n",
        "\n",
        "#### >>>\n",
        "4. If you select a higher or lower percentage for your training / test split what affect will it have on your validation of the model.\n",
        "\n",
        "#####  A too high percentage of training data can provide the test data inaccurate results or predictions.  Not enough training data will  result less than accurate algorithms in the model that can be generalize to the test set use in the model\n",
        "\n",
        "#### >>>\n",
        "5. Why do you need to validate your model?\n",
        "##### When the analysis uses the models algorithms he or she will be able to output a baseline performance of the models, compare the outcomes and make predictions correctly.  \n",
        "\n",
        "##### Accuracy is great, but it is not everything to an analysts making important prediction reports that others will use to make decisions.  So, the analyst must make sure the model is valid and reliable. \n",
        "\n",
        "##### Validation of the model provide more accurate predictictions and avoids the pitfalls of overfitting.  Also,  the process of cross‐validation, with 2-fold and k-fold cross-validation using random assignment in the train and test datasets support model validation process. \n",
        "\n",
        "#### >>>\n",
        "####  \n"
      ]
    },
    {
      "cell_type": "code",
      "metadata": {
        "id": "UAFomMSVmqqC",
        "colab": {
          "base_uri": "https://localhost:8080/",
          "height": 573
        },
        "outputId": "a60e7786-5515-4d93-ac1e-e31ea98fc6ac"
      },
      "source": [
        "%%R\n",
        "pct<-X #Change X to the percentage split you want to use\n",
        "  \n",
        "set.seed(1)\n",
        "samp<-sample(nrow(bank), size=pct*nrow(bank))\n",
        "bank_trn<-bank[samp]\n",
        "bank_tst<-bank[-samp]"
      ],
      "execution_count": 470,
      "outputs": [
        {
          "output_type": "stream",
          "text": [
            "R[write to console]: Error in withVisible({ : object 'X' not found\n",
            "\n"
          ],
          "name": "stderr"
        },
        {
          "output_type": "stream",
          "text": [
            "\n",
            "Error in withVisible({ : object 'X' not found\n"
          ],
          "name": "stdout"
        },
        {
          "output_type": "error",
          "ename": "RInterpreterError",
          "evalue": "ignored",
          "traceback": [
            "\u001b[0;31m---------------------------------------------------------------------------\u001b[0m",
            "\u001b[0;31mRRuntimeError\u001b[0m                             Traceback (most recent call last)",
            "\u001b[0;32m/usr/local/lib/python3.7/dist-packages/rpy2/ipython/rmagic.py\u001b[0m in \u001b[0;36meval\u001b[0;34m(self, code)\u001b[0m\n\u001b[1;32m    267\u001b[0m                 \u001b[0;31m# Need the newline in case the last line in code is a comment.\u001b[0m\u001b[0;34m\u001b[0m\u001b[0;34m\u001b[0m\u001b[0;34m\u001b[0m\u001b[0m\n\u001b[0;32m--> 268\u001b[0;31m                 \u001b[0mvalue\u001b[0m\u001b[0;34m,\u001b[0m \u001b[0mvisible\u001b[0m \u001b[0;34m=\u001b[0m \u001b[0mro\u001b[0m\u001b[0;34m.\u001b[0m\u001b[0mr\u001b[0m\u001b[0;34m(\u001b[0m\u001b[0;34m\"withVisible({%s\\n})\"\u001b[0m \u001b[0;34m%\u001b[0m \u001b[0mcode\u001b[0m\u001b[0;34m)\u001b[0m\u001b[0;34m\u001b[0m\u001b[0;34m\u001b[0m\u001b[0m\n\u001b[0m\u001b[1;32m    269\u001b[0m             \u001b[0;32mexcept\u001b[0m \u001b[0;34m(\u001b[0m\u001b[0mri\u001b[0m\u001b[0;34m.\u001b[0m\u001b[0membedded\u001b[0m\u001b[0;34m.\u001b[0m\u001b[0mRRuntimeError\u001b[0m\u001b[0;34m,\u001b[0m \u001b[0mValueError\u001b[0m\u001b[0;34m)\u001b[0m \u001b[0;32mas\u001b[0m \u001b[0mexception\u001b[0m\u001b[0;34m:\u001b[0m\u001b[0;34m\u001b[0m\u001b[0;34m\u001b[0m\u001b[0m\n",
            "\u001b[0;32m/usr/local/lib/python3.7/dist-packages/rpy2/robjects/__init__.py\u001b[0m in \u001b[0;36m__call__\u001b[0;34m(self, string)\u001b[0m\n\u001b[1;32m    437\u001b[0m         \u001b[0mp\u001b[0m \u001b[0;34m=\u001b[0m \u001b[0mrinterface\u001b[0m\u001b[0;34m.\u001b[0m\u001b[0mparse\u001b[0m\u001b[0;34m(\u001b[0m\u001b[0mstring\u001b[0m\u001b[0;34m)\u001b[0m\u001b[0;34m\u001b[0m\u001b[0;34m\u001b[0m\u001b[0m\n\u001b[0;32m--> 438\u001b[0;31m         \u001b[0mres\u001b[0m \u001b[0;34m=\u001b[0m \u001b[0mself\u001b[0m\u001b[0;34m.\u001b[0m\u001b[0meval\u001b[0m\u001b[0;34m(\u001b[0m\u001b[0mp\u001b[0m\u001b[0;34m)\u001b[0m\u001b[0;34m\u001b[0m\u001b[0;34m\u001b[0m\u001b[0m\n\u001b[0m\u001b[1;32m    439\u001b[0m         \u001b[0;32mreturn\u001b[0m \u001b[0mconversion\u001b[0m\u001b[0;34m.\u001b[0m\u001b[0mrpy2py\u001b[0m\u001b[0;34m(\u001b[0m\u001b[0mres\u001b[0m\u001b[0;34m)\u001b[0m\u001b[0;34m\u001b[0m\u001b[0;34m\u001b[0m\u001b[0m\n",
            "\u001b[0;32m/usr/local/lib/python3.7/dist-packages/rpy2/robjects/functions.py\u001b[0m in \u001b[0;36m__call__\u001b[0;34m(self, *args, **kwargs)\u001b[0m\n\u001b[1;32m    198\u001b[0m         return (super(SignatureTranslatedFunction, self)\n\u001b[0;32m--> 199\u001b[0;31m                 .__call__(*args, **kwargs))\n\u001b[0m\u001b[1;32m    200\u001b[0m \u001b[0;34m\u001b[0m\u001b[0m\n",
            "\u001b[0;32m/usr/local/lib/python3.7/dist-packages/rpy2/robjects/functions.py\u001b[0m in \u001b[0;36m__call__\u001b[0;34m(self, *args, **kwargs)\u001b[0m\n\u001b[1;32m    124\u001b[0m                 \u001b[0mnew_kwargs\u001b[0m\u001b[0;34m[\u001b[0m\u001b[0mk\u001b[0m\u001b[0;34m]\u001b[0m \u001b[0;34m=\u001b[0m \u001b[0mconversion\u001b[0m\u001b[0;34m.\u001b[0m\u001b[0mpy2rpy\u001b[0m\u001b[0;34m(\u001b[0m\u001b[0mv\u001b[0m\u001b[0;34m)\u001b[0m\u001b[0;34m\u001b[0m\u001b[0;34m\u001b[0m\u001b[0m\n\u001b[0;32m--> 125\u001b[0;31m         \u001b[0mres\u001b[0m \u001b[0;34m=\u001b[0m \u001b[0msuper\u001b[0m\u001b[0;34m(\u001b[0m\u001b[0mFunction\u001b[0m\u001b[0;34m,\u001b[0m \u001b[0mself\u001b[0m\u001b[0;34m)\u001b[0m\u001b[0;34m.\u001b[0m\u001b[0m__call__\u001b[0m\u001b[0;34m(\u001b[0m\u001b[0;34m*\u001b[0m\u001b[0mnew_args\u001b[0m\u001b[0;34m,\u001b[0m \u001b[0;34m**\u001b[0m\u001b[0mnew_kwargs\u001b[0m\u001b[0;34m)\u001b[0m\u001b[0;34m\u001b[0m\u001b[0;34m\u001b[0m\u001b[0m\n\u001b[0m\u001b[1;32m    126\u001b[0m         \u001b[0mres\u001b[0m \u001b[0;34m=\u001b[0m \u001b[0mconversion\u001b[0m\u001b[0;34m.\u001b[0m\u001b[0mrpy2py\u001b[0m\u001b[0;34m(\u001b[0m\u001b[0mres\u001b[0m\u001b[0;34m)\u001b[0m\u001b[0;34m\u001b[0m\u001b[0;34m\u001b[0m\u001b[0m\n",
            "\u001b[0;32m/usr/local/lib/python3.7/dist-packages/rpy2/rinterface_lib/conversion.py\u001b[0m in \u001b[0;36m_\u001b[0;34m(*args, **kwargs)\u001b[0m\n\u001b[1;32m     44\u001b[0m     \u001b[0;32mdef\u001b[0m \u001b[0m_\u001b[0m\u001b[0;34m(\u001b[0m\u001b[0;34m*\u001b[0m\u001b[0margs\u001b[0m\u001b[0;34m,\u001b[0m \u001b[0;34m**\u001b[0m\u001b[0mkwargs\u001b[0m\u001b[0;34m)\u001b[0m\u001b[0;34m:\u001b[0m\u001b[0;34m\u001b[0m\u001b[0;34m\u001b[0m\u001b[0m\n\u001b[0;32m---> 45\u001b[0;31m         \u001b[0mcdata\u001b[0m \u001b[0;34m=\u001b[0m \u001b[0mfunction\u001b[0m\u001b[0;34m(\u001b[0m\u001b[0;34m*\u001b[0m\u001b[0margs\u001b[0m\u001b[0;34m,\u001b[0m \u001b[0;34m**\u001b[0m\u001b[0mkwargs\u001b[0m\u001b[0;34m)\u001b[0m\u001b[0;34m\u001b[0m\u001b[0;34m\u001b[0m\u001b[0m\n\u001b[0m\u001b[1;32m     46\u001b[0m         \u001b[0;31m# TODO: test cdata is of the expected CType\u001b[0m\u001b[0;34m\u001b[0m\u001b[0;34m\u001b[0m\u001b[0;34m\u001b[0m\u001b[0m\n",
            "\u001b[0;32m/usr/local/lib/python3.7/dist-packages/rpy2/rinterface.py\u001b[0m in \u001b[0;36m__call__\u001b[0;34m(self, *args, **kwargs)\u001b[0m\n\u001b[1;32m    679\u001b[0m             \u001b[0;32mif\u001b[0m \u001b[0merror_occured\u001b[0m\u001b[0;34m[\u001b[0m\u001b[0;36m0\u001b[0m\u001b[0;34m]\u001b[0m\u001b[0;34m:\u001b[0m\u001b[0;34m\u001b[0m\u001b[0;34m\u001b[0m\u001b[0m\n\u001b[0;32m--> 680\u001b[0;31m                 \u001b[0;32mraise\u001b[0m \u001b[0membedded\u001b[0m\u001b[0;34m.\u001b[0m\u001b[0mRRuntimeError\u001b[0m\u001b[0;34m(\u001b[0m\u001b[0m_rinterface\u001b[0m\u001b[0;34m.\u001b[0m\u001b[0m_geterrmessage\u001b[0m\u001b[0;34m(\u001b[0m\u001b[0;34m)\u001b[0m\u001b[0;34m)\u001b[0m\u001b[0;34m\u001b[0m\u001b[0;34m\u001b[0m\u001b[0m\n\u001b[0m\u001b[1;32m    681\u001b[0m         \u001b[0;32mreturn\u001b[0m \u001b[0mres\u001b[0m\u001b[0;34m\u001b[0m\u001b[0;34m\u001b[0m\u001b[0m\n",
            "\u001b[0;31mRRuntimeError\u001b[0m: Error in withVisible({ : object 'X' not found\n",
            "\nDuring handling of the above exception, another exception occurred:\n",
            "\u001b[0;31mRInterpreterError\u001b[0m                         Traceback (most recent call last)",
            "\u001b[0;32m<ipython-input-470-e0f3592eaca4>\u001b[0m in \u001b[0;36m<module>\u001b[0;34m()\u001b[0m\n\u001b[0;32m----> 1\u001b[0;31m \u001b[0mget_ipython\u001b[0m\u001b[0;34m(\u001b[0m\u001b[0;34m)\u001b[0m\u001b[0;34m.\u001b[0m\u001b[0mrun_cell_magic\u001b[0m\u001b[0;34m(\u001b[0m\u001b[0;34m'R'\u001b[0m\u001b[0;34m,\u001b[0m \u001b[0;34m''\u001b[0m\u001b[0;34m,\u001b[0m \u001b[0;34m'pct<-X #Change X to the percentage split you want to use\\n  \\nset.seed(1)\\nsamp<-sample(nrow(bank), size=pct*nrow(bank))\\nbank_trn<-bank[samp]\\nbank_tst<-bank[-samp]'\u001b[0m\u001b[0;34m)\u001b[0m\u001b[0;34m\u001b[0m\u001b[0;34m\u001b[0m\u001b[0m\n\u001b[0m",
            "\u001b[0;32m/usr/local/lib/python3.7/dist-packages/IPython/core/interactiveshell.py\u001b[0m in \u001b[0;36mrun_cell_magic\u001b[0;34m(self, magic_name, line, cell)\u001b[0m\n\u001b[1;32m   2115\u001b[0m             \u001b[0mmagic_arg_s\u001b[0m \u001b[0;34m=\u001b[0m \u001b[0mself\u001b[0m\u001b[0;34m.\u001b[0m\u001b[0mvar_expand\u001b[0m\u001b[0;34m(\u001b[0m\u001b[0mline\u001b[0m\u001b[0;34m,\u001b[0m \u001b[0mstack_depth\u001b[0m\u001b[0;34m)\u001b[0m\u001b[0;34m\u001b[0m\u001b[0;34m\u001b[0m\u001b[0m\n\u001b[1;32m   2116\u001b[0m             \u001b[0;32mwith\u001b[0m \u001b[0mself\u001b[0m\u001b[0;34m.\u001b[0m\u001b[0mbuiltin_trap\u001b[0m\u001b[0;34m:\u001b[0m\u001b[0;34m\u001b[0m\u001b[0;34m\u001b[0m\u001b[0m\n\u001b[0;32m-> 2117\u001b[0;31m                 \u001b[0mresult\u001b[0m \u001b[0;34m=\u001b[0m \u001b[0mfn\u001b[0m\u001b[0;34m(\u001b[0m\u001b[0mmagic_arg_s\u001b[0m\u001b[0;34m,\u001b[0m \u001b[0mcell\u001b[0m\u001b[0;34m)\u001b[0m\u001b[0;34m\u001b[0m\u001b[0;34m\u001b[0m\u001b[0m\n\u001b[0m\u001b[1;32m   2118\u001b[0m             \u001b[0;32mreturn\u001b[0m \u001b[0mresult\u001b[0m\u001b[0;34m\u001b[0m\u001b[0;34m\u001b[0m\u001b[0m\n\u001b[1;32m   2119\u001b[0m \u001b[0;34m\u001b[0m\u001b[0m\n",
            "\u001b[0;32m<decorator-gen-119>\u001b[0m in \u001b[0;36mR\u001b[0;34m(self, line, cell, local_ns)\u001b[0m\n",
            "\u001b[0;32m/usr/local/lib/python3.7/dist-packages/IPython/core/magic.py\u001b[0m in \u001b[0;36m<lambda>\u001b[0;34m(f, *a, **k)\u001b[0m\n\u001b[1;32m    186\u001b[0m     \u001b[0;31m# but it's overkill for just that one bit of state.\u001b[0m\u001b[0;34m\u001b[0m\u001b[0;34m\u001b[0m\u001b[0;34m\u001b[0m\u001b[0m\n\u001b[1;32m    187\u001b[0m     \u001b[0;32mdef\u001b[0m \u001b[0mmagic_deco\u001b[0m\u001b[0;34m(\u001b[0m\u001b[0marg\u001b[0m\u001b[0;34m)\u001b[0m\u001b[0;34m:\u001b[0m\u001b[0;34m\u001b[0m\u001b[0;34m\u001b[0m\u001b[0m\n\u001b[0;32m--> 188\u001b[0;31m         \u001b[0mcall\u001b[0m \u001b[0;34m=\u001b[0m \u001b[0;32mlambda\u001b[0m \u001b[0mf\u001b[0m\u001b[0;34m,\u001b[0m \u001b[0;34m*\u001b[0m\u001b[0ma\u001b[0m\u001b[0;34m,\u001b[0m \u001b[0;34m**\u001b[0m\u001b[0mk\u001b[0m\u001b[0;34m:\u001b[0m \u001b[0mf\u001b[0m\u001b[0;34m(\u001b[0m\u001b[0;34m*\u001b[0m\u001b[0ma\u001b[0m\u001b[0;34m,\u001b[0m \u001b[0;34m**\u001b[0m\u001b[0mk\u001b[0m\u001b[0;34m)\u001b[0m\u001b[0;34m\u001b[0m\u001b[0;34m\u001b[0m\u001b[0m\n\u001b[0m\u001b[1;32m    189\u001b[0m \u001b[0;34m\u001b[0m\u001b[0m\n\u001b[1;32m    190\u001b[0m         \u001b[0;32mif\u001b[0m \u001b[0mcallable\u001b[0m\u001b[0;34m(\u001b[0m\u001b[0marg\u001b[0m\u001b[0;34m)\u001b[0m\u001b[0;34m:\u001b[0m\u001b[0;34m\u001b[0m\u001b[0;34m\u001b[0m\u001b[0m\n",
            "\u001b[0;32m/usr/local/lib/python3.7/dist-packages/rpy2/ipython/rmagic.py\u001b[0m in \u001b[0;36mR\u001b[0;34m(self, line, cell, local_ns)\u001b[0m\n\u001b[1;32m    781\u001b[0m             \u001b[0;32mif\u001b[0m \u001b[0;32mnot\u001b[0m \u001b[0me\u001b[0m\u001b[0;34m.\u001b[0m\u001b[0mstdout\u001b[0m\u001b[0;34m.\u001b[0m\u001b[0mendswith\u001b[0m\u001b[0;34m(\u001b[0m\u001b[0me\u001b[0m\u001b[0;34m.\u001b[0m\u001b[0merr\u001b[0m\u001b[0;34m)\u001b[0m\u001b[0;34m:\u001b[0m\u001b[0;34m\u001b[0m\u001b[0;34m\u001b[0m\u001b[0m\n\u001b[1;32m    782\u001b[0m                 \u001b[0mprint\u001b[0m\u001b[0;34m(\u001b[0m\u001b[0me\u001b[0m\u001b[0;34m.\u001b[0m\u001b[0merr\u001b[0m\u001b[0;34m)\u001b[0m\u001b[0;34m\u001b[0m\u001b[0;34m\u001b[0m\u001b[0m\n\u001b[0;32m--> 783\u001b[0;31m             \u001b[0;32mraise\u001b[0m \u001b[0me\u001b[0m\u001b[0;34m\u001b[0m\u001b[0;34m\u001b[0m\u001b[0m\n\u001b[0m\u001b[1;32m    784\u001b[0m         \u001b[0;32mfinally\u001b[0m\u001b[0;34m:\u001b[0m\u001b[0;34m\u001b[0m\u001b[0;34m\u001b[0m\u001b[0m\n\u001b[1;32m    785\u001b[0m             \u001b[0;32mif\u001b[0m \u001b[0mself\u001b[0m\u001b[0;34m.\u001b[0m\u001b[0mdevice\u001b[0m \u001b[0;32min\u001b[0m \u001b[0;34m[\u001b[0m\u001b[0;34m'png'\u001b[0m\u001b[0;34m,\u001b[0m \u001b[0;34m'svg'\u001b[0m\u001b[0;34m]\u001b[0m\u001b[0;34m:\u001b[0m\u001b[0;34m\u001b[0m\u001b[0;34m\u001b[0m\u001b[0m\n",
            "\u001b[0;32m/usr/local/lib/python3.7/dist-packages/rpy2/ipython/rmagic.py\u001b[0m in \u001b[0;36mR\u001b[0;34m(self, line, cell, local_ns)\u001b[0m\n\u001b[1;32m    761\u001b[0m                     \u001b[0mreturn_output\u001b[0m \u001b[0;34m=\u001b[0m \u001b[0;32mFalse\u001b[0m\u001b[0;34m\u001b[0m\u001b[0;34m\u001b[0m\u001b[0m\n\u001b[1;32m    762\u001b[0m             \u001b[0;32melse\u001b[0m\u001b[0;34m:\u001b[0m\u001b[0;34m\u001b[0m\u001b[0;34m\u001b[0m\u001b[0m\n\u001b[0;32m--> 763\u001b[0;31m                 \u001b[0mtext_result\u001b[0m\u001b[0;34m,\u001b[0m \u001b[0mresult\u001b[0m\u001b[0;34m,\u001b[0m \u001b[0mvisible\u001b[0m \u001b[0;34m=\u001b[0m \u001b[0mself\u001b[0m\u001b[0;34m.\u001b[0m\u001b[0meval\u001b[0m\u001b[0;34m(\u001b[0m\u001b[0mcode\u001b[0m\u001b[0;34m)\u001b[0m\u001b[0;34m\u001b[0m\u001b[0;34m\u001b[0m\u001b[0m\n\u001b[0m\u001b[1;32m    764\u001b[0m                 \u001b[0mtext_output\u001b[0m \u001b[0;34m+=\u001b[0m \u001b[0mtext_result\u001b[0m\u001b[0;34m\u001b[0m\u001b[0;34m\u001b[0m\u001b[0m\n\u001b[1;32m    765\u001b[0m                 \u001b[0;32mif\u001b[0m \u001b[0mvisible\u001b[0m\u001b[0;34m:\u001b[0m\u001b[0;34m\u001b[0m\u001b[0;34m\u001b[0m\u001b[0m\n",
            "\u001b[0;32m/usr/local/lib/python3.7/dist-packages/rpy2/ipython/rmagic.py\u001b[0m in \u001b[0;36meval\u001b[0;34m(self, code)\u001b[0m\n\u001b[1;32m    271\u001b[0m                 \u001b[0mwarning_or_other_msg\u001b[0m \u001b[0;34m=\u001b[0m \u001b[0mself\u001b[0m\u001b[0;34m.\u001b[0m\u001b[0mflush\u001b[0m\u001b[0;34m(\u001b[0m\u001b[0;34m)\u001b[0m\u001b[0;34m\u001b[0m\u001b[0;34m\u001b[0m\u001b[0m\n\u001b[1;32m    272\u001b[0m                 raise RInterpreterError(code, str(exception),\n\u001b[0;32m--> 273\u001b[0;31m                                         warning_or_other_msg)\n\u001b[0m\u001b[1;32m    274\u001b[0m             \u001b[0mtext_output\u001b[0m \u001b[0;34m=\u001b[0m \u001b[0mself\u001b[0m\u001b[0;34m.\u001b[0m\u001b[0mflush\u001b[0m\u001b[0;34m(\u001b[0m\u001b[0;34m)\u001b[0m\u001b[0;34m\u001b[0m\u001b[0;34m\u001b[0m\u001b[0m\n\u001b[1;32m    275\u001b[0m             \u001b[0;32mreturn\u001b[0m \u001b[0mtext_output\u001b[0m\u001b[0;34m,\u001b[0m \u001b[0mvalue\u001b[0m\u001b[0;34m,\u001b[0m \u001b[0mvisible\u001b[0m\u001b[0;34m[\u001b[0m\u001b[0;36m0\u001b[0m\u001b[0;34m]\u001b[0m\u001b[0;34m\u001b[0m\u001b[0;34m\u001b[0m\u001b[0m\n",
            "\u001b[0;31mRInterpreterError\u001b[0m: Failed to parse and evaluate line 'pct<-X #Change X to the percentage split you want to use\\n  \\nset.seed(1)\\nsamp<-sample(nrow(bank), size=pct*nrow(bank))\\nbank_trn<-bank[samp]\\nbank_tst<-bank[-samp]'.\nR error message: \"Error in withVisible({ : object 'X' not found\""
          ]
        }
      ]
    },
    {
      "cell_type": "code",
      "metadata": {
        "id": "w88BHENhqNvv"
      },
      "source": [
        "%%R\n",
        "#B. Decision Trees\n",
        "  \n",
        "#1. Model and Display the Tree\n",
        "rpart1<-rpart(y~., bank_trn[, .(y, #Put your predictors here separated by a comma\n",
        "                                  \n",
        "                                  )], method=\"class\")\n",
        "\n"
      ],
      "execution_count": null,
      "outputs": []
    },
    {
      "cell_type": "code",
      "metadata": {
        "id": "2HV5o5CYyO6S"
      },
      "source": [
        "%%R\n",
        "#Display you tree "
      ],
      "execution_count": null,
      "outputs": []
    },
    {
      "cell_type": "code",
      "metadata": {
        "id": "Ul9cy-DasP0F"
      },
      "source": [
        "%%R\n",
        "#Predict \n",
        "pred1<-predict(rpart1, bank_tst, type=\"class\")\n",
        "tbl_dec1<-table(bank_tst$y, pred1)\n",
        "tbl_dec1\n"
      ],
      "execution_count": null,
      "outputs": []
    },
    {
      "cell_type": "code",
      "metadata": {
        "id": "-m19ZaX7sbL9"
      },
      "source": [
        "%%R\n",
        "accuracy_Test1 <- sum(diag(tbl_dec1)) / sum(tbl_dec1)\n",
        "accuracy_Test1  "
      ],
      "execution_count": null,
      "outputs": []
    },
    {
      "cell_type": "markdown",
      "metadata": {
        "id": "XzKiCgtzyu5m"
      },
      "source": [
        "Adjust some tuning paramters. \n",
        "\n",
        "**Default**\n",
        "rpart.control(minsplit = 20, minbucket = round(minsplit/3), cp = 0.01, \n",
        "              maxcompete = 4, maxsurrogate = 5, usesurrogate = 2, xval = 10,\n",
        "              surrogatestyle = 0, maxdepth = 30, ...)\n",
        "\n",
        "Using R, we can adjust the following: \n",
        "\n",
        "**Arguments**\n",
        "\n",
        "minsplit - the minimum number of observations that must exist in a node in order for a split to be attempted.\n",
        "\n",
        "minbucket\t- the minimum number of observations in any terminal <leaf> node. If only one of minbucket or minsplit is specified, the code either sets minsplit to minbucket*3 or minbucket to minsplit/3, as appropriate.\n",
        "\n",
        "maxdepth\t\n",
        "Set the maximum depth of any node of the final tree, with the root node counted as depth 0. Values greater than 30 rpart will give nonsense results on 32-bit machines.\n",
        "\n",
        "cp\t- complexity parameter. Any split that does not decrease the overall lack of fit by a factor of cp is not attempted. The main role of this parameter is to save computing time by pruning off splits that are obviously not worthwhile. Essentially,the user informs the program that any split which does not improve the fit by cp will likely be pruned off by cross-validation, and that hence the program need not pursue it."
      ]
    },
    {
      "cell_type": "code",
      "metadata": {
        "id": "tiznzxOXt3mj"
      },
      "source": [
        "%%R\n",
        "#Adjust tuning parameters\n",
        "cont <- rpart.control(\n",
        "    minsplit = #X,\n",
        "      minbucket = #X,\n",
        "      maxdepth = #X,\n",
        "      cp = #X)\t\n",
        "      \n",
        "rpart2<-rpart(y~., bank_trn[, .(y, #Put your predictors here separated by a comma. Use the same ones as above\n",
        "                                , method=\"class\"\n",
        "      , control=cont)\n"
      ],
      "execution_count": null,
      "outputs": []
    },
    {
      "cell_type": "code",
      "metadata": {
        "id": "YAg-1B6sy4xk"
      },
      "source": [
        "#Display your tree"
      ],
      "execution_count": null,
      "outputs": []
    },
    {
      "cell_type": "markdown",
      "metadata": {
        "id": "2DLmoUrT0Dlr"
      },
      "source": [
        "1. Describe what your tree looks like after you adjusted tuning parameters?\n",
        "\n",
        "2. Generally, why are tuning parameters important in models?"
      ]
    },
    {
      "cell_type": "code",
      "metadata": {
        "id": "FX5b6eD4HuQg"
      },
      "source": [
        ""
      ],
      "execution_count": null,
      "outputs": []
    },
    {
      "cell_type": "code",
      "metadata": {
        "id": "XexGh64mtCiq"
      },
      "source": [
        "%%R\n",
        "#4. Variable importance\n",
        "var.imp<-as.data.frame(rpart2$variable.importance)\n",
        "var.imp$variable<-row.names(var.imp)\n",
        "var.imp<-as.data.table(var.imp)\n",
        "var.imp[, variable:=factor(variable, levels=c(var.imp[, .(variable)][order(rpart2$variable.importance)] %>% pull()))]\n",
        "\n",
        "var.imp_plt2<-ggplot(var.imp, aes(x=as.factor(variable), y=rpart2$variable.importance))+geom_bar(stat=\"identity\")+theme_classic()+coord_flip()\n",
        "var.imp_plt2"
      ],
      "execution_count": null,
      "outputs": []
    },
    {
      "cell_type": "markdown",
      "metadata": {
        "id": "BSw7y2ap3c64"
      },
      "source": [
        "1. Where any of the features you developed important? Please describe."
      ]
    },
    {
      "cell_type": "code",
      "metadata": {
        "id": "1AUXj4jPujVM"
      },
      "source": [
        "%%R\n",
        "#5. Predict \n",
        "pred2<-predict(rpart2, bank_tst, type=\"class\")\n",
        "tbl_dec2<-table(bank_tst$y, pred2)\n",
        "tbl_dec2"
      ],
      "execution_count": null,
      "outputs": []
    },
    {
      "cell_type": "code",
      "metadata": {
        "id": "5Co0TgMcurYw"
      },
      "source": [
        "%%R\n",
        "accuracy_Test2 <- sum(diag(tbl_dec2)) / sum(tbl_dec2)\n",
        "accuracy_Test2"
      ],
      "execution_count": null,
      "outputs": []
    },
    {
      "cell_type": "code",
      "metadata": {
        "id": "r0NF8OiKvAqp"
      },
      "source": [
        "%%R\n",
        "#6. ROCR Curve\n",
        "pred_rocr2<-predict(rpart2, newdata=bank_tst, type=\"prob\")[,2]\n",
        "pred_rocr2<-prediction(pred_rocr2, labels=as.data.frame(bank_tst$y))\n",
        "perf2 <- performance(pred_rocr2, \"tpr\", \"fpr\")\n",
        "perf2<-data.table(fpr=perf2@x.values[[1]], tpr=perf2@y.values[[1]])\n",
        "\n",
        "auc<-performance(pred_rocr2, \"auc\")\n",
        "auc<-round(auc@y.values[[1]],2)\n",
        "auc"
      ],
      "execution_count": null,
      "outputs": []
    },
    {
      "cell_type": "markdown",
      "metadata": {
        "id": "rVduLGBE3m6S"
      },
      "source": [
        "1. Please describe AUC.  \n",
        "\n",
        "2. What is it used to measure?\n",
        "\n",
        "3. How did your model do? \n",
        "\n",
        "4. Do you think your model has a reliable prediction? Why or Why Not?"
      ]
    },
    {
      "cell_type": "code",
      "metadata": {
        "id": "WUuXLZyxvZ6l"
      },
      "source": [
        "%%R\n",
        "rocr2_plt2<-ggplot(perf2, aes(x=fpr, y=tpr))+geom_line()+theme_classic()\n",
        "rocr2_plt2<-rocr2_plt2+geom_abline(intercept=0, color=\"red\")\n",
        "rocr2_plt2"
      ],
      "execution_count": null,
      "outputs": []
    },
    {
      "cell_type": "markdown",
      "metadata": {
        "id": "9guzsGbPPWia"
      },
      "source": [
        "#V. Python Data Analysis"
      ]
    },
    {
      "cell_type": "markdown",
      "metadata": {
        "id": "Qw_T8SwHYN-j"
      },
      "source": [
        "### H2O Setup\n",
        "\n"
      ]
    },
    {
      "cell_type": "code",
      "metadata": {
        "id": "9G88_X1bYc5X"
      },
      "source": [
        "import h2o\n",
        "\n",
        "h2o.init()\n",
        "#h2o.shutdown()"
      ],
      "execution_count": null,
      "outputs": []
    },
    {
      "cell_type": "code",
      "metadata": {
        "id": "VVaoMtt6Ik8E"
      },
      "source": [
        "# Dataframe\n",
        "bank_pd = bank_p.to_pandas()"
      ],
      "execution_count": 472,
      "outputs": []
    },
    {
      "cell_type": "code",
      "metadata": {
        "id": "wtXXhXSg53S-",
        "colab": {
          "base_uri": "https://localhost:8080/",
          "height": 348
        },
        "outputId": "187ada92-9c7e-49c1-fb0d-285d6399219f"
      },
      "source": [
        "#Plot 1\n",
        "# numeric_col = ['y1', 'age']\n",
        "\n",
        "# corr_matrix = bank_pd.loc[:,numeric_col].corr()\n",
        "# print(corr_matrix)\n",
        " \n",
        "#Using heatmap to visualize the correlation matrix\n",
        "# sn.heatmap(corr_matrix, annot=True)\n",
        "\n",
        "crosstab_01 = pd.crosstab(bank_pd['Age_CAT'], bank_pd['y1'])\n",
        "crosstab_norm = crosstab_01.div(crosstab_01.sum(1), axis = 0)\n",
        "crosstab_norm.plot(kind='bar', stacked = False)"
      ],
      "execution_count": 473,
      "outputs": [
        {
          "output_type": "execute_result",
          "data": {
            "text/plain": [
              "<matplotlib.axes._subplots.AxesSubplot at 0x7f224aa28750>"
            ]
          },
          "metadata": {
            "tags": []
          },
          "execution_count": 473
        },
        {
          "output_type": "display_data",
          "data": {
            "image/png": "[encoded data removed]",
            "text/plain": [
              "<Figure size 432x288 with 1 Axes>"
            ]
          },
          "metadata": {
            "tags": [],
            "needs_background": "light"
          }
        }
      ]
    },
    {
      "cell_type": "code",
      "metadata": {
        "id": "3lhkc4tG53TA",
        "colab": {
          "base_uri": "https://localhost:8080/",
          "height": 337
        },
        "outputId": "d487fe82-80c8-4bf3-af72-4b87cfb92857"
      },
      "source": [
        "#Plot 2\n",
        "crosstab_02 = pd.crosstab(bank_pd['education'], bank_pd['y1'])\n",
        "crosstab_norm = crosstab_02.div(crosstab_02.sum(1), axis = 0)\n",
        "crosstab_norm.plot(kind='bar', stacked = False)"
      ],
      "execution_count": 474,
      "outputs": [
        {
          "output_type": "execute_result",
          "data": {
            "text/plain": [
              "<matplotlib.axes._subplots.AxesSubplot at 0x7f2241bd8090>"
            ]
          },
          "metadata": {
            "tags": []
          },
          "execution_count": 474
        },
        {
          "output_type": "display_data",
          "data": {
            "image/png": "[encoded data removed]",
            "text/plain": [
              "<Figure size 432x288 with 1 Axes>"
            ]
          },
          "metadata": {
            "tags": [],
            "needs_background": "light"
          }
        }
      ]
    },
    {
      "cell_type": "code",
      "metadata": {
        "id": "eBzMN6m053TC",
        "colab": {
          "base_uri": "https://localhost:8080/",
          "height": 303
        },
        "outputId": "038eb3d1-6b90-48dd-bcd5-1543e63d78bd"
      },
      "source": [
        "#Plot 3\n",
        "crosstab_03 = pd.crosstab(bank_pd['housing'], bank_pd['y1'])\n",
        "crosstab_norm = crosstab_03.div(crosstab_03.sum(1), axis = 0)\n",
        "crosstab_norm.plot(kind='bar', stacked = False)"
      ],
      "execution_count": 475,
      "outputs": [
        {
          "output_type": "execute_result",
          "data": {
            "text/plain": [
              "<matplotlib.axes._subplots.AxesSubplot at 0x7f22415544d0>"
            ]
          },
          "metadata": {
            "tags": []
          },
          "execution_count": 475
        },
        {
          "output_type": "display_data",
          "data": {
            "image/png": "[encoded data removed]",
            "text/plain": [
              "<Figure size 432x288 with 1 Axes>"
            ]
          },
          "metadata": {
            "tags": [],
            "needs_background": "light"
          }
        }
      ]
    },
    {
      "cell_type": "code",
      "metadata": {
        "id": "NK3-mFWd53TD",
        "colab": {
          "base_uri": "https://localhost:8080/",
          "height": 421
        },
        "outputId": "18f6fded-45b9-4ce1-bddc-39b0190a2f69"
      },
      "source": [
        "#Plot 4\n",
        "crosstab_01 = pd.crosstab(bank_pd['age'], bank_pd['marital'])\n",
        "crosstab_01['Total'] = crosstab_01.sum(axis=1)  #JJG - Changed t1 to crosstab_01\n",
        "crosstab_01.loc['Total'] = crosstab_01.sum()    #JJG - Changed t1 to crosstab_01\n",
        "crosstab_01"
      ],
      "execution_count": 476,
      "outputs": [
        {
          "output_type": "execute_result",
          "data": {
            "text/html": [
              "<div>\n",
              "<style scoped>\n",
              "    .dataframe tbody tr th:only-of-type {\n",
              "        vertical-align: middle;\n",
              "    }\n",
              "\n",
              "    .dataframe tbody tr th {\n",
              "        vertical-align: top;\n",
              "    }\n",
              "\n",
              "    .dataframe thead th {\n",
              "        text-align: right;\n",
              "    }\n",
              "</style>\n",
              "<table border=\"1\" class=\"dataframe\">\n",
              "  <thead>\n",
              "    <tr style=\"text-align: right;\">\n",
              "      <th>marital</th>\n",
              "      <th>divorced</th>\n",
              "      <th>married</th>\n",
              "      <th>single</th>\n",
              "      <th>Total</th>\n",
              "    </tr>\n",
              "    <tr>\n",
              "      <th>age</th>\n",
              "      <th></th>\n",
              "      <th></th>\n",
              "      <th></th>\n",
              "      <th></th>\n",
              "    </tr>\n",
              "  </thead>\n",
              "  <tbody>\n",
              "    <tr>\n",
              "      <th>18</th>\n",
              "      <td>0</td>\n",
              "      <td>0</td>\n",
              "      <td>12</td>\n",
              "      <td>12</td>\n",
              "    </tr>\n",
              "    <tr>\n",
              "      <th>19</th>\n",
              "      <td>0</td>\n",
              "      <td>0</td>\n",
              "      <td>35</td>\n",
              "      <td>35</td>\n",
              "    </tr>\n",
              "    <tr>\n",
              "      <th>20</th>\n",
              "      <td>0</td>\n",
              "      <td>3</td>\n",
              "      <td>47</td>\n",
              "      <td>50</td>\n",
              "    </tr>\n",
              "    <tr>\n",
              "      <th>21</th>\n",
              "      <td>0</td>\n",
              "      <td>5</td>\n",
              "      <td>74</td>\n",
              "      <td>79</td>\n",
              "    </tr>\n",
              "    <tr>\n",
              "      <th>22</th>\n",
              "      <td>0</td>\n",
              "      <td>9</td>\n",
              "      <td>120</td>\n",
              "      <td>129</td>\n",
              "    </tr>\n",
              "    <tr>\n",
              "      <th>...</th>\n",
              "      <td>...</td>\n",
              "      <td>...</td>\n",
              "      <td>...</td>\n",
              "      <td>...</td>\n",
              "    </tr>\n",
              "    <tr>\n",
              "      <th>92</th>\n",
              "      <td>0</td>\n",
              "      <td>2</td>\n",
              "      <td>0</td>\n",
              "      <td>2</td>\n",
              "    </tr>\n",
              "    <tr>\n",
              "      <th>93</th>\n",
              "      <td>0</td>\n",
              "      <td>2</td>\n",
              "      <td>0</td>\n",
              "      <td>2</td>\n",
              "    </tr>\n",
              "    <tr>\n",
              "      <th>94</th>\n",
              "      <td>1</td>\n",
              "      <td>0</td>\n",
              "      <td>0</td>\n",
              "      <td>1</td>\n",
              "    </tr>\n",
              "    <tr>\n",
              "      <th>95</th>\n",
              "      <td>1</td>\n",
              "      <td>1</td>\n",
              "      <td>0</td>\n",
              "      <td>2</td>\n",
              "    </tr>\n",
              "    <tr>\n",
              "      <th>Total</th>\n",
              "      <td>5207</td>\n",
              "      <td>27211</td>\n",
              "      <td>12790</td>\n",
              "      <td>45208</td>\n",
              "    </tr>\n",
              "  </tbody>\n",
              "</table>\n",
              "<p>78 rows × 4 columns</p>\n",
              "</div>"
            ],
            "text/plain": [
              "marital  divorced  married  single  Total\n",
              "age                                      \n",
              "18              0        0      12     12\n",
              "19              0        0      35     35\n",
              "20              0        3      47     50\n",
              "21              0        5      74     79\n",
              "22              0        9     120    129\n",
              "...           ...      ...     ...    ...\n",
              "92              0        2       0      2\n",
              "93              0        2       0      2\n",
              "94              1        0       0      1\n",
              "95              1        1       0      2\n",
              "Total        5207    27211   12790  45208\n",
              "\n",
              "[78 rows x 4 columns]"
            ]
          },
          "metadata": {
            "tags": []
          },
          "execution_count": 476
        }
      ]
    },
    {
      "cell_type": "code",
      "metadata": {
        "id": "M3ptp9uZ53TF",
        "colab": {
          "base_uri": "https://localhost:8080/",
          "height": 421
        },
        "outputId": "a33d6c47-29a2-4d49-b1d1-aa8e55e24210"
      },
      "source": [
        "#Contingency Table 1\n",
        "crosstab_01 = pd.crosstab(bank_pd['age'], bank_pd['marital'])\n",
        "crosstab_01['Total'] = crosstab_01.sum(axis=1)  #JJG - Changed t1 to crosstab_01\n",
        "crosstab_01.loc['Total'] = crosstab_01.sum()    #JJG - Changed t1 to crosstab_01\n",
        "crosstab_01"
      ],
      "execution_count": 477,
      "outputs": [
        {
          "output_type": "execute_result",
          "data": {
            "text/html": [
              "<div>\n",
              "<style scoped>\n",
              "    .dataframe tbody tr th:only-of-type {\n",
              "        vertical-align: middle;\n",
              "    }\n",
              "\n",
              "    .dataframe tbody tr th {\n",
              "        vertical-align: top;\n",
              "    }\n",
              "\n",
              "    .dataframe thead th {\n",
              "        text-align: right;\n",
              "    }\n",
              "</style>\n",
              "<table border=\"1\" class=\"dataframe\">\n",
              "  <thead>\n",
              "    <tr style=\"text-align: right;\">\n",
              "      <th>marital</th>\n",
              "      <th>divorced</th>\n",
              "      <th>married</th>\n",
              "      <th>single</th>\n",
              "      <th>Total</th>\n",
              "    </tr>\n",
              "    <tr>\n",
              "      <th>age</th>\n",
              "      <th></th>\n",
              "      <th></th>\n",
              "      <th></th>\n",
              "      <th></th>\n",
              "    </tr>\n",
              "  </thead>\n",
              "  <tbody>\n",
              "    <tr>\n",
              "      <th>18</th>\n",
              "      <td>0</td>\n",
              "      <td>0</td>\n",
              "      <td>12</td>\n",
              "      <td>12</td>\n",
              "    </tr>\n",
              "    <tr>\n",
              "      <th>19</th>\n",
              "      <td>0</td>\n",
              "      <td>0</td>\n",
              "      <td>35</td>\n",
              "      <td>35</td>\n",
              "    </tr>\n",
              "    <tr>\n",
              "      <th>20</th>\n",
              "      <td>0</td>\n",
              "      <td>3</td>\n",
              "      <td>47</td>\n",
              "      <td>50</td>\n",
              "    </tr>\n",
              "    <tr>\n",
              "      <th>21</th>\n",
              "      <td>0</td>\n",
              "      <td>5</td>\n",
              "      <td>74</td>\n",
              "      <td>79</td>\n",
              "    </tr>\n",
              "    <tr>\n",
              "      <th>22</th>\n",
              "      <td>0</td>\n",
              "      <td>9</td>\n",
              "      <td>120</td>\n",
              "      <td>129</td>\n",
              "    </tr>\n",
              "    <tr>\n",
              "      <th>...</th>\n",
              "      <td>...</td>\n",
              "      <td>...</td>\n",
              "      <td>...</td>\n",
              "      <td>...</td>\n",
              "    </tr>\n",
              "    <tr>\n",
              "      <th>92</th>\n",
              "      <td>0</td>\n",
              "      <td>2</td>\n",
              "      <td>0</td>\n",
              "      <td>2</td>\n",
              "    </tr>\n",
              "    <tr>\n",
              "      <th>93</th>\n",
              "      <td>0</td>\n",
              "      <td>2</td>\n",
              "      <td>0</td>\n",
              "      <td>2</td>\n",
              "    </tr>\n",
              "    <tr>\n",
              "      <th>94</th>\n",
              "      <td>1</td>\n",
              "      <td>0</td>\n",
              "      <td>0</td>\n",
              "      <td>1</td>\n",
              "    </tr>\n",
              "    <tr>\n",
              "      <th>95</th>\n",
              "      <td>1</td>\n",
              "      <td>1</td>\n",
              "      <td>0</td>\n",
              "      <td>2</td>\n",
              "    </tr>\n",
              "    <tr>\n",
              "      <th>Total</th>\n",
              "      <td>5207</td>\n",
              "      <td>27211</td>\n",
              "      <td>12790</td>\n",
              "      <td>45208</td>\n",
              "    </tr>\n",
              "  </tbody>\n",
              "</table>\n",
              "<p>78 rows × 4 columns</p>\n",
              "</div>"
            ],
            "text/plain": [
              "marital  divorced  married  single  Total\n",
              "age                                      \n",
              "18              0        0      12     12\n",
              "19              0        0      35     35\n",
              "20              0        3      47     50\n",
              "21              0        5      74     79\n",
              "22              0        9     120    129\n",
              "...           ...      ...     ...    ...\n",
              "92              0        2       0      2\n",
              "93              0        2       0      2\n",
              "94              1        0       0      1\n",
              "95              1        1       0      2\n",
              "Total        5207    27211   12790  45208\n",
              "\n",
              "[78 rows x 4 columns]"
            ]
          },
          "metadata": {
            "tags": []
          },
          "execution_count": 477
        }
      ]
    },
    {
      "cell_type": "code",
      "metadata": {
        "id": "UU9V8A-H53TH"
      },
      "source": [
        "#Contingency Table 2"
      ],
      "execution_count": 478,
      "outputs": []
    },
    {
      "cell_type": "code",
      "metadata": {
        "colab": {
          "base_uri": "https://localhost:8080/",
          "height": 133
        },
        "id": "dIE27ty6gFN4",
        "outputId": "99541a74-8a0c-494c-9989-53fc4b39c886"
      },
      "source": [
        "crosstab_02 = pd.crosstab(bank_pd['Education'], bank_pd['y1'])\n",
        "\n",
        "crosstab_02 = pd.crosstab(bank_pd['y1'], bank_pd['Education'])\n",
        "round(crosstab_02.div(crosstab_02.sum(0), axis = 1)*100, 1)"
      ],
      "execution_count": 414,
      "outputs": [
        {
          "output_type": "execute_result",
          "data": {
            "text/html": [
              "<div>\n",
              "<style scoped>\n",
              "    .dataframe tbody tr th:only-of-type {\n",
              "        vertical-align: middle;\n",
              "    }\n",
              "\n",
              "    .dataframe tbody tr th {\n",
              "        vertical-align: top;\n",
              "    }\n",
              "\n",
              "    .dataframe thead th {\n",
              "        text-align: right;\n",
              "    }\n",
              "</style>\n",
              "<table border=\"1\" class=\"dataframe\">\n",
              "  <thead>\n",
              "    <tr style=\"text-align: right;\">\n",
              "      <th>Education</th>\n",
              "      <th>0</th>\n",
              "      <th>1</th>\n",
              "      <th>2</th>\n",
              "      <th>3</th>\n",
              "    </tr>\n",
              "    <tr>\n",
              "      <th>y1</th>\n",
              "      <th></th>\n",
              "      <th></th>\n",
              "      <th></th>\n",
              "      <th></th>\n",
              "    </tr>\n",
              "  </thead>\n",
              "  <tbody>\n",
              "    <tr>\n",
              "      <th>0</th>\n",
              "      <td>91.4</td>\n",
              "      <td>89.4</td>\n",
              "      <td>85.0</td>\n",
              "      <td>86.4</td>\n",
              "    </tr>\n",
              "    <tr>\n",
              "      <th>1</th>\n",
              "      <td>8.6</td>\n",
              "      <td>10.6</td>\n",
              "      <td>15.0</td>\n",
              "      <td>13.6</td>\n",
              "    </tr>\n",
              "  </tbody>\n",
              "</table>\n",
              "</div>"
            ],
            "text/plain": [
              "Education     0     1     2     3\n",
              "y1                               \n",
              "0          91.4  89.4  85.0  86.4\n",
              "1           8.6  10.6  15.0  13.6"
            ]
          },
          "metadata": {
            "tags": []
          },
          "execution_count": 414
        }
      ]
    },
    {
      "cell_type": "code",
      "metadata": {
        "id": "l6n_I_TgPaoj",
        "colab": {
          "base_uri": "https://localhost:8080/",
          "height": 297
        },
        "outputId": "47eb0d41-e2a4-4ac5-cb0b-65c6ad2e20a4"
      },
      "source": [
        "# Creating a dataframe\n",
        "bank_pd = bank_p.to_pandas()\n",
        "  \n",
        "#Convert variables to factor variables for modeling\n",
        "bank_pd['job'],_=pd.factorize(bank_pd['job'], sort=True)\n",
        "bank_pd['marital'],_=pd.factorize(bank_pd['marital'], sort=True)\n",
        "bank_pd['education'],_=pd.factorize(bank_pd['education'], sort=True)\n",
        "bank_pd['default'],_=pd.factorize(bank_pd['default'], sort=True)\n",
        "bank_pd['housing'],_=pd.factorize(bank_pd['housing'], sort=True)\n",
        "bank_pd['loan'],_=pd.factorize(bank_pd['loan'], sort=True)\n",
        "bank_pd['poutcome'],_=pd.factorize(bank_pd['poutcome'], sort=True)\n",
        "bank_pd['contact'],_=pd.factorize(bank_pd['contact'], sort=True)\n",
        "bank_pd['month'],_=pd.factorize(bank_pd['month'], sort=True)\n",
        "bank_pd['Age_CAT'],_=pd.factorize(bank_pd['age'], sort=True)\n",
        "bank_pd['Education'],_=pd.factorize(bank_pd['education'], sort=True)\n",
        "\n",
        "# Creating a dataframe with X%\n",
        "# values of original dataframe\n",
        "bank_pd_train = bank_pd.sample(frac = 0.8)  #Put the percentage split here\n",
        "  \n",
        "# Creating dataframe with \n",
        "# rest of the X% values\n",
        "bank_pd_tst = bank_pd.drop(bank_pd_train.index)\n",
        "\n",
        "bank_pd_tst.describe()"
      ],
      "execution_count": 479,
      "outputs": [
        {
          "output_type": "execute_result",
          "data": {
            "text/html": [
              "<div>\n",
              "<style scoped>\n",
              "    .dataframe tbody tr th:only-of-type {\n",
              "        vertical-align: middle;\n",
              "    }\n",
              "\n",
              "    .dataframe tbody tr th {\n",
              "        vertical-align: top;\n",
              "    }\n",
              "\n",
              "    .dataframe thead th {\n",
              "        text-align: right;\n",
              "    }\n",
              "</style>\n",
              "<table border=\"1\" class=\"dataframe\">\n",
              "  <thead>\n",
              "    <tr style=\"text-align: right;\">\n",
              "      <th></th>\n",
              "      <th>age</th>\n",
              "      <th>job</th>\n",
              "      <th>marital</th>\n",
              "      <th>education</th>\n",
              "      <th>default</th>\n",
              "      <th>balance</th>\n",
              "      <th>housing</th>\n",
              "      <th>loan</th>\n",
              "      <th>contact</th>\n",
              "      <th>day</th>\n",
              "      <th>month</th>\n",
              "      <th>campaign</th>\n",
              "      <th>pdays</th>\n",
              "      <th>previous</th>\n",
              "      <th>poutcome</th>\n",
              "      <th>count</th>\n",
              "      <th>y1</th>\n",
              "      <th>previous_norm</th>\n",
              "      <th>campaign_norm</th>\n",
              "      <th>Age_CAT</th>\n",
              "      <th>Education</th>\n",
              "    </tr>\n",
              "  </thead>\n",
              "  <tbody>\n",
              "    <tr>\n",
              "      <th>count</th>\n",
              "      <td>9042.000000</td>\n",
              "      <td>9042.000000</td>\n",
              "      <td>9042.000000</td>\n",
              "      <td>9042.000000</td>\n",
              "      <td>9042.000000</td>\n",
              "      <td>9042.000000</td>\n",
              "      <td>9042.000000</td>\n",
              "      <td>9042.000000</td>\n",
              "      <td>9042.000000</td>\n",
              "      <td>9042.000000</td>\n",
              "      <td>9042.000000</td>\n",
              "      <td>9042.000000</td>\n",
              "      <td>9042.00000</td>\n",
              "      <td>9042.000000</td>\n",
              "      <td>9042.000000</td>\n",
              "      <td>9042.0</td>\n",
              "      <td>9042.000000</td>\n",
              "      <td>9042.000000</td>\n",
              "      <td>9042.000000</td>\n",
              "      <td>9042.000000</td>\n",
              "      <td>9042.000000</td>\n",
              "    </tr>\n",
              "    <tr>\n",
              "      <th>mean</th>\n",
              "      <td>40.949016</td>\n",
              "      <td>4.404667</td>\n",
              "      <td>1.168104</td>\n",
              "      <td>1.232581</td>\n",
              "      <td>0.017363</td>\n",
              "      <td>1348.965052</td>\n",
              "      <td>0.559500</td>\n",
              "      <td>0.162796</td>\n",
              "      <td>0.645654</td>\n",
              "      <td>15.977660</td>\n",
              "      <td>5.525216</td>\n",
              "      <td>2.784340</td>\n",
              "      <td>40.46837</td>\n",
              "      <td>0.550431</td>\n",
              "      <td>2.560274</td>\n",
              "      <td>1.0</td>\n",
              "      <td>0.118226</td>\n",
              "      <td>-0.012994</td>\n",
              "      <td>0.006709</td>\n",
              "      <td>22.949016</td>\n",
              "      <td>1.232581</td>\n",
              "    </tr>\n",
              "    <tr>\n",
              "      <th>std</th>\n",
              "      <td>10.536223</td>\n",
              "      <td>3.290196</td>\n",
              "      <td>0.604931</td>\n",
              "      <td>0.742464</td>\n",
              "      <td>0.130629</td>\n",
              "      <td>3118.705150</td>\n",
              "      <td>0.496475</td>\n",
              "      <td>0.369200</td>\n",
              "      <td>0.902054</td>\n",
              "      <td>8.310381</td>\n",
              "      <td>3.004490</td>\n",
              "      <td>3.167336</td>\n",
              "      <td>101.25152</td>\n",
              "      <td>1.775022</td>\n",
              "      <td>0.988354</td>\n",
              "      <td>0.0</td>\n",
              "      <td>0.322893</td>\n",
              "      <td>0.770580</td>\n",
              "      <td>1.022530</td>\n",
              "      <td>10.536223</td>\n",
              "      <td>0.742464</td>\n",
              "    </tr>\n",
              "    <tr>\n",
              "      <th>min</th>\n",
              "      <td>19.000000</td>\n",
              "      <td>0.000000</td>\n",
              "      <td>0.000000</td>\n",
              "      <td>0.000000</td>\n",
              "      <td>0.000000</td>\n",
              "      <td>-8019.000000</td>\n",
              "      <td>0.000000</td>\n",
              "      <td>0.000000</td>\n",
              "      <td>0.000000</td>\n",
              "      <td>1.000000</td>\n",
              "      <td>0.000000</td>\n",
              "      <td>1.000000</td>\n",
              "      <td>-1.00000</td>\n",
              "      <td>0.000000</td>\n",
              "      <td>0.000000</td>\n",
              "      <td>1.0</td>\n",
              "      <td>0.000000</td>\n",
              "      <td>-0.251949</td>\n",
              "      <td>-0.569341</td>\n",
              "      <td>1.000000</td>\n",
              "      <td>0.000000</td>\n",
              "    </tr>\n",
              "    <tr>\n",
              "      <th>25%</th>\n",
              "      <td>33.000000</td>\n",
              "      <td>1.000000</td>\n",
              "      <td>1.000000</td>\n",
              "      <td>1.000000</td>\n",
              "      <td>0.000000</td>\n",
              "      <td>71.000000</td>\n",
              "      <td>0.000000</td>\n",
              "      <td>0.000000</td>\n",
              "      <td>0.000000</td>\n",
              "      <td>9.000000</td>\n",
              "      <td>3.000000</td>\n",
              "      <td>1.000000</td>\n",
              "      <td>-1.00000</td>\n",
              "      <td>0.000000</td>\n",
              "      <td>3.000000</td>\n",
              "      <td>1.0</td>\n",
              "      <td>0.000000</td>\n",
              "      <td>-0.251949</td>\n",
              "      <td>-0.569341</td>\n",
              "      <td>15.000000</td>\n",
              "      <td>1.000000</td>\n",
              "    </tr>\n",
              "    <tr>\n",
              "      <th>50%</th>\n",
              "      <td>39.000000</td>\n",
              "      <td>4.000000</td>\n",
              "      <td>1.000000</td>\n",
              "      <td>1.000000</td>\n",
              "      <td>0.000000</td>\n",
              "      <td>450.000000</td>\n",
              "      <td>1.000000</td>\n",
              "      <td>0.000000</td>\n",
              "      <td>0.000000</td>\n",
              "      <td>16.000000</td>\n",
              "      <td>6.000000</td>\n",
              "      <td>2.000000</td>\n",
              "      <td>-1.00000</td>\n",
              "      <td>0.000000</td>\n",
              "      <td>3.000000</td>\n",
              "      <td>1.0</td>\n",
              "      <td>0.000000</td>\n",
              "      <td>-0.251949</td>\n",
              "      <td>-0.246505</td>\n",
              "      <td>21.000000</td>\n",
              "      <td>1.000000</td>\n",
              "    </tr>\n",
              "    <tr>\n",
              "      <th>75%</th>\n",
              "      <td>48.000000</td>\n",
              "      <td>7.000000</td>\n",
              "      <td>2.000000</td>\n",
              "      <td>2.000000</td>\n",
              "      <td>0.000000</td>\n",
              "      <td>1414.750000</td>\n",
              "      <td>1.000000</td>\n",
              "      <td>0.000000</td>\n",
              "      <td>2.000000</td>\n",
              "      <td>22.000000</td>\n",
              "      <td>8.000000</td>\n",
              "      <td>3.000000</td>\n",
              "      <td>-1.00000</td>\n",
              "      <td>0.000000</td>\n",
              "      <td>3.000000</td>\n",
              "      <td>1.0</td>\n",
              "      <td>0.000000</td>\n",
              "      <td>-0.251949</td>\n",
              "      <td>0.076332</td>\n",
              "      <td>30.000000</td>\n",
              "      <td>2.000000</td>\n",
              "    </tr>\n",
              "    <tr>\n",
              "      <th>max</th>\n",
              "      <td>90.000000</td>\n",
              "      <td>11.000000</td>\n",
              "      <td>2.000000</td>\n",
              "      <td>3.000000</td>\n",
              "      <td>1.000000</td>\n",
              "      <td>102127.000000</td>\n",
              "      <td>1.000000</td>\n",
              "      <td>1.000000</td>\n",
              "      <td>2.000000</td>\n",
              "      <td>31.000000</td>\n",
              "      <td>11.000000</td>\n",
              "      <td>50.000000</td>\n",
              "      <td>854.00000</td>\n",
              "      <td>29.000000</td>\n",
              "      <td>3.000000</td>\n",
              "      <td>1.0</td>\n",
              "      <td>1.000000</td>\n",
              "      <td>12.337659</td>\n",
              "      <td>15.249627</td>\n",
              "      <td>72.000000</td>\n",
              "      <td>3.000000</td>\n",
              "    </tr>\n",
              "  </tbody>\n",
              "</table>\n",
              "</div>"
            ],
            "text/plain": [
              "               age          job  ...      Age_CAT    Education\n",
              "count  9042.000000  9042.000000  ...  9042.000000  9042.000000\n",
              "mean     40.949016     4.404667  ...    22.949016     1.232581\n",
              "std      10.536223     3.290196  ...    10.536223     0.742464\n",
              "min      19.000000     0.000000  ...     1.000000     0.000000\n",
              "25%      33.000000     1.000000  ...    15.000000     1.000000\n",
              "50%      39.000000     4.000000  ...    21.000000     1.000000\n",
              "75%      48.000000     7.000000  ...    30.000000     2.000000\n",
              "max      90.000000    11.000000  ...    72.000000     3.000000\n",
              "\n",
              "[8 rows x 21 columns]"
            ]
          },
          "metadata": {
            "tags": []
          },
          "execution_count": 479
        }
      ]
    },
    {
      "cell_type": "markdown",
      "metadata": {
        "id": "w6fRJHqefuYl"
      },
      "source": [
        "Now that the EDA is done for this round, I want you to prepare a decision tree model. "
      ]
    },
    {
      "cell_type": "markdown",
      "metadata": {
        "id": "3D3gRehHfuYr"
      },
      "source": [
        "1. Explain why you need to split your data into training and test sets?\n",
        "\n",
        "### \n",
        "> ### #> Splitting a dataset helps to eliminate bias in classification models.  In analysis we want to have an unbias model.  By splitting the data in training set and test set is part of the preparation in modeling. In classification models, an analyst can apply methods and algorithms to test the data within a model. It is an important gauge and measure to how an algorithm is performing. sklearn is used in machine learning and predictive analytics tools in part of the splitting process.\n",
        "\n",
        "\n",
        "2. What percentage split are you going to use?\n",
        "### \n",
        "### #>  Typical split is round 25 / 75 or 20 / 80  according the textbook and standards. For this I used 20 / 80 split\n",
        "\n",
        "\n",
        "3. How does that percentage affect your model?\n",
        "###   \n",
        "### #>  The analyst must ensure that the training set represents the entire dataset (sampling), so it is important to confirm there is a selection of balanced evenly-distributed data covering all of categories properly and accurately depending on the question the model in set to help answer.\n",
        "\n",
        "\n",
        "4. If you select a higher or lower percentage for your training / test split what affect will it have on your validation of the model.\n",
        "###    \n",
        "### #>  If an analysts selects to low a percentage of data for the training there is a risk of not having enough data to test and validate the model.  If the analyst has too high a percentage of test data the risk may result in not having enough model not being able to perform well to provide accurate outcome for the analysis.\n",
        "\n",
        "\n",
        "5. Why do you need to validate your model?\n",
        "###   \n",
        "### #>  It is very important to validate the model.  The modeling process must be able to provide the analysts and the stakeholders outcomes that they depend on. There are several ways to validate model and its outcomes to provide a more accurate outcome.  It is super important to evaluate the model and its outcomes by establishing a baseline model of accuracy and comparing that to other regression models and classification algorithms.  These methods help visualize and structure the data output for making predictions.  \n",
        "\n",
        "\n",
        "\n"
      ]
    },
    {
      "cell_type": "markdown",
      "metadata": {
        "id": "_FjbuBvsIUHB"
      },
      "source": [
        "### This is the Evaluation of the Model"
      ]
    },
    {
      "cell_type": "code",
      "metadata": {
        "id": "f1tHZn2QQfcJ"
      },
      "source": [
        "train=bank_pd_train.loc[:,['Age_CAT', 'Education', 'marital']]  #I added my predictors here!\n",
        "tar=bank_pd_train.loc[:,['y1']]\n",
        "tst=bank_pd_tst.loc[:,['Age_CAT', 'Education', 'marital']] # I added my predictors here!"
      ],
      "execution_count": 485,
      "outputs": []
    },
    {
      "cell_type": "code",
      "metadata": {
        "id": "BwdSFjv0R2Xk"
      },
      "source": [
        "clf = tree.DecisionTreeClassifier() # defining decision tree classifier\n",
        "clf=clf.fit(train,tar)"
      ],
      "execution_count": 496,
      "outputs": []
    },
    {
      "cell_type": "code",
      "metadata": {
        "id": "gq_0DqcvRH59"
      },
      "source": [
        "prediction = clf.predict(tst) #  Run Predictions"
      ],
      "execution_count": 497,
      "outputs": []
    },
    {
      "cell_type": "code",
      "metadata": {
        "id": "YCSmPkteYMVN",
        "colab": {
          "base_uri": "https://localhost:8080/",
          "height": 0
        },
        "outputId": "b0960515-ded3-4d92-e56f-a47f1b241292"
      },
      "source": [
        "from sklearn.metrics import accuracy_score  #  accuracy is good at 88%.  But it doesn't tell how model will perform\n",
        "from sklearn import metrics\n",
        "\n",
        "y=bank_pd_tst.loc[:,['y1']]\n",
        "\n",
        "fpr, tpr, thresholds = metrics.roc_curve(y, prediction)\n",
        "accuracy_score(y, prediction)"
      ],
      "execution_count": 498,
      "outputs": [
        {
          "output_type": "execute_result",
          "data": {
            "text/plain": [
              "0.8814421588144216"
            ]
          },
          "metadata": {
            "tags": []
          },
          "execution_count": 498
        }
      ]
    },
    {
      "cell_type": "code",
      "metadata": {
        "id": "yS_qvhCfabek",
        "colab": {
          "base_uri": "https://localhost:8080/",
          "height": 0
        },
        "outputId": "d38836f6-6376-4196-d123-f519e9c42df0"
      },
      "source": [
        "metrics.auc(fpr, tpr)"
      ],
      "execution_count": 500,
      "outputs": [
        {
          "output_type": "execute_result",
          "data": {
            "text/plain": [
              "0.5103422601326248"
            ]
          },
          "metadata": {
            "tags": []
          },
          "execution_count": 500
        }
      ]
    },
    {
      "cell_type": "code",
      "metadata": {
        "id": "8IG7JsI7cqOz",
        "colab": {
          "base_uri": "https://localhost:8080/",
          "height": 295
        },
        "outputId": "56bd5f11-1484-4ae5-9399-4c54617ac71a"
      },
      "source": [
        "def plot_roc_curve(fpr, tpr):\n",
        "    plt.plot(fpr, tpr, color='yellow', label='ROC')\n",
        "    plt.plot([0, 1], [0, 1], color='darkblue', linestyle='--')\n",
        "    plt.xlabel('False Positive Rate')\n",
        "    plt.ylabel('True Positive Rate')\n",
        "    plt.title('Receiver Operating Characteristic (ROC) Curve')\n",
        "    plt.legend()\n",
        "    plt.show()\n",
        "\n",
        "plot_roc_curve(fpr, tpr)"
      ],
      "execution_count": 509,
      "outputs": [
        {
          "output_type": "display_data",
          "data": {
            "image/png": "[encoded data removed]",
            "text/plain": [
              "<Figure size 432x288 with 1 Axes>"
            ]
          },
          "metadata": {
            "tags": [],
            "needs_background": "light"
          }
        }
      ]
    },
    {
      "cell_type": "markdown",
      "metadata": {
        "id": "o1p5CUDH1620"
      },
      "source": [
        "####  Adjust some tuning paramters.  Fill in the Xs with values.  The values next to each one are the defaults"
      ]
    },
    {
      "cell_type": "code",
      "metadata": {
        "id": "6mnMsZO-eMAe"
      },
      "source": [
        "clf = tree.DecisionTreeClassifier(\n",
        "    max_depth= 25  #Default=None\n",
        "    , min_samples_leaf = 10 #Default=1\n",
        "    , min_samples_split = 15 #Default=2\n",
        "    , min_impurity_decrease = 0.001)  #Default=0\n",
        "clf=clf.fit(train,tar)\n",
        "prediction = clf.predict(tst) #  Run Predictions"
      ],
      "execution_count": 518,
      "outputs": []
    },
    {
      "cell_type": "code",
      "metadata": {
        "id": "gRqtdAYB4br3",
        "colab": {
          "base_uri": "https://localhost:8080/",
          "height": 1000
        },
        "outputId": "57697445-a696-4a3d-fa3d-6b4269eb8a4b"
      },
      "source": [
        "#Display your tree\n",
        "import statsmodels.tools.tools as stattools\n",
        "from sklearn.tree import DecisionTreeClassifier, export_graphviz\n",
        "\n",
        "X_names = ['Age_CAT', 'Education', 'marital', 'housing']\n",
        "y_names = ['0','1']\n",
        "\n",
        "fig, axes = plt.subplots(nrows = 1,ncols = 1,figsize = (4,4), dpi=300)\n",
        "\n",
        "tree.plot_tree(clf,feature_names = X_names, class_names=y_names, filled = True)\n"
      ],
      "execution_count": 519,
      "outputs": [
        {
          "output_type": "execute_result",
          "data": {
            "text/plain": [
              "[Text(558.0, 755.0, 'Age_CAT <= 42.5\\ngini = 0.206\\nsamples = 36166\\nvalue = [31946, 4220]\\nclass = 0'),\n",
              " Text(372.0, 453.0, 'marital <= 1.5\\ngini = 0.194\\nsamples = 35233\\nvalue = [31398, 3835]\\nclass = 0'),\n",
              " Text(186.0, 151.0, 'gini = 0.168\\nsamples = 25010\\nvalue = [22695, 2315]\\nclass = 0'),\n",
              " Text(558.0, 151.0, 'gini = 0.253\\nsamples = 10223\\nvalue = [8703, 1520]\\nclass = 0'),\n",
              " Text(744.0, 453.0, 'gini = 0.485\\nsamples = 933\\nvalue = [548, 385]\\nclass = 0')]"
            ]
          },
          "metadata": {
            "tags": []
          },
          "execution_count": 519
        },
        {
          "output_type": "display_data",
          "data": {
            "image/png": "[encoded data removed]",
            "text/plain": [
              "<Figure size 1200x1200 with 1 Axes>"
            ]
          },
          "metadata": {
            "tags": [],
            "needs_background": "light"
          }
        }
      ]
    },
    {
      "cell_type": "markdown",
      "metadata": {
        "id": "T1vAOuDk4ehv"
      },
      "source": [
        "1. Describe what your tree looks like after you adjusted tuning parameters?\n",
        "\n",
        "#### #>  The tree provides insight to the variables. The top, is the root node and the rest descend through the tree based on each decision node within the tree.  The top node, Age category (Age_CAT) tells us less that 42 is mean age in these records.  Additionally, the records in the Age Category show a higher greater number of marital category in the married status, than those who are not married. Of the records in the range of Age 42.5 (mean) and show up as married, the  class = 0 is all categories.  So, it is important to find variables that show up with a class = 1.  Class is report as 0 or 1, a binary number that typicially mean yes or no or true or false.  None of the variables indicated a TRUE or Yes as a valid variable with the other variables provided.\n",
        "\n",
        "2. Generally, why are tuning parameters important in models?\n",
        "\n",
        "####  #  > Also, important to note education was add to this analysis. It was not significant enough to be reported.  So, as an analyst it is important to go in the process and loop back to find higher predictor variable.s \n",
        "\n",
        "\n"
      ]
    },
    {
      "cell_type": "code",
      "metadata": {
        "id": "FA09fUrXfQ1n"
      },
      "source": [
        "y=bank_pd_tst.loc[:,['y1']]\n",
        "\n",
        "fpr, tpr, thresholds = metrics.roc_curve(y, prediction)\n",
        "accuracy_score(y, prediction)"
      ],
      "execution_count": null,
      "outputs": []
    },
    {
      "cell_type": "code",
      "metadata": {
        "id": "xgBEz_difmfX",
        "colab": {
          "base_uri": "https://localhost:8080/",
          "height": 295
        },
        "outputId": "d4355f55-a011-400f-e2a6-26d611e7f625"
      },
      "source": [
        "def plot_roc_curve(fpr, tpr):\n",
        "    plt.plot(fpr, tpr, color='orange', label='ROC')\n",
        "    plt.plot([0, 1], [0, 1], color='darkblue', linestyle='--')\n",
        "    plt.xlabel('False Positive Rate')\n",
        "    plt.ylabel('True Positive Rate')\n",
        "    plt.title('Receiver Operating Characteristic (ROC) Curve')\n",
        "    plt.legend()\n",
        "    plt.show()\n",
        "\n",
        "plot_roc_curve(fpr, tpr)"
      ],
      "execution_count": 517,
      "outputs": [
        {
          "output_type": "display_data",
          "data": {
            "image/png": "[encoded data removed]",
            "text/plain": [
              "<Figure size 432x288 with 1 Axes>"
            ]
          },
          "metadata": {
            "tags": [],
            "needs_background": "light"
          }
        }
      ]
    },
    {
      "cell_type": "code",
      "metadata": {
        "id": "1PSrznx20V2i"
      },
      "source": [
        "#D. Evaluate\n"
      ],
      "execution_count": 525,
      "outputs": []
    },
    {
      "cell_type": "markdown",
      "metadata": {
        "id": "u9k3F765398I"
      },
      "source": [
        "1. Please describe AUC.  \n",
        "#### #>  In Machine Learning it is important to understand the performance of the classification modeling you are planning to use.   It is recommended that analysts use the AUC (Area Under The Curve) ROC (Receiver Operating Characteristics) curve to analyze the model performance with use of various variables before going to test.  These tools provide the important visualization of the model's performance to make appropriate adjustments to the dataset and approached to the analysis. \n",
        "\n",
        "It is a key evaluation metrics for validation of a classification model's performance.\n",
        "#\n",
        "\n",
        "2. What is it used to measure?\n",
        "#### #> In Machine Learning it is important to understand the performance of the classification modeling.  So it is recommend that analyst use the AUC (Area Under The Curve) ROC (Receiver Operating Characteristics) curve. \n",
        "\n",
        "#### #> It is a key evaluation metrics for validation of a classification model's performance. It is also written as AUROC (Area Under the Receiver Operating Characteristics)\n",
        "\n",
        "#### #> The AUC ROC provides in this analysis various threshold settings for gauging model performance.  The ROC is a probability curve, while the AUC allows the analyst to visual the degree or measure of separability. \n",
        "\n",
        "#### #> These tools will demonstrate what the model is capable of distinguishing between classes of the variables. \n",
        "\n",
        "#### #> Note:  The higher the amount in the AUC, the better performance of the model can be expected, especiall with predicting binary amounts.\n",
        "\n",
        "#### #> An example from the website, Towards Data indicates that higher AUC ROC score of the records of patients with the disease and no disease.\n",
        "While the ROC curve plotting of the True Positive Rate(TPR) against the False Positive Rate FPR is where the TPR is on the y-axis and FPR is on the x-axis.\n",
        "\n",
        "#### #>  https://towardsdatascience.com/understanding-auc-roc-curve-68b2303cc9c5\n",
        "#\n",
        "\n",
        "3. How did your model do? \n",
        "  #### #>  My model did not present a solid performance.  The initial analysis of the variables showed 88% accuracy, while the AUC was only 51%.  That's not a reliable model.    Yet, with more iterations of the variables, this analysts believes a prediction can be made to support this bank's marketing campaigns. \n",
        "\n",
        "4. Do you think your model has a reliable prediction? Why or Why Not?\n",
        "#### #>  At this writing, the model for analyzing this data for the bank's marketing campaign is not yet ready for release.  Yet, with more time and education this analyst will be able to use the tools for modeling in Machine Learning to provide a better performing model.\n",
        "\n"
      ]
    },
    {
      "cell_type": "code",
      "metadata": {
        "id": "_w-E8wuagf9X",
        "colab": {
          "base_uri": "https://localhost:8080/",
          "height": 0
        },
        "outputId": "4b71a7b4-bd28-4fdd-cec9-54b50e663907"
      },
      "source": [
        "from sklearn.datasets import load_iris\n",
        "from sklearn.tree import DecisionTreeClassifier\n",
        "from sklearn.feature_selection import mutual_info_classif\n",
        "\n",
        "feat_importance = clf.tree_.compute_feature_importances(normalize=True)\n",
        "feat_importance  #Outputs in order of the predictors you listed"
      ],
      "execution_count": 522,
      "outputs": [
        {
          "output_type": "execute_result",
          "data": {
            "text/plain": [
              "array([0.78588389, 0.        , 0.21411611])"
            ]
          },
          "metadata": {
            "tags": []
          },
          "execution_count": 522
        }
      ]
    },
    {
      "cell_type": "markdown",
      "metadata": {
        "id": "BGNow3764FAJ"
      },
      "source": [
        "1. Where any of the features you developed important? Please describe.\n",
        "\n",
        "\n",
        "#### >#  This is important to understand the process, the details and how to management expectations.  The variables initially chosen for the assignment did not perform well, in the gini and AUC / ROC tests of the variables.  Like any scientist knows, the elimination of the variables is important to creating a reliable model. These variables together are not showing high predictability at 51%, but there are more tests to apply.  The loop part of the process is surely accurate to this models performance and reliability. \n",
        "\n",
        "###  #>\n"
      ]
    }
  ]
}