{
  "nbformat": 4,
  "nbformat_minor": 0,
  "metadata": {
    "colab": {
      "name": "Week1_DueWk3_Homework.ipynb",
      "provenance": [],
      "collapsed_sections": [
        "gl1N2fl7HFuL"
      ],
      "authorship_tag": "ABX9TyPSMBpJIQjn0e7VA/vrvFbu",
      "include_colab_link": true
    },
    "kernelspec": {
      "name": "python3",
      "display_name": "Python 3"
    },
    "language_info": {
      "name": "python"
    }
  },
  "cells": [
    {
      "cell_type": "markdown",
      "metadata": {
        "id": "view-in-github",
        "colab_type": "text"
      },
      "source": [
        "<a href=\"https://colab.research.google.com/github/vapaul10/DESC624PredictiveAnalytics/blob/Week3/Week1_DueWk3_Homework.ipynb\" target=\"_parent\"><img src=\"https://colab.research.google.com/assets/colab-badge.svg\" alt=\"Open In Colab\"/></a>"
      ]
    },
    {
      "cell_type": "code",
      "metadata": {
        "id": "WjjwH4ecGffh"
      },
      "source": [
        "###Below is the homework for this section"
      ],
      "execution_count": 136,
      "outputs": []
    },
    {
      "cell_type": "code",
      "metadata": {
        "id": "8tIoOHSHGvcx"
      },
      "source": [
        "#1  Import Libraries and Data Sources\n",
        "import numpy as np\n",
        "from sklearn.model_selection import train_test_split\n",
        "from sklearn import datasets\n",
        "import matplotlib.pyplot as plt\n",
        "import pandas as pd\n",
        "#importing the necessary packages\n",
        "from sklearn.naive_bayes import GaussianNB\n",
        "from sklearn.naive_bayes import MultinomialNB\n",
        "from matplotlib import rcParams\n",
        "from sklearn import svm\n",
        "\n",
        "from inspect import signature\n",
        "\n",
        "import sklearn\n",
        "from sklearn import linear_model, dummy, metrics\n",
        "from sklearn.dummy import DummyClassifier\n",
        "from sklearn.metrics import *\n",
        "\n",
        "import seaborn as sns"
      ],
      "execution_count": 137,
      "outputs": []
    },
    {
      "cell_type": "code",
      "metadata": {
        "id": "ZTdWUF8NGwOL"
      },
      "source": [
        "#2  Import ssl\n",
        "import ssl\n",
        "\n",
        "ssl._create_default_https_context = ssl._create_unverified_context"
      ],
      "execution_count": 138,
      "outputs": []
    },
    {
      "cell_type": "code",
      "metadata": {
        "colab": {
          "base_uri": "https://localhost:8080/",
          "height": 359
        },
        "id": "vv_EnX05G054",
        "outputId": "8e40c26e-a98d-4aae-e52a-c5eb28a2ffd6"
      },
      "source": [
        "#  1- 2  Import data Continues from above\n",
        "### training Adult_ch3_training import\n",
        "\n",
        "url = 'https://raw.githubusercontent.com/vapaul10/DESC624PredictiveAnalytics/Datasets/adult_ch3_training.csv'\n",
        "col=['age', 'workclass', 'education', 'marital-status', 'occupation', 'sex', 'capital-gain', 'capital-loss', 'income'] \n",
        "\n",
        "bank_train = pd.read_csv(url)\n",
        "\n",
        "# Print first 5 row of the dataframe\n",
        "bank_train.head(10)"
      ],
      "execution_count": 139,
      "outputs": [
        {
          "output_type": "execute_result",
          "data": {
            "text/html": [
              "<div>\n",
              "<style scoped>\n",
              "    .dataframe tbody tr th:only-of-type {\n",
              "        vertical-align: middle;\n",
              "    }\n",
              "\n",
              "    .dataframe tbody tr th {\n",
              "        vertical-align: top;\n",
              "    }\n",
              "\n",
              "    .dataframe thead th {\n",
              "        text-align: right;\n",
              "    }\n",
              "</style>\n",
              "<table border=\"1\" class=\"dataframe\">\n",
              "  <thead>\n",
              "    <tr style=\"text-align: right;\">\n",
              "      <th></th>\n",
              "      <th>age</th>\n",
              "      <th>workclass</th>\n",
              "      <th>education</th>\n",
              "      <th>marital-status</th>\n",
              "      <th>occupation</th>\n",
              "      <th>sex</th>\n",
              "      <th>capital-gain</th>\n",
              "      <th>capital-loss</th>\n",
              "      <th>income</th>\n",
              "    </tr>\n",
              "  </thead>\n",
              "  <tbody>\n",
              "    <tr>\n",
              "      <th>0</th>\n",
              "      <td>50</td>\n",
              "      <td>Self-emp-not-inc</td>\n",
              "      <td>13</td>\n",
              "      <td>Married-civ-spouse</td>\n",
              "      <td>Exec-managerial</td>\n",
              "      <td>Male</td>\n",
              "      <td>0</td>\n",
              "      <td>0</td>\n",
              "      <td>&lt;=50K</td>\n",
              "    </tr>\n",
              "    <tr>\n",
              "      <th>1</th>\n",
              "      <td>38</td>\n",
              "      <td>Private</td>\n",
              "      <td>9</td>\n",
              "      <td>Divorced</td>\n",
              "      <td>Handlers-cleaners</td>\n",
              "      <td>Male</td>\n",
              "      <td>0</td>\n",
              "      <td>0</td>\n",
              "      <td>&lt;=50K</td>\n",
              "    </tr>\n",
              "    <tr>\n",
              "      <th>2</th>\n",
              "      <td>49</td>\n",
              "      <td>Private</td>\n",
              "      <td>5</td>\n",
              "      <td>Married-spouse-absent</td>\n",
              "      <td>Other-service</td>\n",
              "      <td>Female</td>\n",
              "      <td>0</td>\n",
              "      <td>0</td>\n",
              "      <td>&lt;=50K</td>\n",
              "    </tr>\n",
              "    <tr>\n",
              "      <th>3</th>\n",
              "      <td>52</td>\n",
              "      <td>Self-emp-not-inc</td>\n",
              "      <td>9</td>\n",
              "      <td>Married-civ-spouse</td>\n",
              "      <td>Exec-managerial</td>\n",
              "      <td>Male</td>\n",
              "      <td>0</td>\n",
              "      <td>0</td>\n",
              "      <td>&gt;50K</td>\n",
              "    </tr>\n",
              "    <tr>\n",
              "      <th>4</th>\n",
              "      <td>31</td>\n",
              "      <td>Private</td>\n",
              "      <td>14</td>\n",
              "      <td>Never-married</td>\n",
              "      <td>Prof-specialty</td>\n",
              "      <td>Female</td>\n",
              "      <td>14084</td>\n",
              "      <td>0</td>\n",
              "      <td>&gt;50K</td>\n",
              "    </tr>\n",
              "    <tr>\n",
              "      <th>5</th>\n",
              "      <td>40</td>\n",
              "      <td>Private</td>\n",
              "      <td>11</td>\n",
              "      <td>Married-civ-spouse</td>\n",
              "      <td>Craft-repair</td>\n",
              "      <td>Male</td>\n",
              "      <td>0</td>\n",
              "      <td>0</td>\n",
              "      <td>&gt;50K</td>\n",
              "    </tr>\n",
              "    <tr>\n",
              "      <th>6</th>\n",
              "      <td>38</td>\n",
              "      <td>Private</td>\n",
              "      <td>7</td>\n",
              "      <td>Married-civ-spouse</td>\n",
              "      <td>Sales</td>\n",
              "      <td>Male</td>\n",
              "      <td>0</td>\n",
              "      <td>0</td>\n",
              "      <td>&lt;=50K</td>\n",
              "    </tr>\n",
              "    <tr>\n",
              "      <th>7</th>\n",
              "      <td>43</td>\n",
              "      <td>Private</td>\n",
              "      <td>7</td>\n",
              "      <td>Married-civ-spouse</td>\n",
              "      <td>Transport-moving</td>\n",
              "      <td>Male</td>\n",
              "      <td>0</td>\n",
              "      <td>2042</td>\n",
              "      <td>&lt;=50K</td>\n",
              "    </tr>\n",
              "    <tr>\n",
              "      <th>8</th>\n",
              "      <td>54</td>\n",
              "      <td>?</td>\n",
              "      <td>10</td>\n",
              "      <td>Married-civ-spouse</td>\n",
              "      <td>?</td>\n",
              "      <td>Male</td>\n",
              "      <td>0</td>\n",
              "      <td>0</td>\n",
              "      <td>&gt;50K</td>\n",
              "    </tr>\n",
              "    <tr>\n",
              "      <th>9</th>\n",
              "      <td>39</td>\n",
              "      <td>Private</td>\n",
              "      <td>9</td>\n",
              "      <td>Divorced</td>\n",
              "      <td>Exec-managerial</td>\n",
              "      <td>Male</td>\n",
              "      <td>0</td>\n",
              "      <td>0</td>\n",
              "      <td>&lt;=50K</td>\n",
              "    </tr>\n",
              "  </tbody>\n",
              "</table>\n",
              "</div>"
            ],
            "text/plain": [
              "   age         workclass  education  ... capital-gain capital-loss income\n",
              "0   50  Self-emp-not-inc         13  ...            0            0  <=50K\n",
              "1   38           Private          9  ...            0            0  <=50K\n",
              "2   49           Private          5  ...            0            0  <=50K\n",
              "3   52  Self-emp-not-inc          9  ...            0            0   >50K\n",
              "4   31           Private         14  ...        14084            0   >50K\n",
              "5   40           Private         11  ...            0            0   >50K\n",
              "6   38           Private          7  ...            0            0  <=50K\n",
              "7   43           Private          7  ...            0         2042  <=50K\n",
              "8   54                 ?         10  ...            0            0   >50K\n",
              "9   39           Private          9  ...            0            0  <=50K\n",
              "\n",
              "[10 rows x 9 columns]"
            ]
          },
          "metadata": {
            "tags": []
          },
          "execution_count": 139
        }
      ]
    },
    {
      "cell_type": "code",
      "metadata": {
        "colab": {
          "base_uri": "https://localhost:8080/"
        },
        "id": "9hp_YK-qoJcd",
        "outputId": "1925a863-58a0-449d-ba75-6ea32cf44eff"
      },
      "source": [
        "###3 Setup  .Shape tells the number of Records:  14,797 and 9 Fields  p. 32\n",
        "### Important to set-up contingency table\n",
        "bank_train.shape"
      ],
      "execution_count": 144,
      "outputs": [
        {
          "output_type": "execute_result",
          "data": {
            "text/plain": [
              "(14797, 10)"
            ]
          },
          "metadata": {
            "tags": []
          },
          "execution_count": 144
        }
      ]
    },
    {
      "cell_type": "code",
      "metadata": {
        "colab": {
          "base_uri": "https://localhost:8080/",
          "height": 204
        },
        "id": "GXkxMtitoffH",
        "outputId": "be65f447-ef63-4982-ffca-adf3122415b4"
      },
      "source": [
        "### 3  Set-up  This assigns every record a unique integer. ID p. 32\n",
        "###  The nested commands Series() and range() create a string of numbers whose lower bound is zero and upper bound is the number of records.\n",
        " \n",
        "bank_train['index'] = pd.Series(range(0,14797))\n",
        "\n",
        "bank_train.head()"
      ],
      "execution_count": 145,
      "outputs": [
        {
          "output_type": "execute_result",
          "data": {
            "text/html": [
              "<div>\n",
              "<style scoped>\n",
              "    .dataframe tbody tr th:only-of-type {\n",
              "        vertical-align: middle;\n",
              "    }\n",
              "\n",
              "    .dataframe tbody tr th {\n",
              "        vertical-align: top;\n",
              "    }\n",
              "\n",
              "    .dataframe thead th {\n",
              "        text-align: right;\n",
              "    }\n",
              "</style>\n",
              "<table border=\"1\" class=\"dataframe\">\n",
              "  <thead>\n",
              "    <tr style=\"text-align: right;\">\n",
              "      <th></th>\n",
              "      <th>age</th>\n",
              "      <th>workclass</th>\n",
              "      <th>education</th>\n",
              "      <th>marital-status</th>\n",
              "      <th>occupation</th>\n",
              "      <th>sex</th>\n",
              "      <th>capital-gain</th>\n",
              "      <th>capital-loss</th>\n",
              "      <th>income</th>\n",
              "      <th>index</th>\n",
              "    </tr>\n",
              "  </thead>\n",
              "  <tbody>\n",
              "    <tr>\n",
              "      <th>0</th>\n",
              "      <td>50</td>\n",
              "      <td>Self-emp-not-inc</td>\n",
              "      <td>13</td>\n",
              "      <td>Married-civ-spouse</td>\n",
              "      <td>Exec-managerial</td>\n",
              "      <td>Male</td>\n",
              "      <td>0</td>\n",
              "      <td>0</td>\n",
              "      <td>&lt;=50K</td>\n",
              "      <td>0</td>\n",
              "    </tr>\n",
              "    <tr>\n",
              "      <th>1</th>\n",
              "      <td>38</td>\n",
              "      <td>Private</td>\n",
              "      <td>9</td>\n",
              "      <td>Divorced</td>\n",
              "      <td>Handlers-cleaners</td>\n",
              "      <td>Male</td>\n",
              "      <td>0</td>\n",
              "      <td>0</td>\n",
              "      <td>&lt;=50K</td>\n",
              "      <td>1</td>\n",
              "    </tr>\n",
              "    <tr>\n",
              "      <th>2</th>\n",
              "      <td>49</td>\n",
              "      <td>Private</td>\n",
              "      <td>5</td>\n",
              "      <td>Married-spouse-absent</td>\n",
              "      <td>Other-service</td>\n",
              "      <td>Female</td>\n",
              "      <td>0</td>\n",
              "      <td>0</td>\n",
              "      <td>&lt;=50K</td>\n",
              "      <td>2</td>\n",
              "    </tr>\n",
              "    <tr>\n",
              "      <th>3</th>\n",
              "      <td>52</td>\n",
              "      <td>Self-emp-not-inc</td>\n",
              "      <td>9</td>\n",
              "      <td>Married-civ-spouse</td>\n",
              "      <td>Exec-managerial</td>\n",
              "      <td>Male</td>\n",
              "      <td>0</td>\n",
              "      <td>0</td>\n",
              "      <td>&gt;50K</td>\n",
              "      <td>3</td>\n",
              "    </tr>\n",
              "    <tr>\n",
              "      <th>4</th>\n",
              "      <td>31</td>\n",
              "      <td>Private</td>\n",
              "      <td>14</td>\n",
              "      <td>Never-married</td>\n",
              "      <td>Prof-specialty</td>\n",
              "      <td>Female</td>\n",
              "      <td>14084</td>\n",
              "      <td>0</td>\n",
              "      <td>&gt;50K</td>\n",
              "      <td>4</td>\n",
              "    </tr>\n",
              "  </tbody>\n",
              "</table>\n",
              "</div>"
            ],
            "text/plain": [
              "   age         workclass  education  ... capital-loss income index\n",
              "0   50  Self-emp-not-inc         13  ...            0  <=50K     0\n",
              "1   38           Private          9  ...            0  <=50K     1\n",
              "2   49           Private          5  ...            0  <=50K     2\n",
              "3   52  Self-emp-not-inc          9  ...            0   >50K     3\n",
              "4   31           Private         14  ...            0   >50K     4\n",
              "\n",
              "[5 rows x 10 columns]"
            ]
          },
          "metadata": {
            "tags": []
          },
          "execution_count": 145
        }
      ]
    },
    {
      "cell_type": "code",
      "metadata": {
        "colab": {
          "base_uri": "https://localhost:8080/"
        },
        "id": "e8-kebJRyjyB",
        "outputId": "69e3b902-63be-4f12-b324-773569ad0c70"
      },
      "source": [
        "###3  .head  \n",
        "### To view the data set with its new variable, we can look at the head of the data set.  p. 32\n",
        "### notice the output different between bank_train.head() and bank_train.head\n",
        "\n",
        "bank_train.head"
      ],
      "execution_count": 148,
      "outputs": [
        {
          "output_type": "execute_result",
          "data": {
            "text/plain": [
              "<bound method NDFrame.head of        age         workclass  education  ... capital-loss income  index\n",
              "0       50  Self-emp-not-inc         13  ...            0  <=50K      0\n",
              "1       38           Private          9  ...            0  <=50K      1\n",
              "2       49           Private          5  ...            0  <=50K      2\n",
              "3       52  Self-emp-not-inc          9  ...            0   >50K      3\n",
              "4       31           Private         14  ...            0   >50K      4\n",
              "...    ...               ...        ...  ...          ...    ...    ...\n",
              "14792   43  Self-emp-not-inc         10  ...            0  <=50K  14792\n",
              "14793   32           Private          6  ...            0  <=50K  14793\n",
              "14794   32           Private         14  ...            0  <=50K  14794\n",
              "14795   58           Private          9  ...            0  <=50K  14795\n",
              "14796   22           Private          9  ...            0  <=50K  14796\n",
              "\n",
              "[14797 rows x 10 columns]>"
            ]
          },
          "metadata": {
            "tags": []
          },
          "execution_count": 148
        }
      ]
    },
    {
      "cell_type": "code",
      "metadata": {
        "colab": {
          "base_uri": "https://localhost:8080/"
        },
        "id": "kNOotrwiMyXM",
        "outputId": "b8df8f8c-6412-4733-9651-05cc27a7c800"
      },
      "source": [
        "### 3   Setup .unique To tell the different in types of \n",
        "###      a categories within the field  'marital-status' (7)\n",
        "###      array(['marital-status', 'Married-civ-spouse', 'Divorced',\n",
        "###       'Married-spouse-absent', 'Never-married', 'Married-AF-spouse',\n",
        "###        'Separated', 'Widowed'], dtype=object)\n",
        "\n",
        "bank_train['marital-status'].unique()"
      ],
      "execution_count": 149,
      "outputs": [
        {
          "output_type": "execute_result",
          "data": {
            "text/plain": [
              "array(['Married-civ-spouse', 'Divorced', 'Married-spouse-absent',\n",
              "       'Never-married', 'Married-AF-spouse', 'Separated', 'Widowed'],\n",
              "      dtype=object)"
            ]
          },
          "metadata": {
            "tags": []
          },
          "execution_count": 149
        }
      ]
    },
    {
      "cell_type": "markdown",
      "metadata": {
        "id": "70M2FlB8rG6U"
      },
      "source": [
        "#1 Step to Bar Graph  p 49\n",
        "The first step in creating a bar graph is to create a contingency table of the values in the predictor and target variables. We create the table using the crosstab() command.\n"
      ]
    },
    {
      "cell_type": "code",
      "metadata": {
        "colab": {
          "base_uri": "https://localhost:8080/",
          "height": 204
        },
        "id": "c7paCbnkSIBi",
        "outputId": "75106771-de3a-4c53-b42c-a20ed6507a8c"
      },
      "source": [
        "# 3  Setup  bank_train2  single or married only 0 and 1 \n",
        "bank_train2 = bank_train\n",
        "bank_train2['marital-status'] = bank_train2['marital-status'].replace({'Never-married': '0'})\n",
        "bank_train2['marital-status'] = bank_train2['marital-status'].replace({'Married-civ-spouse': '1'})\n",
        "bank_train2['marital-status'] = bank_train2['marital-status'].replace({'Married-spouse-absent': '1'})\n",
        "bank_train2['marital-status'] = bank_train2['marital-status'].replace({'Married-AF-spouse': '1'})\n",
        "bank_train2['marital-status'] = bank_train2['marital-status'].replace({'Separated': '0'})\n",
        "bank_train2['marital-status'] = bank_train2['marital-status'].replace({'Widowed': '0'})\n",
        "bank_train2['marital-status'] = bank_train2['marital-status'].replace({'Divorced': '0'})\n",
        "bank_train2.head()"
      ],
      "execution_count": 95,
      "outputs": [
        {
          "output_type": "execute_result",
          "data": {
            "text/html": [
              "<div>\n",
              "<style scoped>\n",
              "    .dataframe tbody tr th:only-of-type {\n",
              "        vertical-align: middle;\n",
              "    }\n",
              "\n",
              "    .dataframe tbody tr th {\n",
              "        vertical-align: top;\n",
              "    }\n",
              "\n",
              "    .dataframe thead th {\n",
              "        text-align: right;\n",
              "    }\n",
              "</style>\n",
              "<table border=\"1\" class=\"dataframe\">\n",
              "  <thead>\n",
              "    <tr style=\"text-align: right;\">\n",
              "      <th></th>\n",
              "      <th>age</th>\n",
              "      <th>workclass</th>\n",
              "      <th>education</th>\n",
              "      <th>marital-status</th>\n",
              "      <th>occupation</th>\n",
              "      <th>sex</th>\n",
              "      <th>capital-gain</th>\n",
              "      <th>capital-loss</th>\n",
              "      <th>income</th>\n",
              "      <th>index</th>\n",
              "    </tr>\n",
              "  </thead>\n",
              "  <tbody>\n",
              "    <tr>\n",
              "      <th>0</th>\n",
              "      <td>50</td>\n",
              "      <td>Self-emp-not-inc</td>\n",
              "      <td>13</td>\n",
              "      <td>1</td>\n",
              "      <td>Exec-managerial</td>\n",
              "      <td>Male</td>\n",
              "      <td>0</td>\n",
              "      <td>0</td>\n",
              "      <td>&lt;=50K</td>\n",
              "      <td>0</td>\n",
              "    </tr>\n",
              "    <tr>\n",
              "      <th>1</th>\n",
              "      <td>38</td>\n",
              "      <td>Private</td>\n",
              "      <td>9</td>\n",
              "      <td>0</td>\n",
              "      <td>Handlers-cleaners</td>\n",
              "      <td>Male</td>\n",
              "      <td>0</td>\n",
              "      <td>0</td>\n",
              "      <td>&lt;=50K</td>\n",
              "      <td>1</td>\n",
              "    </tr>\n",
              "    <tr>\n",
              "      <th>2</th>\n",
              "      <td>49</td>\n",
              "      <td>Private</td>\n",
              "      <td>5</td>\n",
              "      <td>1</td>\n",
              "      <td>Other-service</td>\n",
              "      <td>Female</td>\n",
              "      <td>0</td>\n",
              "      <td>0</td>\n",
              "      <td>&lt;=50K</td>\n",
              "      <td>2</td>\n",
              "    </tr>\n",
              "    <tr>\n",
              "      <th>3</th>\n",
              "      <td>52</td>\n",
              "      <td>Self-emp-not-inc</td>\n",
              "      <td>9</td>\n",
              "      <td>1</td>\n",
              "      <td>Exec-managerial</td>\n",
              "      <td>Male</td>\n",
              "      <td>0</td>\n",
              "      <td>0</td>\n",
              "      <td>&gt;50K</td>\n",
              "      <td>3</td>\n",
              "    </tr>\n",
              "    <tr>\n",
              "      <th>4</th>\n",
              "      <td>31</td>\n",
              "      <td>Private</td>\n",
              "      <td>14</td>\n",
              "      <td>0</td>\n",
              "      <td>Prof-specialty</td>\n",
              "      <td>Female</td>\n",
              "      <td>14084</td>\n",
              "      <td>0</td>\n",
              "      <td>&gt;50K</td>\n",
              "      <td>4</td>\n",
              "    </tr>\n",
              "  </tbody>\n",
              "</table>\n",
              "</div>"
            ],
            "text/plain": [
              "   age         workclass  education  ... capital-loss income index\n",
              "0   50  Self-emp-not-inc         13  ...            0  <=50K     0\n",
              "1   38           Private          9  ...            0  <=50K     1\n",
              "2   49           Private          5  ...            0  <=50K     2\n",
              "3   52  Self-emp-not-inc          9  ...            0   >50K     3\n",
              "4   31           Private         14  ...            0   >50K     4\n",
              "\n",
              "[5 rows x 10 columns]"
            ]
          },
          "metadata": {
            "tags": []
          },
          "execution_count": 95
        }
      ]
    },
    {
      "cell_type": "code",
      "metadata": {
        "colab": {
          "base_uri": "https://localhost:8080/",
          "height": 204
        },
        "id": "VQe5yeQ7OCOt",
        "outputId": "8e483793-7489-46e6-9703-1f9564206062"
      },
      "source": [
        "# 3  Setup  df3\n",
        "bank_train3 = bank_train\n",
        "bank_train3['income'] = bank_train3['income'].replace({'<=50K': 0})\n",
        "bank_train3['income'] = bank_train3['income'].replace({'>50K': 1})\n",
        "bank_train3.head()"
      ],
      "execution_count": 150,
      "outputs": [
        {
          "output_type": "execute_result",
          "data": {
            "text/html": [
              "<div>\n",
              "<style scoped>\n",
              "    .dataframe tbody tr th:only-of-type {\n",
              "        vertical-align: middle;\n",
              "    }\n",
              "\n",
              "    .dataframe tbody tr th {\n",
              "        vertical-align: top;\n",
              "    }\n",
              "\n",
              "    .dataframe thead th {\n",
              "        text-align: right;\n",
              "    }\n",
              "</style>\n",
              "<table border=\"1\" class=\"dataframe\">\n",
              "  <thead>\n",
              "    <tr style=\"text-align: right;\">\n",
              "      <th></th>\n",
              "      <th>age</th>\n",
              "      <th>workclass</th>\n",
              "      <th>education</th>\n",
              "      <th>marital-status</th>\n",
              "      <th>occupation</th>\n",
              "      <th>sex</th>\n",
              "      <th>capital-gain</th>\n",
              "      <th>capital-loss</th>\n",
              "      <th>income</th>\n",
              "      <th>index</th>\n",
              "    </tr>\n",
              "  </thead>\n",
              "  <tbody>\n",
              "    <tr>\n",
              "      <th>0</th>\n",
              "      <td>50</td>\n",
              "      <td>Self-emp-not-inc</td>\n",
              "      <td>13</td>\n",
              "      <td>Married-civ-spouse</td>\n",
              "      <td>Exec-managerial</td>\n",
              "      <td>Male</td>\n",
              "      <td>0</td>\n",
              "      <td>0</td>\n",
              "      <td>0</td>\n",
              "      <td>0</td>\n",
              "    </tr>\n",
              "    <tr>\n",
              "      <th>1</th>\n",
              "      <td>38</td>\n",
              "      <td>Private</td>\n",
              "      <td>9</td>\n",
              "      <td>Divorced</td>\n",
              "      <td>Handlers-cleaners</td>\n",
              "      <td>Male</td>\n",
              "      <td>0</td>\n",
              "      <td>0</td>\n",
              "      <td>0</td>\n",
              "      <td>1</td>\n",
              "    </tr>\n",
              "    <tr>\n",
              "      <th>2</th>\n",
              "      <td>49</td>\n",
              "      <td>Private</td>\n",
              "      <td>5</td>\n",
              "      <td>Married-spouse-absent</td>\n",
              "      <td>Other-service</td>\n",
              "      <td>Female</td>\n",
              "      <td>0</td>\n",
              "      <td>0</td>\n",
              "      <td>0</td>\n",
              "      <td>2</td>\n",
              "    </tr>\n",
              "    <tr>\n",
              "      <th>3</th>\n",
              "      <td>52</td>\n",
              "      <td>Self-emp-not-inc</td>\n",
              "      <td>9</td>\n",
              "      <td>Married-civ-spouse</td>\n",
              "      <td>Exec-managerial</td>\n",
              "      <td>Male</td>\n",
              "      <td>0</td>\n",
              "      <td>0</td>\n",
              "      <td>1</td>\n",
              "      <td>3</td>\n",
              "    </tr>\n",
              "    <tr>\n",
              "      <th>4</th>\n",
              "      <td>31</td>\n",
              "      <td>Private</td>\n",
              "      <td>14</td>\n",
              "      <td>Never-married</td>\n",
              "      <td>Prof-specialty</td>\n",
              "      <td>Female</td>\n",
              "      <td>14084</td>\n",
              "      <td>0</td>\n",
              "      <td>1</td>\n",
              "      <td>4</td>\n",
              "    </tr>\n",
              "  </tbody>\n",
              "</table>\n",
              "</div>"
            ],
            "text/plain": [
              "   age         workclass  education  ... capital-loss income index\n",
              "0   50  Self-emp-not-inc         13  ...            0      0     0\n",
              "1   38           Private          9  ...            0      0     1\n",
              "2   49           Private          5  ...            0      0     2\n",
              "3   52  Self-emp-not-inc          9  ...            0      1     3\n",
              "4   31           Private         14  ...            0      1     4\n",
              "\n",
              "[5 rows x 10 columns]"
            ]
          },
          "metadata": {
            "tags": []
          },
          "execution_count": 150
        }
      ]
    },
    {
      "cell_type": "code",
      "metadata": {
        "colab": {
          "base_uri": "https://localhost:8080/",
          "height": 450
        },
        "id": "No7B177ELhc3",
        "outputId": "572fe433-81a7-4591-d294-7a4c7859e8a9"
      },
      "source": [
        "# 3  Setup  Marital Status and Age\n",
        "### After changing Married Status to Binary we Cross Reference to the Other Variable\n",
        "### Use Crosstab()\n",
        "#CrossTabs\n",
        "crosstab_01 = pd.crosstab(bank_train2['age'], bank_train2['marital-status'])\n",
        "crosstab_01['Total'] = tl.sum(axis=1)\n",
        "crosstab_01.loc['Total'] = tl.sum()\n",
        "crosstab_01"
      ],
      "execution_count": 151,
      "outputs": [
        {
          "output_type": "execute_result",
          "data": {
            "text/html": [
              "<div>\n",
              "<style scoped>\n",
              "    .dataframe tbody tr th:only-of-type {\n",
              "        vertical-align: middle;\n",
              "    }\n",
              "\n",
              "    .dataframe tbody tr th {\n",
              "        vertical-align: top;\n",
              "    }\n",
              "\n",
              "    .dataframe thead th {\n",
              "        text-align: right;\n",
              "    }\n",
              "</style>\n",
              "<table border=\"1\" class=\"dataframe\">\n",
              "  <thead>\n",
              "    <tr style=\"text-align: right;\">\n",
              "      <th>marital-status</th>\n",
              "      <th>0</th>\n",
              "      <th>1</th>\n",
              "      <th>Total</th>\n",
              "    </tr>\n",
              "    <tr>\n",
              "      <th>age</th>\n",
              "      <th></th>\n",
              "      <th></th>\n",
              "      <th></th>\n",
              "    </tr>\n",
              "  </thead>\n",
              "  <tbody>\n",
              "    <tr>\n",
              "      <th>17</th>\n",
              "      <td>187.0</td>\n",
              "      <td>1.0</td>\n",
              "      <td>NaN</td>\n",
              "    </tr>\n",
              "    <tr>\n",
              "      <th>18</th>\n",
              "      <td>234.0</td>\n",
              "      <td>6.0</td>\n",
              "      <td>NaN</td>\n",
              "    </tr>\n",
              "    <tr>\n",
              "      <th>19</th>\n",
              "      <td>315.0</td>\n",
              "      <td>9.0</td>\n",
              "      <td>NaN</td>\n",
              "    </tr>\n",
              "    <tr>\n",
              "      <th>20</th>\n",
              "      <td>319.0</td>\n",
              "      <td>19.0</td>\n",
              "      <td>NaN</td>\n",
              "    </tr>\n",
              "    <tr>\n",
              "      <th>21</th>\n",
              "      <td>294.0</td>\n",
              "      <td>26.0</td>\n",
              "      <td>NaN</td>\n",
              "    </tr>\n",
              "    <tr>\n",
              "      <th>...</th>\n",
              "      <td>...</td>\n",
              "      <td>...</td>\n",
              "      <td>...</td>\n",
              "    </tr>\n",
              "    <tr>\n",
              "      <th>86</th>\n",
              "      <td>1.0</td>\n",
              "      <td>0.0</td>\n",
              "      <td>NaN</td>\n",
              "    </tr>\n",
              "    <tr>\n",
              "      <th>87</th>\n",
              "      <td>1.0</td>\n",
              "      <td>0.0</td>\n",
              "      <td>NaN</td>\n",
              "    </tr>\n",
              "    <tr>\n",
              "      <th>88</th>\n",
              "      <td>1.0</td>\n",
              "      <td>1.0</td>\n",
              "      <td>NaN</td>\n",
              "    </tr>\n",
              "    <tr>\n",
              "      <th>90</th>\n",
              "      <td>13.0</td>\n",
              "      <td>10.0</td>\n",
              "      <td>NaN</td>\n",
              "    </tr>\n",
              "    <tr>\n",
              "      <th>Total</th>\n",
              "      <td>NaN</td>\n",
              "      <td>NaN</td>\n",
              "      <td>29596.0</td>\n",
              "    </tr>\n",
              "  </tbody>\n",
              "</table>\n",
              "<p>74 rows × 3 columns</p>\n",
              "</div>"
            ],
            "text/plain": [
              "marital-status      0     1    Total\n",
              "age                                 \n",
              "17              187.0   1.0      NaN\n",
              "18              234.0   6.0      NaN\n",
              "19              315.0   9.0      NaN\n",
              "20              319.0  19.0      NaN\n",
              "21              294.0  26.0      NaN\n",
              "...               ...   ...      ...\n",
              "86                1.0   0.0      NaN\n",
              "87                1.0   0.0      NaN\n",
              "88                1.0   1.0      NaN\n",
              "90               13.0  10.0      NaN\n",
              "Total             NaN   NaN  29596.0\n",
              "\n",
              "[74 rows x 3 columns]"
            ]
          },
          "metadata": {
            "tags": []
          },
          "execution_count": 151
        }
      ]
    },
    {
      "cell_type": "code",
      "metadata": {
        "id": "i07tRCH5tEsg"
      },
      "source": [
        "### Change or Remove to Change Misleading Field Values Using Python p. 34\n",
        "bank_train['marital-status'] = bank_train['marital-status'].replace({999: np.NaN})"
      ],
      "execution_count": 110,
      "outputs": []
    },
    {
      "cell_type": "code",
      "metadata": {
        "id": "qsdfHvfZtEiv"
      },
      "source": [
        "bank_train2['marital-status'].plot(kind = 'bar', title = 'Histogram of Single and Married Candidates')"
      ],
      "execution_count": null,
      "outputs": []
    },
    {
      "cell_type": "code",
      "metadata": {
        "id": "Zl2OsV-YRl3H"
      },
      "source": [
        "#3a BarGraph of Martial\n",
        "crosstab_01.plot[bank_train2(kind='bar', stacked = True)]"
      ],
      "execution_count": null,
      "outputs": []
    },
    {
      "cell_type": "markdown",
      "metadata": {
        "id": "gl1N2fl7HFuL"
      },
      "source": [
        "# Paul_Valeri Homework Wk 3\n",
        "Please work on the following problems before checking the answers in the next element.\n",
        "\n",
        "# 1 Import libraries and DS  \n",
        "Use this data set. (adult_Training_3)\n",
        "[link text](https://https://raw.githubusercontent.com/vapaul10/DESC624PredictiveAnalytics/Datasets/adult_ch3_training.csv)\n",
        "\n",
        "# 2  Import ssl\n",
        "\n",
        "# 3 Set-up Data to Produce the following graphs. What is the strength of each graph? Weakness?\n",
        "  *3a   Bar graph of marital\n",
        "\n",
        "  *3b   Bar graph of marital, with overlay of response\n",
        "\n",
        "  *3c   Normalized bar graph of marital, with overlay of response\n",
        "\n",
        "  *3d   Using the graph from the previous exercise, describe the relationship between marital and response.\n",
        "\n",
        "  *3e  Strengths of data\n",
        "  \n",
        "  *3f  Weakness of Data\n",
        "\n",
        "#4   Do the following with the variables marital and response.\n",
        "\n",
        "  *4a  Build a contingency table, being careful to have the correct variables representing the rows and columns. Report the counts and the column percentages.\n",
        "\n",
        "  *4b  Describe what the contingency table is telling you.\n",
        "\n",
        "  *4c  Repeat the previous exercise, this time reporting the row percentages.\n",
        "\n",
        "  *4d Explain the difference between the interpretation of this table and the previous contingency table.\n",
        "\n",
        "\n",
        "#5  Produce the following graphs. What is the strength of each graph? Weakness?*\n",
        "  *5a   Histogram of duration.\n",
        "\n",
        "  *5b   Histogram of duration, with overlay of response.\n",
        "  *5c   Normalized histogram of duration, with overlay of response.\n",
        "  *5d   Using the graph from the previous exercise, describe the relationship between duration and response.\n",
        "\n",
        "#6  Examine the nonnormalized and normalized histograms of duration, with overlay of response.\n",
        "  *6a  Identify cutoff point(s) for duration, which separate low values of response from high values.\n",
        "  *6b  Define a new categorical variable, duration_binned, using the cutoff points you identified.\n",
        "  *6c  Provide the following. Describe each of the results.\n",
        "\n",
        "#7  Contingency table of duration_binned with response, with counts and column percentages\n",
        "  *7a  Nonnormalized bar graph of duration_binned, with response overlay.\n",
        "  *7b  Normalized bar graph of duration_binned, with response overlay\n",
        "  *7c  Construct a contingency table of job with response, with counts and column percentages.\n",
        "  *7d  Referring to the previous exercise, do the following:\n",
        "\n",
        "#8  Combine the job categories according to the following response percentages: 0 < 10, 10 < 25, 25 < 33. \n",
        "   *8a  Name the new variable job2.\n",
        "   *8b  Provide a contingency table of job2 with response, with counts and column percentages.\n",
        "   *8c  Describe what you see.\n",
        "   *8d  Provide a normalized histogram of job2 with response. \n",
        "   *8e  Describe the relationship."
      ]
    },
    {
      "cell_type": "markdown",
      "metadata": {
        "id": "DY1yBCUqHEzf"
      },
      "source": [
        ""
      ]
    },
    {
      "cell_type": "code",
      "metadata": {
        "id": "bp79U5TuG2CJ"
      },
      "source": [
        ""
      ],
      "execution_count": null,
      "outputs": []
    }
  ]
}